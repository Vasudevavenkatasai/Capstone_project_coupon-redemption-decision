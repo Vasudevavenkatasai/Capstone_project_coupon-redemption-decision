{
 "cells": [
  {
   "cell_type": "code",
   "execution_count": 1,
   "metadata": {
    "_cell_guid": "b1076dfc-b9ad-4769-8c92-a6c4dae69d19",
    "_uuid": "8f2839f25d086af736a60e9eeb907d3b93b6e0e5"
   },
   "outputs": [
    {
     "name": "stdout",
     "output_type": "stream",
     "text": [
      "/kaggle/input/campaign_data.csv\n",
      "/kaggle/input/test.csv\n",
      "/kaggle/input/Schema.png\n",
      "/kaggle/input/train.csv\n",
      "/kaggle/input/customer_transaction_data.csv\n",
      "/kaggle/input/customer_demographics.csv\n",
      "/kaggle/input/item_data.csv\n",
      "/kaggle/input/smote.csv\n",
      "/kaggle/input/coupon_item_mapping.csv\n",
      "/kaggle/input/final_train.csv\n"
     ]
    }
   ],
   "source": [
    "# This Python 3 environment comes with many helpful analytics libraries installed\n",
    "# It is defined by the kaggle/python docker image: https://github.com/kaggle/docker-python\n",
    "# For example, here's several helpful packages to load in \n",
    "\n",
    "import numpy as np # linear algebra\n",
    "import pandas as pd # data processing, CSV file I/O (e.g. pd.read_csv)\n",
    "\n",
    "# Input data files are available in the \"../input/\" directory.\n",
    "# For example, running this (by clicking run or pressing Shift+Enter) will list all files under the input directory\n",
    "\n",
    "import os\n",
    "for dirname, _, filenames in os.walk('/kaggle/input'):\n",
    "    for filename in filenames:\n",
    "        print(os.path.join(dirname, filename))\n",
    "\n",
    "# Any results you write to the current directory are saved as output."
   ]
  },
  {
   "cell_type": "code",
   "execution_count": 2,
   "metadata": {
    "_cell_guid": "79c7e3d0-c299-4dcb-8224-4455121ee9b0",
    "_uuid": "d629ff2d2480ee46fbb7e2d37f6b5fab8052498a"
   },
   "outputs": [
    {
     "name": "stdout",
     "output_type": "stream",
     "text": [
      "Schema.png\t\t   customer_transaction_data.csv  test.csv\r\n",
      "campaign_data.csv\t   final_train.csv\t\t  train.csv\r\n",
      "coupon_item_mapping.csv    item_data.csv\r\n",
      "customer_demographics.csv  smote.csv\r\n"
     ]
    }
   ],
   "source": [
    "import numpy as np\n",
    "import pandas as pd\n",
    "import matplotlib.pyplot as plt\n",
    "import seaborn as sns\n",
    "import re\n",
    "from sklearn.preprocessing import LabelEncoder\n",
    "from scipy.stats import mode\n",
    "import pandas_profiling\n",
    "from sklearn.decomposition import PCA\n",
    "\n",
    "from sklearn.model_selection import GridSearchCV,RandomizedSearchCV,KFold\n",
    "from sklearn.metrics import classification_report,roc_auc_score,roc_curve\n",
    "from sklearn.model_selection import train_test_split, KFold\n",
    "from sklearn.preprocessing import StandardScaler\n",
    "from sklearn.linear_model import LogisticRegression\n",
    "from sklearn.neighbors import KNeighborsClassifier\n",
    "from sklearn.naive_bayes import GaussianNB\n",
    "from sklearn.tree import DecisionTreeClassifier\n",
    "from sklearn.ensemble import RandomForestClassifier,BaggingClassifier\n",
    "from sklearn.metrics import auc\n",
    "\n",
    "import os\n",
    "%matplotlib inline\n",
    "\n",
    "import warnings\n",
    "warnings.filterwarnings('ignore')\n",
    "\n",
    "pd.set_option('display.max_colwidth',500)\n",
    "pd.set_option('display.max_columns',5000)\n",
    "\n",
    "encoder = LabelEncoder()\n",
    "from IPython.display import Image\n",
    "import os\n",
    "!ls ../input/"
   ]
  },
  {
   "cell_type": "code",
   "execution_count": 3,
   "metadata": {},
   "outputs": [],
   "source": [
    "train = pd.read_csv('../input/train.csv')\n",
    "campaign = pd.read_csv('../input/campaign_data.csv')\n",
    "items = pd.read_csv('../input/item_data.csv')\n",
    "coupons = pd.read_csv('../input/coupon_item_mapping.csv')\n",
    "cust_demo = pd.read_csv('../input/customer_demographics.csv')\n",
    "cust_tran = pd.read_csv('../input/customer_transaction_data.csv')\n",
    "test = pd.read_csv('../input/test.csv')\n",
    "df=pd.read_csv('../input/final_train.csv')\n",
    "data=pd.read_csv('../input/smote.csv')"
   ]
  },
  {
   "cell_type": "code",
   "execution_count": 4,
   "metadata": {},
   "outputs": [
    {
     "data": {
      "text/plain": [
       "((78369, 5),\n",
       " (28, 4),\n",
       " (74066, 4),\n",
       " (92663, 2),\n",
       " (760, 7),\n",
       " (1324566, 7),\n",
       " (50226, 4),\n",
       " (78369, 43),\n",
       " (155280, 42))"
      ]
     },
     "execution_count": 4,
     "metadata": {},
     "output_type": "execute_result"
    }
   ],
   "source": [
    "train.shape, campaign.shape, items.shape, coupons.shape, cust_demo.shape, cust_tran.shape, test.shape,df.shape,data.shape"
   ]
  },
  {
   "cell_type": "code",
   "execution_count": 5,
   "metadata": {},
   "outputs": [
    {
     "name": "stdout",
     "output_type": "stream",
     "text": [
      "Train Dataframe\n",
      "id                   0\n",
      "campaign_id          0\n",
      "coupon_id            0\n",
      "customer_id          0\n",
      "redemption_status    0\n",
      "dtype: int64\n",
      "======================\n",
      "Campaign Dataframe\n",
      "campaign_id      0\n",
      "campaign_type    0\n",
      "start_date       0\n",
      "end_date         0\n",
      "dtype: int64\n",
      "======================\n",
      "Items Dataframe\n",
      "item_id       0\n",
      "brand         0\n",
      "brand_type    0\n",
      "category      0\n",
      "dtype: int64\n",
      "======================\n",
      "Coupons Dataframe\n",
      "coupon_id    0\n",
      "item_id      0\n",
      "dtype: int64\n",
      "======================\n",
      "Customer Demographics Dataframe\n",
      "customer_id         0\n",
      "age_range           0\n",
      "marital_status    329\n",
      "rented              0\n",
      "family_size         0\n",
      "no_of_children    538\n",
      "income_bracket      0\n",
      "dtype: int64\n",
      "======================\n",
      "Customer Transaction Dataframe\n",
      "date               0\n",
      "customer_id        0\n",
      "item_id            0\n",
      "quantity           0\n",
      "selling_price      0\n",
      "other_discount     0\n",
      "coupon_discount    0\n",
      "dtype: int64\n",
      "======================\n",
      "id             0\n",
      "campaign_id    0\n",
      "coupon_id      0\n",
      "customer_id    0\n",
      "dtype: int64\n",
      "======================\n",
      "Unnamed: 0             0\n",
      "coupon_id              0\n",
      "customer_id            0\n",
      "redemption_status      0\n",
      "brand                  0\n",
      "brand_type             0\n",
      "category               0\n",
      "cd_sum                 0\n",
      "coupon_discount_x      0\n",
      "coupon_used_x          0\n",
      "item_counts            0\n",
      "no_of_customers        0\n",
      "od_sum                 0\n",
      "other_discount_x       0\n",
      "price_sum              0\n",
      "qu_sum                 0\n",
      "quantity_x             0\n",
      "selling_price_x        0\n",
      "t_counts               0\n",
      "total_discount_mean    0\n",
      "total_discount_sum     0\n",
      "campaign_type          0\n",
      "campaign_duration      0\n",
      "age_range              0\n",
      "marital_status         0\n",
      "rented                 0\n",
      "family_size            0\n",
      "no_of_children         0\n",
      "income_bracket         0\n",
      "coupon_discount_y      0\n",
      "coupon_used_y          0\n",
      "day                    0\n",
      "dow                    0\n",
      "no_of_items            0\n",
      "month                  0\n",
      "other_discount_y       0\n",
      "quantity_y             0\n",
      "selling_price_y        0\n",
      "cdd_sum                0\n",
      "customer_id_count      0\n",
      "odd_sum                0\n",
      "qa_sum                 0\n",
      "pprice_sum             0\n",
      "dtype: int64\n",
      "======================\n",
      "coupon_id              0\n",
      "customer_id            0\n",
      "brand                  0\n",
      "brand_type             0\n",
      "category               0\n",
      "cd_sum                 0\n",
      "coupon_discount_x      0\n",
      "coupon_used_x          0\n",
      "item_counts            0\n",
      "no_of_customers        0\n",
      "od_sum                 0\n",
      "other_discount_x       0\n",
      "price_sum              0\n",
      "qu_sum                 0\n",
      "quantity_x             0\n",
      "selling_price_x        0\n",
      "t_counts               0\n",
      "total_discount_mean    0\n",
      "total_discount_sum     0\n",
      "campaign_type          0\n",
      "campaign_duration      0\n",
      "age_range              0\n",
      "marital_status         0\n",
      "rented                 0\n",
      "family_size            0\n",
      "no_of_children         0\n",
      "income_bracket         0\n",
      "coupon_discount_y      0\n",
      "coupon_used_y          0\n",
      "day                    0\n",
      "dow                    0\n",
      "no_of_items            0\n",
      "month                  0\n",
      "other_discount_y       0\n",
      "quantity_y             0\n",
      "selling_price_y        0\n",
      "cdd_sum                0\n",
      "customer_id_count      0\n",
      "odd_sum                0\n",
      "qa_sum                 0\n",
      "pprice_sum             0\n",
      "redemption_status      0\n",
      "dtype: int64\n"
     ]
    }
   ],
   "source": [
    "print('Train Dataframe')\n",
    "print(train.isnull().sum())\n",
    "print('======================')\n",
    "print('Campaign Dataframe')\n",
    "print(campaign.isnull().sum())\n",
    "print('======================')\n",
    "print('Items Dataframe')\n",
    "print(items.isnull().sum())\n",
    "print('======================')\n",
    "print('Coupons Dataframe')\n",
    "print(coupons.isnull().sum())\n",
    "print('======================')\n",
    "print('Customer Demographics Dataframe')\n",
    "print(cust_demo.isnull().sum())\n",
    "print('======================')\n",
    "print('Customer Transaction Dataframe')\n",
    "print(cust_tran.isnull().sum())\n",
    "print('======================')\n",
    "\n",
    "print(test.isnull().sum())\n",
    "print('======================')\n",
    "print(df.isnull().sum())\n",
    "print('======================')\n",
    "print(data.isnull().sum())"
   ]
  },
  {
   "cell_type": "code",
   "execution_count": 6,
   "metadata": {},
   "outputs": [
    {
     "data": {
      "image/png": "[encoded data removed]",
      "text/plain": [
       "<IPython.core.display.Image object>"
      ]
     },
     "execution_count": 6,
     "metadata": {},
     "output_type": "execute_result"
    }
   ],
   "source": [
    "Image(\"../input/Schema.png\")"
   ]
  },
  {
   "cell_type": "markdown",
   "metadata": {},
   "source": [
    "All datasets merged by following steps:\n",
    "\n",
    "1. Merge coupon item data and items data on item_id\n",
    "2. Aggregate transactions by item_id\n",
    "3. Merge 1 and 2 on item_id\n",
    "4. Aggregate 3 on coupon_id\n",
    "5. Merge 4 and train on coupon_id\n",
    "6. Aggregate transactions on customer_id\n",
    "7. Merge 5 with campaign data on campaign_id\n",
    "8. Merge 7 with customer demographic data on customer_id\n",
    "9. Merge 6 with 8 on customer_id respectively"
   ]
  },
  {
   "cell_type": "code",
   "execution_count": 7,
   "metadata": {},
   "outputs": [
    {
     "data": {
      "text/html": [
       "<div>\n",
       "<style scoped>\n",
       "    .dataframe tbody tr th:only-of-type {\n",
       "        vertical-align: middle;\n",
       "    }\n",
       "\n",
       "    .dataframe tbody tr th {\n",
       "        vertical-align: top;\n",
       "    }\n",
       "\n",
       "    .dataframe thead th {\n",
       "        text-align: right;\n",
       "    }\n",
       "</style>\n",
       "<table border=\"1\" class=\"dataframe\">\n",
       "  <thead>\n",
       "    <tr style=\"text-align: right;\">\n",
       "      <th></th>\n",
       "      <th>coupon_id</th>\n",
       "      <th>customer_id</th>\n",
       "      <th>redemption_status</th>\n",
       "      <th>brand</th>\n",
       "      <th>brand_type</th>\n",
       "      <th>category</th>\n",
       "      <th>cd_sum</th>\n",
       "      <th>coupon_discount_x</th>\n",
       "      <th>coupon_used_x</th>\n",
       "      <th>item_counts</th>\n",
       "      <th>no_of_customers</th>\n",
       "      <th>od_sum</th>\n",
       "      <th>other_discount_x</th>\n",
       "      <th>price_sum</th>\n",
       "      <th>qu_sum</th>\n",
       "      <th>quantity_x</th>\n",
       "      <th>selling_price_x</th>\n",
       "      <th>t_counts</th>\n",
       "      <th>total_discount_mean</th>\n",
       "      <th>total_discount_sum</th>\n",
       "      <th>campaign_type</th>\n",
       "      <th>campaign_duration</th>\n",
       "      <th>age_range</th>\n",
       "      <th>marital_status</th>\n",
       "      <th>rented</th>\n",
       "      <th>family_size</th>\n",
       "      <th>no_of_children</th>\n",
       "      <th>income_bracket</th>\n",
       "      <th>coupon_discount_y</th>\n",
       "      <th>coupon_used_y</th>\n",
       "      <th>day</th>\n",
       "      <th>dow</th>\n",
       "      <th>no_of_items</th>\n",
       "      <th>month</th>\n",
       "      <th>other_discount_y</th>\n",
       "      <th>quantity_y</th>\n",
       "      <th>selling_price_y</th>\n",
       "      <th>cdd_sum</th>\n",
       "      <th>customer_id_count</th>\n",
       "      <th>odd_sum</th>\n",
       "      <th>qa_sum</th>\n",
       "      <th>pprice_sum</th>\n",
       "    </tr>\n",
       "  </thead>\n",
       "  <tbody>\n",
       "    <tr>\n",
       "      <th>0</th>\n",
       "      <td>27</td>\n",
       "      <td>1053</td>\n",
       "      <td>0</td>\n",
       "      <td>1105</td>\n",
       "      <td>0</td>\n",
       "      <td>6</td>\n",
       "      <td>-5349.93</td>\n",
       "      <td>-1.241694</td>\n",
       "      <td>191.0</td>\n",
       "      <td>125</td>\n",
       "      <td>19.224000</td>\n",
       "      <td>-177447.090167</td>\n",
       "      <td>-44.367382</td>\n",
       "      <td>436274.446738</td>\n",
       "      <td>4661.0</td>\n",
       "      <td>1.169768</td>\n",
       "      <td>117.276864</td>\n",
       "      <td>3713.0</td>\n",
       "      <td>-45.609077</td>\n",
       "      <td>-182797.020167</td>\n",
       "      <td>0</td>\n",
       "      <td>47</td>\n",
       "      <td>3.0</td>\n",
       "      <td>1.0</td>\n",
       "      <td>0.0</td>\n",
       "      <td>1.0</td>\n",
       "      <td>0.0</td>\n",
       "      <td>5.0</td>\n",
       "      <td>-0.287258</td>\n",
       "      <td>1</td>\n",
       "      <td>11</td>\n",
       "      <td>2</td>\n",
       "      <td>208</td>\n",
       "      <td>5</td>\n",
       "      <td>-25.583099</td>\n",
       "      <td>340.487097</td>\n",
       "      <td>163.966826</td>\n",
       "      <td>-89.05</td>\n",
       "      <td>310</td>\n",
       "      <td>-7930.760842</td>\n",
       "      <td>105551</td>\n",
       "      <td>50829.715972</td>\n",
       "    </tr>\n",
       "    <tr>\n",
       "      <th>1</th>\n",
       "      <td>116</td>\n",
       "      <td>48</td>\n",
       "      <td>0</td>\n",
       "      <td>56</td>\n",
       "      <td>1</td>\n",
       "      <td>6</td>\n",
       "      <td>0.00</td>\n",
       "      <td>0.000000</td>\n",
       "      <td>0.0</td>\n",
       "      <td>3</td>\n",
       "      <td>20.333333</td>\n",
       "      <td>-586.140000</td>\n",
       "      <td>-10.207037</td>\n",
       "      <td>5323.510000</td>\n",
       "      <td>86.0</td>\n",
       "      <td>1.050926</td>\n",
       "      <td>70.885046</td>\n",
       "      <td>75.0</td>\n",
       "      <td>-10.207037</td>\n",
       "      <td>-586.140000</td>\n",
       "      <td>0</td>\n",
       "      <td>47</td>\n",
       "      <td>2.0</td>\n",
       "      <td>0.0</td>\n",
       "      <td>0.0</td>\n",
       "      <td>2.0</td>\n",
       "      <td>0.0</td>\n",
       "      <td>3.0</td>\n",
       "      <td>-3.215039</td>\n",
       "      <td>12</td>\n",
       "      <td>4</td>\n",
       "      <td>5</td>\n",
       "      <td>244</td>\n",
       "      <td>6</td>\n",
       "      <td>-20.013685</td>\n",
       "      <td>31.540260</td>\n",
       "      <td>188.638474</td>\n",
       "      <td>-1237.79</td>\n",
       "      <td>385</td>\n",
       "      <td>-7705.268702</td>\n",
       "      <td>12143</td>\n",
       "      <td>72625.812434</td>\n",
       "    </tr>\n",
       "    <tr>\n",
       "      <th>2</th>\n",
       "      <td>635</td>\n",
       "      <td>205</td>\n",
       "      <td>0</td>\n",
       "      <td>560</td>\n",
       "      <td>0</td>\n",
       "      <td>11</td>\n",
       "      <td>-605.54</td>\n",
       "      <td>-2.987321</td>\n",
       "      <td>15.0</td>\n",
       "      <td>67</td>\n",
       "      <td>1.761194</td>\n",
       "      <td>-12475.083333</td>\n",
       "      <td>-76.767366</td>\n",
       "      <td>48980.998333</td>\n",
       "      <td>202.0</td>\n",
       "      <td>1.353802</td>\n",
       "      <td>342.826195</td>\n",
       "      <td>142.0</td>\n",
       "      <td>-79.754687</td>\n",
       "      <td>-13080.623333</td>\n",
       "      <td>1</td>\n",
       "      <td>32</td>\n",
       "      <td>3.0</td>\n",
       "      <td>0.0</td>\n",
       "      <td>0.0</td>\n",
       "      <td>2.0</td>\n",
       "      <td>0.0</td>\n",
       "      <td>7.0</td>\n",
       "      <td>-2.212082</td>\n",
       "      <td>85</td>\n",
       "      <td>27</td>\n",
       "      <td>2</td>\n",
       "      <td>533</td>\n",
       "      <td>3</td>\n",
       "      <td>-12.873370</td>\n",
       "      <td>1.392784</td>\n",
       "      <td>112.067666</td>\n",
       "      <td>-2145.72</td>\n",
       "      <td>970</td>\n",
       "      <td>-12487.169143</td>\n",
       "      <td>1351</td>\n",
       "      <td>108705.636349</td>\n",
       "    </tr>\n",
       "    <tr>\n",
       "      <th>3</th>\n",
       "      <td>644</td>\n",
       "      <td>1050</td>\n",
       "      <td>0</td>\n",
       "      <td>611</td>\n",
       "      <td>0</td>\n",
       "      <td>6</td>\n",
       "      <td>-17.81</td>\n",
       "      <td>-4.452500</td>\n",
       "      <td>1.0</td>\n",
       "      <td>4</td>\n",
       "      <td>3.500000</td>\n",
       "      <td>-260.750000</td>\n",
       "      <td>-4.451964</td>\n",
       "      <td>3697.783333</td>\n",
       "      <td>47.0</td>\n",
       "      <td>1.110390</td>\n",
       "      <td>88.694903</td>\n",
       "      <td>39.0</td>\n",
       "      <td>-8.904464</td>\n",
       "      <td>-278.560000</td>\n",
       "      <td>0</td>\n",
       "      <td>47</td>\n",
       "      <td>3.0</td>\n",
       "      <td>0.0</td>\n",
       "      <td>0.0</td>\n",
       "      <td>2.0</td>\n",
       "      <td>0.0</td>\n",
       "      <td>5.0</td>\n",
       "      <td>-0.751477</td>\n",
       "      <td>2</td>\n",
       "      <td>9</td>\n",
       "      <td>4</td>\n",
       "      <td>216</td>\n",
       "      <td>8</td>\n",
       "      <td>-12.880868</td>\n",
       "      <td>1.291139</td>\n",
       "      <td>100.896997</td>\n",
       "      <td>-178.10</td>\n",
       "      <td>237</td>\n",
       "      <td>-3052.765833</td>\n",
       "      <td>306</td>\n",
       "      <td>23912.588333</td>\n",
       "    </tr>\n",
       "    <tr>\n",
       "      <th>4</th>\n",
       "      <td>1017</td>\n",
       "      <td>1489</td>\n",
       "      <td>0</td>\n",
       "      <td>1558</td>\n",
       "      <td>0</td>\n",
       "      <td>6</td>\n",
       "      <td>-569.92</td>\n",
       "      <td>-0.198055</td>\n",
       "      <td>23.0</td>\n",
       "      <td>32</td>\n",
       "      <td>27.312500</td>\n",
       "      <td>-46796.046667</td>\n",
       "      <td>-30.665116</td>\n",
       "      <td>289181.848333</td>\n",
       "      <td>1610.0</td>\n",
       "      <td>1.071044</td>\n",
       "      <td>200.991719</td>\n",
       "      <td>1420.0</td>\n",
       "      <td>-30.863170</td>\n",
       "      <td>-47365.966667</td>\n",
       "      <td>0</td>\n",
       "      <td>48</td>\n",
       "      <td>3.0</td>\n",
       "      <td>0.0</td>\n",
       "      <td>0.0</td>\n",
       "      <td>2.0</td>\n",
       "      <td>0.0</td>\n",
       "      <td>3.0</td>\n",
       "      <td>-0.471548</td>\n",
       "      <td>10</td>\n",
       "      <td>2</td>\n",
       "      <td>4</td>\n",
       "      <td>327</td>\n",
       "      <td>5</td>\n",
       "      <td>-12.264174</td>\n",
       "      <td>247.443060</td>\n",
       "      <td>85.016352</td>\n",
       "      <td>-265.01</td>\n",
       "      <td>562</td>\n",
       "      <td>-6892.466021</td>\n",
       "      <td>139063</td>\n",
       "      <td>47779.189609</td>\n",
       "    </tr>\n",
       "  </tbody>\n",
       "</table>\n",
       "</div>"
      ],
      "text/plain": [
       "   coupon_id  customer_id  redemption_status  brand  brand_type  category  \\\n",
       "0         27         1053                  0   1105           0         6   \n",
       "1        116           48                  0     56           1         6   \n",
       "2        635          205                  0    560           0        11   \n",
       "3        644         1050                  0    611           0         6   \n",
       "4       1017         1489                  0   1558           0         6   \n",
       "\n",
       "    cd_sum  coupon_discount_x  coupon_used_x  item_counts  no_of_customers  \\\n",
       "0 -5349.93          -1.241694          191.0          125        19.224000   \n",
       "1     0.00           0.000000            0.0            3        20.333333   \n",
       "2  -605.54          -2.987321           15.0           67         1.761194   \n",
       "3   -17.81          -4.452500            1.0            4         3.500000   \n",
       "4  -569.92          -0.198055           23.0           32        27.312500   \n",
       "\n",
       "          od_sum  other_discount_x      price_sum  qu_sum  quantity_x  \\\n",
       "0 -177447.090167        -44.367382  436274.446738  4661.0    1.169768   \n",
       "1    -586.140000        -10.207037    5323.510000    86.0    1.050926   \n",
       "2  -12475.083333        -76.767366   48980.998333   202.0    1.353802   \n",
       "3    -260.750000         -4.451964    3697.783333    47.0    1.110390   \n",
       "4  -46796.046667        -30.665116  289181.848333  1610.0    1.071044   \n",
       "\n",
       "   selling_price_x  t_counts  total_discount_mean  total_discount_sum  \\\n",
       "0       117.276864    3713.0           -45.609077      -182797.020167   \n",
       "1        70.885046      75.0           -10.207037         -586.140000   \n",
       "2       342.826195     142.0           -79.754687       -13080.623333   \n",
       "3        88.694903      39.0            -8.904464         -278.560000   \n",
       "4       200.991719    1420.0           -30.863170       -47365.966667   \n",
       "\n",
       "   campaign_type  campaign_duration  age_range  marital_status  rented  \\\n",
       "0              0                 47        3.0             1.0     0.0   \n",
       "1              0                 47        2.0             0.0     0.0   \n",
       "2              1                 32        3.0             0.0     0.0   \n",
       "3              0                 47        3.0             0.0     0.0   \n",
       "4              0                 48        3.0             0.0     0.0   \n",
       "\n",
       "   family_size  no_of_children  income_bracket  coupon_discount_y  \\\n",
       "0          1.0             0.0             5.0          -0.287258   \n",
       "1          2.0             0.0             3.0          -3.215039   \n",
       "2          2.0             0.0             7.0          -2.212082   \n",
       "3          2.0             0.0             5.0          -0.751477   \n",
       "4          2.0             0.0             3.0          -0.471548   \n",
       "\n",
       "   coupon_used_y  day  dow  no_of_items  month  other_discount_y  quantity_y  \\\n",
       "0              1   11    2          208      5        -25.583099  340.487097   \n",
       "1             12    4    5          244      6        -20.013685   31.540260   \n",
       "2             85   27    2          533      3        -12.873370    1.392784   \n",
       "3              2    9    4          216      8        -12.880868    1.291139   \n",
       "4             10    2    4          327      5        -12.264174  247.443060   \n",
       "\n",
       "   selling_price_y  cdd_sum  customer_id_count       odd_sum  qa_sum  \\\n",
       "0       163.966826   -89.05                310  -7930.760842  105551   \n",
       "1       188.638474 -1237.79                385  -7705.268702   12143   \n",
       "2       112.067666 -2145.72                970 -12487.169143    1351   \n",
       "3       100.896997  -178.10                237  -3052.765833     306   \n",
       "4        85.016352  -265.01                562  -6892.466021  139063   \n",
       "\n",
       "      pprice_sum  \n",
       "0   50829.715972  \n",
       "1   72625.812434  \n",
       "2  108705.636349  \n",
       "3   23912.588333  \n",
       "4   47779.189609  "
      ]
     },
     "execution_count": 7,
     "metadata": {},
     "output_type": "execute_result"
    }
   ],
   "source": [
    "df.drop(columns=['Unnamed: 0'],inplace=True)\n",
    "df.head()"
   ]
  },
  {
   "cell_type": "code",
   "execution_count": 8,
   "metadata": {},
   "outputs": [
    {
     "data": {
      "text/plain": [
       "(78369, 42)"
      ]
     },
     "execution_count": 8,
     "metadata": {},
     "output_type": "execute_result"
    }
   ],
   "source": [
    "df.shape"
   ]
  },
  {
   "cell_type": "code",
   "execution_count": 9,
   "metadata": {},
   "outputs": [
    {
     "data": {
      "text/plain": [
       "Index(['coupon_id', 'customer_id', 'redemption_status', 'brand', 'brand_type',\n",
       "       'category', 'cd_sum', 'coupon_discount_x', 'coupon_used_x',\n",
       "       'item_counts', 'no_of_customers', 'od_sum', 'other_discount_x',\n",
       "       'price_sum', 'qu_sum', 'quantity_x', 'selling_price_x', 't_counts',\n",
       "       'total_discount_mean', 'total_discount_sum', 'campaign_type',\n",
       "       'campaign_duration', 'age_range', 'marital_status', 'rented',\n",
       "       'family_size', 'no_of_children', 'income_bracket', 'coupon_discount_y',\n",
       "       'coupon_used_y', 'day', 'dow', 'no_of_items', 'month',\n",
       "       'other_discount_y', 'quantity_y', 'selling_price_y', 'cdd_sum',\n",
       "       'customer_id_count', 'odd_sum', 'qa_sum', 'pprice_sum'],\n",
       "      dtype='object')"
      ]
     },
     "execution_count": 9,
     "metadata": {},
     "output_type": "execute_result"
    }
   ],
   "source": [
    "df.columns"
   ]
  },
  {
   "cell_type": "code",
   "execution_count": 10,
   "metadata": {},
   "outputs": [
    {
     "name": "stderr",
     "output_type": "stream",
     "text": [
      "Using TensorFlow backend.\n"
     ]
    }
   ],
   "source": [
    "from imblearn.under_sampling import ClusterCentroids\n",
    "y = df.redemption_status\n",
    "x = df.drop('redemption_status', axis=1)\n",
    "\n",
    "# Standardizig the Data\n",
    "col_names = ['cd_sum','coupon_discount_x', 'coupon_used_x', 'item_counts', 'no_of_customers',\n",
    "       'od_sum', 'other_discount_x', 'price_sum', 'qu_sum', 'quantity_x',\n",
    "       'selling_price_x', 't_counts', 'total_discount_mean',\n",
    "       'total_discount_sum', 'campaign_type', 'campaign_duration',\n",
    "        'family_size', 'no_of_children',\n",
    "       'income_bracket', 'coupon_discount_y', 'coupon_used_y',\n",
    "       'no_of_items', 'other_discount_y', 'quantity_y',\n",
    "       'selling_price_y', 'cdd_sum', 'customer_id_count', 'odd_sum', 'qa_sum',\n",
    "       'pprice_sum']\n",
    "features = x[col_names]\n",
    "scaler = StandardScaler().fit(features.values)\n",
    "features = scaler.transform(features.values)\n",
    "x[col_names] = features\n",
    "\n",
    "\n",
    "# setting up testing and training sets\n",
    "x_train, x_test, y_train, y_test = train_test_split(x, y, test_size=0.3, random_state=1990)\n",
    "cc = ClusterCentroids(random_state=0)\n",
    "x, y = cc.fit_resample(x, y)"
   ]
  },
  {
   "cell_type": "code",
   "execution_count": 11,
   "metadata": {},
   "outputs": [
    {
     "data": {
      "text/html": [
       "<div>\n",
       "<style scoped>\n",
       "    .dataframe tbody tr th:only-of-type {\n",
       "        vertical-align: middle;\n",
       "    }\n",
       "\n",
       "    .dataframe tbody tr th {\n",
       "        vertical-align: top;\n",
       "    }\n",
       "\n",
       "    .dataframe thead th {\n",
       "        text-align: right;\n",
       "    }\n",
       "</style>\n",
       "<table border=\"1\" class=\"dataframe\">\n",
       "  <thead>\n",
       "    <tr style=\"text-align: right;\">\n",
       "      <th></th>\n",
       "      <th>0</th>\n",
       "      <th>1</th>\n",
       "      <th>2</th>\n",
       "      <th>3</th>\n",
       "      <th>4</th>\n",
       "      <th>5</th>\n",
       "      <th>6</th>\n",
       "      <th>7</th>\n",
       "      <th>8</th>\n",
       "      <th>9</th>\n",
       "      <th>10</th>\n",
       "      <th>11</th>\n",
       "      <th>12</th>\n",
       "      <th>13</th>\n",
       "      <th>14</th>\n",
       "      <th>15</th>\n",
       "      <th>16</th>\n",
       "      <th>17</th>\n",
       "      <th>18</th>\n",
       "      <th>19</th>\n",
       "      <th>20</th>\n",
       "      <th>21</th>\n",
       "      <th>22</th>\n",
       "      <th>23</th>\n",
       "      <th>24</th>\n",
       "      <th>25</th>\n",
       "      <th>26</th>\n",
       "      <th>27</th>\n",
       "      <th>28</th>\n",
       "      <th>29</th>\n",
       "      <th>30</th>\n",
       "      <th>31</th>\n",
       "      <th>32</th>\n",
       "      <th>33</th>\n",
       "      <th>34</th>\n",
       "      <th>35</th>\n",
       "      <th>36</th>\n",
       "      <th>37</th>\n",
       "      <th>38</th>\n",
       "      <th>39</th>\n",
       "      <th>40</th>\n",
       "    </tr>\n",
       "  </thead>\n",
       "  <tbody>\n",
       "    <tr>\n",
       "      <th>0</th>\n",
       "      <td>127.580756</td>\n",
       "      <td>25.721649</td>\n",
       "      <td>55.536082</td>\n",
       "      <td>9.896907e-01</td>\n",
       "      <td>6.233677</td>\n",
       "      <td>0.189651</td>\n",
       "      <td>0.376284</td>\n",
       "      <td>-0.198451</td>\n",
       "      <td>-0.114745</td>\n",
       "      <td>0.927973</td>\n",
       "      <td>0.123530</td>\n",
       "      <td>0.101451</td>\n",
       "      <td>-0.132128</td>\n",
       "      <td>-0.118346</td>\n",
       "      <td>-0.069631</td>\n",
       "      <td>-0.300703</td>\n",
       "      <td>-0.119187</td>\n",
       "      <td>0.192441</td>\n",
       "      <td>0.126403</td>\n",
       "      <td>-0.279172</td>\n",
       "      <td>0.044478</td>\n",
       "      <td>2.965636</td>\n",
       "      <td>0.202749</td>\n",
       "      <td>0.024055</td>\n",
       "      <td>0.076024</td>\n",
       "      <td>0.065384</td>\n",
       "      <td>-0.098009</td>\n",
       "      <td>-0.262443</td>\n",
       "      <td>0.076181</td>\n",
       "      <td>15.000000</td>\n",
       "      <td>3.508591</td>\n",
       "      <td>-0.331298</td>\n",
       "      <td>4.855670</td>\n",
       "      <td>0.088307</td>\n",
       "      <td>0.163553</td>\n",
       "      <td>0.206298</td>\n",
       "      <td>-0.133415</td>\n",
       "      <td>-0.282448</td>\n",
       "      <td>0.284533</td>\n",
       "      <td>0.096641</td>\n",
       "      <td>-0.252933</td>\n",
       "    </tr>\n",
       "    <tr>\n",
       "      <th>1</th>\n",
       "      <td>258.883495</td>\n",
       "      <td>692.543689</td>\n",
       "      <td>4317.864078</td>\n",
       "      <td>-2.498002e-16</td>\n",
       "      <td>11.145631</td>\n",
       "      <td>0.197106</td>\n",
       "      <td>0.381745</td>\n",
       "      <td>-0.203713</td>\n",
       "      <td>-0.119527</td>\n",
       "      <td>-0.783603</td>\n",
       "      <td>0.154015</td>\n",
       "      <td>0.202812</td>\n",
       "      <td>-0.156372</td>\n",
       "      <td>-0.160258</td>\n",
       "      <td>-0.489455</td>\n",
       "      <td>0.891124</td>\n",
       "      <td>-0.163158</td>\n",
       "      <td>0.288332</td>\n",
       "      <td>0.156348</td>\n",
       "      <td>-0.378557</td>\n",
       "      <td>0.428994</td>\n",
       "      <td>2.689320</td>\n",
       "      <td>0.155340</td>\n",
       "      <td>0.048544</td>\n",
       "      <td>0.123720</td>\n",
       "      <td>0.056697</td>\n",
       "      <td>-0.203146</td>\n",
       "      <td>0.259682</td>\n",
       "      <td>-0.213778</td>\n",
       "      <td>14.135922</td>\n",
       "      <td>3.446602</td>\n",
       "      <td>-0.210554</td>\n",
       "      <td>4.679612</td>\n",
       "      <td>0.232485</td>\n",
       "      <td>-0.153586</td>\n",
       "      <td>-0.087222</td>\n",
       "      <td>0.226061</td>\n",
       "      <td>-0.133609</td>\n",
       "      <td>0.237596</td>\n",
       "      <td>-0.143424</td>\n",
       "      <td>-0.146006</td>\n",
       "    </tr>\n",
       "    <tr>\n",
       "      <th>2</th>\n",
       "      <td>826.828358</td>\n",
       "      <td>842.552239</td>\n",
       "      <td>1000.656716</td>\n",
       "      <td>-5.273559e-16</td>\n",
       "      <td>10.141791</td>\n",
       "      <td>0.114760</td>\n",
       "      <td>0.027234</td>\n",
       "      <td>-0.099295</td>\n",
       "      <td>-0.088604</td>\n",
       "      <td>-0.202156</td>\n",
       "      <td>0.081119</td>\n",
       "      <td>-0.197173</td>\n",
       "      <td>-0.098724</td>\n",
       "      <td>-0.122344</td>\n",
       "      <td>0.049212</td>\n",
       "      <td>-0.028470</td>\n",
       "      <td>-0.122146</td>\n",
       "      <td>-0.176682</td>\n",
       "      <td>0.082696</td>\n",
       "      <td>-0.260204</td>\n",
       "      <td>0.010495</td>\n",
       "      <td>2.932836</td>\n",
       "      <td>0.201493</td>\n",
       "      <td>0.089552</td>\n",
       "      <td>-0.077388</td>\n",
       "      <td>-0.104795</td>\n",
       "      <td>-0.239573</td>\n",
       "      <td>0.095685</td>\n",
       "      <td>-0.052203</td>\n",
       "      <td>15.082090</td>\n",
       "      <td>2.843284</td>\n",
       "      <td>-0.141972</td>\n",
       "      <td>4.708955</td>\n",
       "      <td>-0.231920</td>\n",
       "      <td>-0.223551</td>\n",
       "      <td>-0.085445</td>\n",
       "      <td>0.120230</td>\n",
       "      <td>-0.136523</td>\n",
       "      <td>0.015384</td>\n",
       "      <td>-0.172611</td>\n",
       "      <td>-0.158841</td>\n",
       "    </tr>\n",
       "    <tr>\n",
       "      <th>3</th>\n",
       "      <td>319.306569</td>\n",
       "      <td>969.043796</td>\n",
       "      <td>50.576642</td>\n",
       "      <td>7.883212e-01</td>\n",
       "      <td>7.350365</td>\n",
       "      <td>0.180266</td>\n",
       "      <td>0.218899</td>\n",
       "      <td>-0.193412</td>\n",
       "      <td>-0.112383</td>\n",
       "      <td>0.586560</td>\n",
       "      <td>0.105507</td>\n",
       "      <td>0.024669</td>\n",
       "      <td>-0.130848</td>\n",
       "      <td>-0.118109</td>\n",
       "      <td>0.555275</td>\n",
       "      <td>-0.324627</td>\n",
       "      <td>-0.121793</td>\n",
       "      <td>0.079937</td>\n",
       "      <td>0.108543</td>\n",
       "      <td>-0.416662</td>\n",
       "      <td>-0.186081</td>\n",
       "      <td>2.817518</td>\n",
       "      <td>0.145985</td>\n",
       "      <td>0.007299</td>\n",
       "      <td>-0.263304</td>\n",
       "      <td>-0.390170</td>\n",
       "      <td>-0.062166</td>\n",
       "      <td>0.066888</td>\n",
       "      <td>-0.310118</td>\n",
       "      <td>18.080292</td>\n",
       "      <td>3.000000</td>\n",
       "      <td>-0.239049</td>\n",
       "      <td>4.474453</td>\n",
       "      <td>-0.175148</td>\n",
       "      <td>0.171375</td>\n",
       "      <td>0.170465</td>\n",
       "      <td>0.301148</td>\n",
       "      <td>-0.275120</td>\n",
       "      <td>0.272964</td>\n",
       "      <td>0.248874</td>\n",
       "      <td>-0.193061</td>\n",
       "    </tr>\n",
       "    <tr>\n",
       "      <th>4</th>\n",
       "      <td>1000.012048</td>\n",
       "      <td>325.819277</td>\n",
       "      <td>1460.156627</td>\n",
       "      <td>2.775558e-17</td>\n",
       "      <td>9.060241</td>\n",
       "      <td>0.071372</td>\n",
       "      <td>-0.088071</td>\n",
       "      <td>-0.114041</td>\n",
       "      <td>-0.096961</td>\n",
       "      <td>-0.009147</td>\n",
       "      <td>0.123938</td>\n",
       "      <td>-0.296016</td>\n",
       "      <td>-0.133073</td>\n",
       "      <td>-0.137275</td>\n",
       "      <td>0.060779</td>\n",
       "      <td>0.193445</td>\n",
       "      <td>-0.138667</td>\n",
       "      <td>-0.298801</td>\n",
       "      <td>0.123041</td>\n",
       "      <td>-0.325480</td>\n",
       "      <td>-0.094141</td>\n",
       "      <td>2.542169</td>\n",
       "      <td>0.265060</td>\n",
       "      <td>0.036145</td>\n",
       "      <td>0.002640</td>\n",
       "      <td>0.053132</td>\n",
       "      <td>0.097177</td>\n",
       "      <td>-0.049011</td>\n",
       "      <td>-0.008566</td>\n",
       "      <td>16.951807</td>\n",
       "      <td>2.939759</td>\n",
       "      <td>-0.173514</td>\n",
       "      <td>5.036145</td>\n",
       "      <td>-0.187354</td>\n",
       "      <td>-0.042822</td>\n",
       "      <td>0.065915</td>\n",
       "      <td>0.007618</td>\n",
       "      <td>-0.275021</td>\n",
       "      <td>0.201998</td>\n",
       "      <td>-0.142681</td>\n",
       "      <td>-0.240970</td>\n",
       "    </tr>\n",
       "  </tbody>\n",
       "</table>\n",
       "</div>"
      ],
      "text/plain": [
       "             0           1            2             3          4         5  \\\n",
       "0   127.580756   25.721649    55.536082  9.896907e-01   6.233677  0.189651   \n",
       "1   258.883495  692.543689  4317.864078 -2.498002e-16  11.145631  0.197106   \n",
       "2   826.828358  842.552239  1000.656716 -5.273559e-16  10.141791  0.114760   \n",
       "3   319.306569  969.043796    50.576642  7.883212e-01   7.350365  0.180266   \n",
       "4  1000.012048  325.819277  1460.156627  2.775558e-17   9.060241  0.071372   \n",
       "\n",
       "          6         7         8         9        10        11        12  \\\n",
       "0  0.376284 -0.198451 -0.114745  0.927973  0.123530  0.101451 -0.132128   \n",
       "1  0.381745 -0.203713 -0.119527 -0.783603  0.154015  0.202812 -0.156372   \n",
       "2  0.027234 -0.099295 -0.088604 -0.202156  0.081119 -0.197173 -0.098724   \n",
       "3  0.218899 -0.193412 -0.112383  0.586560  0.105507  0.024669 -0.130848   \n",
       "4 -0.088071 -0.114041 -0.096961 -0.009147  0.123938 -0.296016 -0.133073   \n",
       "\n",
       "         13        14        15        16        17        18        19  \\\n",
       "0 -0.118346 -0.069631 -0.300703 -0.119187  0.192441  0.126403 -0.279172   \n",
       "1 -0.160258 -0.489455  0.891124 -0.163158  0.288332  0.156348 -0.378557   \n",
       "2 -0.122344  0.049212 -0.028470 -0.122146 -0.176682  0.082696 -0.260204   \n",
       "3 -0.118109  0.555275 -0.324627 -0.121793  0.079937  0.108543 -0.416662   \n",
       "4 -0.137275  0.060779  0.193445 -0.138667 -0.298801  0.123041 -0.325480   \n",
       "\n",
       "         20        21        22        23        24        25        26  \\\n",
       "0  0.044478  2.965636  0.202749  0.024055  0.076024  0.065384 -0.098009   \n",
       "1  0.428994  2.689320  0.155340  0.048544  0.123720  0.056697 -0.203146   \n",
       "2  0.010495  2.932836  0.201493  0.089552 -0.077388 -0.104795 -0.239573   \n",
       "3 -0.186081  2.817518  0.145985  0.007299 -0.263304 -0.390170 -0.062166   \n",
       "4 -0.094141  2.542169  0.265060  0.036145  0.002640  0.053132  0.097177   \n",
       "\n",
       "         27        28         29        30        31        32        33  \\\n",
       "0 -0.262443  0.076181  15.000000  3.508591 -0.331298  4.855670  0.088307   \n",
       "1  0.259682 -0.213778  14.135922  3.446602 -0.210554  4.679612  0.232485   \n",
       "2  0.095685 -0.052203  15.082090  2.843284 -0.141972  4.708955 -0.231920   \n",
       "3  0.066888 -0.310118  18.080292  3.000000 -0.239049  4.474453 -0.175148   \n",
       "4 -0.049011 -0.008566  16.951807  2.939759 -0.173514  5.036145 -0.187354   \n",
       "\n",
       "         34        35        36        37        38        39        40  \n",
       "0  0.163553  0.206298 -0.133415 -0.282448  0.284533  0.096641 -0.252933  \n",
       "1 -0.153586 -0.087222  0.226061 -0.133609  0.237596 -0.143424 -0.146006  \n",
       "2 -0.223551 -0.085445  0.120230 -0.136523  0.015384 -0.172611 -0.158841  \n",
       "3  0.171375  0.170465  0.301148 -0.275120  0.272964  0.248874 -0.193061  \n",
       "4 -0.042822  0.065915  0.007618 -0.275021  0.201998 -0.142681 -0.240970  "
      ]
     },
     "execution_count": 11,
     "metadata": {},
     "output_type": "execute_result"
    }
   ],
   "source": [
    "x=pd.DataFrame(x)\n",
    "x.head()"
   ]
  },
  {
   "cell_type": "code",
   "execution_count": 12,
   "metadata": {},
   "outputs": [],
   "source": [
    "x.columns =['coupon_id', 'customer_id', 'brand', 'brand_type',\n",
    "               'category', 'cd_sum', 'coupon_discount_x', 'coupon_used_x',\n",
    "               'item_counts', 'no_of_customers', 'od_sum', 'other_discount_x',\n",
    "               'price_sum', 'qu_sum', 'quantity_x', 'selling_price_x', 't_counts',\n",
    "               'total_discount_mean', 'total_discount_sum', 'campaign_type',\n",
    "               'campaign_duration', 'age_range', 'marital_status', 'rented',\n",
    "               'family_size', 'no_of_children', 'income_bracket', 'coupon_discount_y',\n",
    "               'coupon_used_y', 'day', 'dow', 'no_of_items', 'month',\n",
    "               'other_discount_y', 'quantity_y', 'selling_price_y', 'cdd_sum',\n",
    "               'customer_id_count', 'odd_sum', 'qa_sum', 'pprice_sum']"
   ]
  },
  {
   "cell_type": "code",
   "execution_count": 13,
   "metadata": {},
   "outputs": [
    {
     "data": {
      "text/html": [
       "<div>\n",
       "<style scoped>\n",
       "    .dataframe tbody tr th:only-of-type {\n",
       "        vertical-align: middle;\n",
       "    }\n",
       "\n",
       "    .dataframe tbody tr th {\n",
       "        vertical-align: top;\n",
       "    }\n",
       "\n",
       "    .dataframe thead th {\n",
       "        text-align: right;\n",
       "    }\n",
       "</style>\n",
       "<table border=\"1\" class=\"dataframe\">\n",
       "  <thead>\n",
       "    <tr style=\"text-align: right;\">\n",
       "      <th></th>\n",
       "      <th>coupon_id</th>\n",
       "      <th>customer_id</th>\n",
       "      <th>brand</th>\n",
       "      <th>brand_type</th>\n",
       "      <th>category</th>\n",
       "      <th>cd_sum</th>\n",
       "      <th>coupon_discount_x</th>\n",
       "      <th>coupon_used_x</th>\n",
       "      <th>item_counts</th>\n",
       "      <th>no_of_customers</th>\n",
       "      <th>od_sum</th>\n",
       "      <th>other_discount_x</th>\n",
       "      <th>price_sum</th>\n",
       "      <th>qu_sum</th>\n",
       "      <th>quantity_x</th>\n",
       "      <th>selling_price_x</th>\n",
       "      <th>t_counts</th>\n",
       "      <th>total_discount_mean</th>\n",
       "      <th>total_discount_sum</th>\n",
       "      <th>campaign_type</th>\n",
       "      <th>campaign_duration</th>\n",
       "      <th>age_range</th>\n",
       "      <th>marital_status</th>\n",
       "      <th>rented</th>\n",
       "      <th>family_size</th>\n",
       "      <th>no_of_children</th>\n",
       "      <th>income_bracket</th>\n",
       "      <th>coupon_discount_y</th>\n",
       "      <th>coupon_used_y</th>\n",
       "      <th>day</th>\n",
       "      <th>dow</th>\n",
       "      <th>no_of_items</th>\n",
       "      <th>month</th>\n",
       "      <th>other_discount_y</th>\n",
       "      <th>quantity_y</th>\n",
       "      <th>selling_price_y</th>\n",
       "      <th>cdd_sum</th>\n",
       "      <th>customer_id_count</th>\n",
       "      <th>odd_sum</th>\n",
       "      <th>qa_sum</th>\n",
       "      <th>pprice_sum</th>\n",
       "    </tr>\n",
       "  </thead>\n",
       "  <tbody>\n",
       "    <tr>\n",
       "      <th>0</th>\n",
       "      <td>127.580756</td>\n",
       "      <td>25.721649</td>\n",
       "      <td>55.536082</td>\n",
       "      <td>9.896907e-01</td>\n",
       "      <td>6.233677</td>\n",
       "      <td>0.189651</td>\n",
       "      <td>0.376284</td>\n",
       "      <td>-0.198451</td>\n",
       "      <td>-0.114745</td>\n",
       "      <td>0.927973</td>\n",
       "      <td>0.123530</td>\n",
       "      <td>0.101451</td>\n",
       "      <td>-0.132128</td>\n",
       "      <td>-0.118346</td>\n",
       "      <td>-0.069631</td>\n",
       "      <td>-0.300703</td>\n",
       "      <td>-0.119187</td>\n",
       "      <td>0.192441</td>\n",
       "      <td>0.126403</td>\n",
       "      <td>-0.279172</td>\n",
       "      <td>0.044478</td>\n",
       "      <td>2.965636</td>\n",
       "      <td>0.202749</td>\n",
       "      <td>0.024055</td>\n",
       "      <td>0.076024</td>\n",
       "      <td>0.065384</td>\n",
       "      <td>-0.098009</td>\n",
       "      <td>-0.262443</td>\n",
       "      <td>0.076181</td>\n",
       "      <td>15.000000</td>\n",
       "      <td>3.508591</td>\n",
       "      <td>-0.331298</td>\n",
       "      <td>4.855670</td>\n",
       "      <td>0.088307</td>\n",
       "      <td>0.163553</td>\n",
       "      <td>0.206298</td>\n",
       "      <td>-0.133415</td>\n",
       "      <td>-0.282448</td>\n",
       "      <td>0.284533</td>\n",
       "      <td>0.096641</td>\n",
       "      <td>-0.252933</td>\n",
       "    </tr>\n",
       "    <tr>\n",
       "      <th>1</th>\n",
       "      <td>258.883495</td>\n",
       "      <td>692.543689</td>\n",
       "      <td>4317.864078</td>\n",
       "      <td>-2.498002e-16</td>\n",
       "      <td>11.145631</td>\n",
       "      <td>0.197106</td>\n",
       "      <td>0.381745</td>\n",
       "      <td>-0.203713</td>\n",
       "      <td>-0.119527</td>\n",
       "      <td>-0.783603</td>\n",
       "      <td>0.154015</td>\n",
       "      <td>0.202812</td>\n",
       "      <td>-0.156372</td>\n",
       "      <td>-0.160258</td>\n",
       "      <td>-0.489455</td>\n",
       "      <td>0.891124</td>\n",
       "      <td>-0.163158</td>\n",
       "      <td>0.288332</td>\n",
       "      <td>0.156348</td>\n",
       "      <td>-0.378557</td>\n",
       "      <td>0.428994</td>\n",
       "      <td>2.689320</td>\n",
       "      <td>0.155340</td>\n",
       "      <td>0.048544</td>\n",
       "      <td>0.123720</td>\n",
       "      <td>0.056697</td>\n",
       "      <td>-0.203146</td>\n",
       "      <td>0.259682</td>\n",
       "      <td>-0.213778</td>\n",
       "      <td>14.135922</td>\n",
       "      <td>3.446602</td>\n",
       "      <td>-0.210554</td>\n",
       "      <td>4.679612</td>\n",
       "      <td>0.232485</td>\n",
       "      <td>-0.153586</td>\n",
       "      <td>-0.087222</td>\n",
       "      <td>0.226061</td>\n",
       "      <td>-0.133609</td>\n",
       "      <td>0.237596</td>\n",
       "      <td>-0.143424</td>\n",
       "      <td>-0.146006</td>\n",
       "    </tr>\n",
       "    <tr>\n",
       "      <th>2</th>\n",
       "      <td>826.828358</td>\n",
       "      <td>842.552239</td>\n",
       "      <td>1000.656716</td>\n",
       "      <td>-5.273559e-16</td>\n",
       "      <td>10.141791</td>\n",
       "      <td>0.114760</td>\n",
       "      <td>0.027234</td>\n",
       "      <td>-0.099295</td>\n",
       "      <td>-0.088604</td>\n",
       "      <td>-0.202156</td>\n",
       "      <td>0.081119</td>\n",
       "      <td>-0.197173</td>\n",
       "      <td>-0.098724</td>\n",
       "      <td>-0.122344</td>\n",
       "      <td>0.049212</td>\n",
       "      <td>-0.028470</td>\n",
       "      <td>-0.122146</td>\n",
       "      <td>-0.176682</td>\n",
       "      <td>0.082696</td>\n",
       "      <td>-0.260204</td>\n",
       "      <td>0.010495</td>\n",
       "      <td>2.932836</td>\n",
       "      <td>0.201493</td>\n",
       "      <td>0.089552</td>\n",
       "      <td>-0.077388</td>\n",
       "      <td>-0.104795</td>\n",
       "      <td>-0.239573</td>\n",
       "      <td>0.095685</td>\n",
       "      <td>-0.052203</td>\n",
       "      <td>15.082090</td>\n",
       "      <td>2.843284</td>\n",
       "      <td>-0.141972</td>\n",
       "      <td>4.708955</td>\n",
       "      <td>-0.231920</td>\n",
       "      <td>-0.223551</td>\n",
       "      <td>-0.085445</td>\n",
       "      <td>0.120230</td>\n",
       "      <td>-0.136523</td>\n",
       "      <td>0.015384</td>\n",
       "      <td>-0.172611</td>\n",
       "      <td>-0.158841</td>\n",
       "    </tr>\n",
       "    <tr>\n",
       "      <th>3</th>\n",
       "      <td>319.306569</td>\n",
       "      <td>969.043796</td>\n",
       "      <td>50.576642</td>\n",
       "      <td>7.883212e-01</td>\n",
       "      <td>7.350365</td>\n",
       "      <td>0.180266</td>\n",
       "      <td>0.218899</td>\n",
       "      <td>-0.193412</td>\n",
       "      <td>-0.112383</td>\n",
       "      <td>0.586560</td>\n",
       "      <td>0.105507</td>\n",
       "      <td>0.024669</td>\n",
       "      <td>-0.130848</td>\n",
       "      <td>-0.118109</td>\n",
       "      <td>0.555275</td>\n",
       "      <td>-0.324627</td>\n",
       "      <td>-0.121793</td>\n",
       "      <td>0.079937</td>\n",
       "      <td>0.108543</td>\n",
       "      <td>-0.416662</td>\n",
       "      <td>-0.186081</td>\n",
       "      <td>2.817518</td>\n",
       "      <td>0.145985</td>\n",
       "      <td>0.007299</td>\n",
       "      <td>-0.263304</td>\n",
       "      <td>-0.390170</td>\n",
       "      <td>-0.062166</td>\n",
       "      <td>0.066888</td>\n",
       "      <td>-0.310118</td>\n",
       "      <td>18.080292</td>\n",
       "      <td>3.000000</td>\n",
       "      <td>-0.239049</td>\n",
       "      <td>4.474453</td>\n",
       "      <td>-0.175148</td>\n",
       "      <td>0.171375</td>\n",
       "      <td>0.170465</td>\n",
       "      <td>0.301148</td>\n",
       "      <td>-0.275120</td>\n",
       "      <td>0.272964</td>\n",
       "      <td>0.248874</td>\n",
       "      <td>-0.193061</td>\n",
       "    </tr>\n",
       "    <tr>\n",
       "      <th>4</th>\n",
       "      <td>1000.012048</td>\n",
       "      <td>325.819277</td>\n",
       "      <td>1460.156627</td>\n",
       "      <td>2.775558e-17</td>\n",
       "      <td>9.060241</td>\n",
       "      <td>0.071372</td>\n",
       "      <td>-0.088071</td>\n",
       "      <td>-0.114041</td>\n",
       "      <td>-0.096961</td>\n",
       "      <td>-0.009147</td>\n",
       "      <td>0.123938</td>\n",
       "      <td>-0.296016</td>\n",
       "      <td>-0.133073</td>\n",
       "      <td>-0.137275</td>\n",
       "      <td>0.060779</td>\n",
       "      <td>0.193445</td>\n",
       "      <td>-0.138667</td>\n",
       "      <td>-0.298801</td>\n",
       "      <td>0.123041</td>\n",
       "      <td>-0.325480</td>\n",
       "      <td>-0.094141</td>\n",
       "      <td>2.542169</td>\n",
       "      <td>0.265060</td>\n",
       "      <td>0.036145</td>\n",
       "      <td>0.002640</td>\n",
       "      <td>0.053132</td>\n",
       "      <td>0.097177</td>\n",
       "      <td>-0.049011</td>\n",
       "      <td>-0.008566</td>\n",
       "      <td>16.951807</td>\n",
       "      <td>2.939759</td>\n",
       "      <td>-0.173514</td>\n",
       "      <td>5.036145</td>\n",
       "      <td>-0.187354</td>\n",
       "      <td>-0.042822</td>\n",
       "      <td>0.065915</td>\n",
       "      <td>0.007618</td>\n",
       "      <td>-0.275021</td>\n",
       "      <td>0.201998</td>\n",
       "      <td>-0.142681</td>\n",
       "      <td>-0.240970</td>\n",
       "    </tr>\n",
       "  </tbody>\n",
       "</table>\n",
       "</div>"
      ],
      "text/plain": [
       "     coupon_id  customer_id        brand    brand_type   category    cd_sum  \\\n",
       "0   127.580756    25.721649    55.536082  9.896907e-01   6.233677  0.189651   \n",
       "1   258.883495   692.543689  4317.864078 -2.498002e-16  11.145631  0.197106   \n",
       "2   826.828358   842.552239  1000.656716 -5.273559e-16  10.141791  0.114760   \n",
       "3   319.306569   969.043796    50.576642  7.883212e-01   7.350365  0.180266   \n",
       "4  1000.012048   325.819277  1460.156627  2.775558e-17   9.060241  0.071372   \n",
       "\n",
       "   coupon_discount_x  coupon_used_x  item_counts  no_of_customers    od_sum  \\\n",
       "0           0.376284      -0.198451    -0.114745         0.927973  0.123530   \n",
       "1           0.381745      -0.203713    -0.119527        -0.783603  0.154015   \n",
       "2           0.027234      -0.099295    -0.088604        -0.202156  0.081119   \n",
       "3           0.218899      -0.193412    -0.112383         0.586560  0.105507   \n",
       "4          -0.088071      -0.114041    -0.096961        -0.009147  0.123938   \n",
       "\n",
       "   other_discount_x  price_sum    qu_sum  quantity_x  selling_price_x  \\\n",
       "0          0.101451  -0.132128 -0.118346   -0.069631        -0.300703   \n",
       "1          0.202812  -0.156372 -0.160258   -0.489455         0.891124   \n",
       "2         -0.197173  -0.098724 -0.122344    0.049212        -0.028470   \n",
       "3          0.024669  -0.130848 -0.118109    0.555275        -0.324627   \n",
       "4         -0.296016  -0.133073 -0.137275    0.060779         0.193445   \n",
       "\n",
       "   t_counts  total_discount_mean  total_discount_sum  campaign_type  \\\n",
       "0 -0.119187             0.192441            0.126403      -0.279172   \n",
       "1 -0.163158             0.288332            0.156348      -0.378557   \n",
       "2 -0.122146            -0.176682            0.082696      -0.260204   \n",
       "3 -0.121793             0.079937            0.108543      -0.416662   \n",
       "4 -0.138667            -0.298801            0.123041      -0.325480   \n",
       "\n",
       "   campaign_duration  age_range  marital_status    rented  family_size  \\\n",
       "0           0.044478   2.965636        0.202749  0.024055     0.076024   \n",
       "1           0.428994   2.689320        0.155340  0.048544     0.123720   \n",
       "2           0.010495   2.932836        0.201493  0.089552    -0.077388   \n",
       "3          -0.186081   2.817518        0.145985  0.007299    -0.263304   \n",
       "4          -0.094141   2.542169        0.265060  0.036145     0.002640   \n",
       "\n",
       "   no_of_children  income_bracket  coupon_discount_y  coupon_used_y  \\\n",
       "0        0.065384       -0.098009          -0.262443       0.076181   \n",
       "1        0.056697       -0.203146           0.259682      -0.213778   \n",
       "2       -0.104795       -0.239573           0.095685      -0.052203   \n",
       "3       -0.390170       -0.062166           0.066888      -0.310118   \n",
       "4        0.053132        0.097177          -0.049011      -0.008566   \n",
       "\n",
       "         day       dow  no_of_items     month  other_discount_y  quantity_y  \\\n",
       "0  15.000000  3.508591    -0.331298  4.855670          0.088307    0.163553   \n",
       "1  14.135922  3.446602    -0.210554  4.679612          0.232485   -0.153586   \n",
       "2  15.082090  2.843284    -0.141972  4.708955         -0.231920   -0.223551   \n",
       "3  18.080292  3.000000    -0.239049  4.474453         -0.175148    0.171375   \n",
       "4  16.951807  2.939759    -0.173514  5.036145         -0.187354   -0.042822   \n",
       "\n",
       "   selling_price_y   cdd_sum  customer_id_count   odd_sum    qa_sum  \\\n",
       "0         0.206298 -0.133415          -0.282448  0.284533  0.096641   \n",
       "1        -0.087222  0.226061          -0.133609  0.237596 -0.143424   \n",
       "2        -0.085445  0.120230          -0.136523  0.015384 -0.172611   \n",
       "3         0.170465  0.301148          -0.275120  0.272964  0.248874   \n",
       "4         0.065915  0.007618          -0.275021  0.201998 -0.142681   \n",
       "\n",
       "   pprice_sum  \n",
       "0   -0.252933  \n",
       "1   -0.146006  \n",
       "2   -0.158841  \n",
       "3   -0.193061  \n",
       "4   -0.240970  "
      ]
     },
     "execution_count": 13,
     "metadata": {},
     "output_type": "execute_result"
    }
   ],
   "source": [
    "x.head()"
   ]
  },
  {
   "cell_type": "markdown",
   "metadata": {},
   "source": [
    "# Feature Selection"
   ]
  },
  {
   "cell_type": "markdown",
   "metadata": {},
   "source": [
    "# Recursive Feature Elimination"
   ]
  },
  {
   "cell_type": "code",
   "execution_count": 14,
   "metadata": {},
   "outputs": [],
   "source": [
    "from sklearn.feature_selection import RFE\n",
    "X = x\n",
    "Y = y"
   ]
  },
  {
   "cell_type": "code",
   "execution_count": 15,
   "metadata": {},
   "outputs": [
    {
     "name": "stdout",
     "output_type": "stream",
     "text": [
      "[ True  True  True  True  True  True  True  True  True  True  True  True\n",
      "  True  True  True  True  True  True  True  True  True  True  True  True\n",
      "  True  True  True  True  True  True  True  True  True  True  True  True\n",
      "  True  True  True  True  True]\n",
      "[1 1 1 1 1 1 1 1 1 1 1 1 1 1 1 1 1 1 1 1 1 1 1 1 1 1 1 1 1 1 1 1 1 1 1 1 1\n",
      " 1 1 1 1]\n"
     ]
    }
   ],
   "source": [
    "from sklearn.linear_model import LinearRegression\n",
    "model = LinearRegression()\n",
    "rfe = RFE(model,41)\n",
    "X_rfe = rfe.fit_transform(X,Y)\n",
    "model.fit(X_rfe,Y)\n",
    "print(rfe.support_)\n",
    "print(rfe.ranking_)"
   ]
  },
  {
   "cell_type": "code",
   "execution_count": 16,
   "metadata": {},
   "outputs": [],
   "source": [
    "from sklearn.metrics import roc_auc_score"
   ]
  },
  {
   "cell_type": "code",
   "execution_count": 17,
   "metadata": {},
   "outputs": [
    {
     "name": "stdout",
     "output_type": "stream",
     "text": [
      "Optimum number of features: 29\n",
      "Score with 29 features: 0.935592\n"
     ]
    }
   ],
   "source": [
    "# no of features\n",
    "nof_list = np.arange(1,41)\n",
    "high_score = 0\n",
    "#Variable to store the optimum feature\n",
    "nof = 0\n",
    "score_list=[]\n",
    "for n in range(len(nof_list)):\n",
    "    X_train,X_test,Y_train,Y_test = train_test_split(X,Y,test_size=0.3,random_state=0)\n",
    "    model = LinearRegression()\n",
    "    rfe = RFE(model,nof_list[n])\n",
    "    X_train_rfe = rfe.fit_transform(X_train,Y_train)\n",
    "    X_test_rfe = rfe.transform(X_test)\n",
    "    model.fit(X_train_rfe,Y_train)\n",
    "    Y_pred = model.predict(X_test_rfe)\n",
    "    score = roc_auc_score(Y_test,Y_pred)\n",
    "    score_list.append(score)\n",
    "    if(score>high_score):\n",
    "        high_score=score\n",
    "        nof = nof_list[n]\n",
    "print(\"Optimum number of features: %d\" %nof)\n",
    "print(\"Score with %d features: %f\" %(nof, high_score))"
   ]
  },
  {
   "cell_type": "code",
   "execution_count": 18,
   "metadata": {},
   "outputs": [
    {
     "name": "stdout",
     "output_type": "stream",
     "text": [
      "Index(['coupon_id', 'brand', 'brand_type', 'category', 'cd_sum',\n",
      "       'coupon_discount_x', 'coupon_used_x', 'item_counts', 'no_of_customers',\n",
      "       'od_sum', 'other_discount_x', 'price_sum', 'qu_sum', 'quantity_x',\n",
      "       'selling_price_x', 't_counts', 'total_discount_mean',\n",
      "       'total_discount_sum', 'campaign_type', 'campaign_duration', 'age_range',\n",
      "       'marital_status', 'rented', 'family_size', 'no_of_children',\n",
      "       'income_bracket', 'coupon_discount_y', 'coupon_used_y', 'day', 'dow',\n",
      "       'no_of_items', 'month', 'other_discount_y', 'quantity_y',\n",
      "       'selling_price_y', 'cdd_sum', 'customer_id_count', 'odd_sum', 'qa_sum',\n",
      "       'pprice_sum'],\n",
      "      dtype='object')\n"
     ]
    }
   ],
   "source": [
    "cols = list(X.columns)\n",
    "model=LinearRegression()\n",
    "#Initializing RFE Model\n",
    "rfe = RFE(model,40)\n",
    "#Transforming data using RFE\n",
    "X_rfe = rfe.fit_transform(X,Y)\n",
    "#Fitting data to model\n",
    "model.fit(X_rfe,Y)\n",
    "temp = pd.Series(rfe.support_,index = cols)\n",
    "selected_features_rfe = temp[temp==True].index\n",
    "print(selected_features_rfe)"
   ]
  },
  {
   "cell_type": "code",
   "execution_count": 19,
   "metadata": {},
   "outputs": [],
   "source": [
    "col_names=['coupon_id', 'brand', 'brand_type', 'category', 'cd_sum',\n",
    "           'coupon_discount_x', 'coupon_used_x', 'item_counts', 'no_of_customers',\n",
    "           'od_sum', 'other_discount_x', 'price_sum', 'qu_sum', 'quantity_x',\n",
    "           'selling_price_x', 't_counts', 'total_discount_mean',\n",
    "           'total_discount_sum', 'campaign_type', 'campaign_duration', 'age_range',\n",
    "           'marital_status', 'rented', 'family_size', 'no_of_children',\n",
    "           'income_bracket', 'coupon_discount_y', 'coupon_used_y', 'day', 'dow',\n",
    "           'no_of_items', 'month', 'other_discount_y', 'quantity_y',\n",
    "           'selling_price_y', 'cdd_sum', 'customer_id_count', 'odd_sum', 'qa_sum','pprice_sum']"
   ]
  },
  {
   "cell_type": "code",
   "execution_count": 20,
   "metadata": {},
   "outputs": [],
   "source": [
    "x=x[col_names]"
   ]
  },
  {
   "cell_type": "code",
   "execution_count": 21,
   "metadata": {},
   "outputs": [
    {
     "data": {
      "text/plain": [
       "(1458, 40)"
      ]
     },
     "execution_count": 21,
     "metadata": {},
     "output_type": "execute_result"
    }
   ],
   "source": [
    "x.shape"
   ]
  },
  {
   "cell_type": "code",
   "execution_count": 22,
   "metadata": {},
   "outputs": [],
   "source": [
    "x_train,x_test,y_train,y_test = train_test_split(x,Y,test_size=0.3,random_state=1990)"
   ]
  },
  {
   "cell_type": "markdown",
   "metadata": {},
   "source": [
    "# Logistic Regression"
   ]
  },
  {
   "cell_type": "code",
   "execution_count": 23,
   "metadata": {},
   "outputs": [
    {
     "name": "stdout",
     "output_type": "stream",
     "text": [
      "              precision    recall  f1-score   support\n",
      "\n",
      "           0       0.87      0.96      0.92       216\n",
      "           1       0.96      0.86      0.91       222\n",
      "\n",
      "    accuracy                           0.91       438\n",
      "   macro avg       0.92      0.91      0.91       438\n",
      "weighted avg       0.92      0.91      0.91       438\n",
      "\n"
     ]
    }
   ],
   "source": [
    "LR = LogisticRegression()\n",
    "LR.fit(x_train,y_train)\n",
    "y_pred_LR = LR.predict(x_test)\n",
    "print(classification_report(y_test,y_pred_LR))"
   ]
  },
  {
   "cell_type": "code",
   "execution_count": 24,
   "metadata": {},
   "outputs": [
    {
     "name": "stdout",
     "output_type": "stream",
     "text": [
      "0.913913913913914\n"
     ]
    }
   ],
   "source": [
    "print(roc_auc_score(y_test,y_pred_LR))\n",
    "Model = ['Logistic Regression']\n",
    "ROC_AUC_Accuracy = [roc_auc_score(y_test,y_pred_LR)]"
   ]
  },
  {
   "cell_type": "markdown",
   "metadata": {},
   "source": [
    "# Naive Bayes"
   ]
  },
  {
   "cell_type": "code",
   "execution_count": 25,
   "metadata": {},
   "outputs": [
    {
     "name": "stdout",
     "output_type": "stream",
     "text": [
      "0.9838588588588588\n"
     ]
    }
   ],
   "source": [
    "nb = GaussianNB()\n",
    "nb.fit(x_train,y_train)\n",
    "y_pred_nb = nb.predict(x_test)\n",
    "print(roc_auc_score(y_test,y_pred_nb))\n",
    "Model.append('Naive Bayes')\n",
    "ROC_AUC_Accuracy.append(roc_auc_score(y_test,y_pred_nb))"
   ]
  },
  {
   "cell_type": "code",
   "execution_count": 26,
   "metadata": {},
   "outputs": [
    {
     "name": "stdout",
     "output_type": "stream",
     "text": [
      "              precision    recall  f1-score   support\n",
      "\n",
      "           0       1.00      0.97      0.98       216\n",
      "           1       0.97      1.00      0.98       222\n",
      "\n",
      "    accuracy                           0.98       438\n",
      "   macro avg       0.98      0.98      0.98       438\n",
      "weighted avg       0.98      0.98      0.98       438\n",
      "\n"
     ]
    }
   ],
   "source": [
    "print(classification_report(y_test,y_pred_nb))"
   ]
  },
  {
   "cell_type": "markdown",
   "metadata": {},
   "source": [
    "# Decision Tree"
   ]
  },
  {
   "cell_type": "code",
   "execution_count": 27,
   "metadata": {},
   "outputs": [
    {
     "data": {
      "text/plain": [
       "RandomizedSearchCV(cv=3, error_score='raise-deprecating',\n",
       "                   estimator=DecisionTreeClassifier(class_weight=None,\n",
       "                                                    criterion='gini',\n",
       "                                                    max_depth=None,\n",
       "                                                    max_features=None,\n",
       "                                                    max_leaf_nodes=None,\n",
       "                                                    min_impurity_decrease=0.0,\n",
       "                                                    min_impurity_split=None,\n",
       "                                                    min_samples_leaf=1,\n",
       "                                                    min_samples_split=2,\n",
       "                                                    min_weight_fraction_leaf=0.0,\n",
       "                                                    presort=False,\n",
       "                                                    random_state=None,\n",
       "                                                    splitter='best'),\n",
       "                   iid='warn', n_iter=10, n_jobs=-1,\n",
       "                   param_distributions={'criterion': ['gini', 'entropy'],\n",
       "                                        'max_depth': range(1, 10),\n",
       "                                        'max_features': ['auto', 'log2'],\n",
       "                                        'max_leaf_nodes': range(2, 10),\n",
       "                                        'splitter': ['best', 'random']},\n",
       "                   pre_dispatch='2*n_jobs', random_state=None, refit=True,\n",
       "                   return_train_score=False, scoring='recall', verbose=0)"
      ]
     },
     "execution_count": 27,
     "metadata": {},
     "output_type": "execute_result"
    }
   ],
   "source": [
    "params = {\n",
    "    \n",
    "    'criterion':['gini','entropy'],\n",
    "    'splitter':['best','random'],\n",
    "    'max_depth':range(1,10),\n",
    "    'max_leaf_nodes':range(2,10,1),\n",
    "    'max_features':['auto','log2']\n",
    "    \n",
    "}\n",
    "\n",
    "dt = DecisionTreeClassifier()\n",
    "\n",
    "rs = RandomizedSearchCV(estimator=dt,n_jobs=-1,cv=3,param_distributions=params,scoring='recall')\n",
    "rs.fit(x,y)"
   ]
  },
  {
   "cell_type": "code",
   "execution_count": 28,
   "metadata": {},
   "outputs": [
    {
     "name": "stdout",
     "output_type": "stream",
     "text": [
      "0.9430055055055054\n"
     ]
    }
   ],
   "source": [
    "dt = DecisionTreeClassifier(**rs.best_params_)\n",
    "dt.fit(x_train,y_train)\n",
    "y_pred_dt = dt.predict(x_test)\n",
    "print(roc_auc_score(y_test,y_pred_dt))\n",
    "Model.append('Decision Tree')\n",
    "ROC_AUC_Accuracy.append(roc_auc_score(y_test,y_pred_dt))"
   ]
  },
  {
   "cell_type": "code",
   "execution_count": 29,
   "metadata": {},
   "outputs": [
    {
     "name": "stdout",
     "output_type": "stream",
     "text": [
      "              precision    recall  f1-score   support\n",
      "\n",
      "           0       0.94      0.95      0.94       216\n",
      "           1       0.95      0.94      0.94       222\n",
      "\n",
      "    accuracy                           0.94       438\n",
      "   macro avg       0.94      0.94      0.94       438\n",
      "weighted avg       0.94      0.94      0.94       438\n",
      "\n"
     ]
    }
   ],
   "source": [
    "print(classification_report(y_test,y_pred_dt))"
   ]
  },
  {
   "cell_type": "code",
   "execution_count": 30,
   "metadata": {},
   "outputs": [
    {
     "data": {
      "text/plain": [
       "(['Logistic Regression', 'Naive Bayes', 'Decision Tree'],\n",
       " [0.913913913913914, 0.9838588588588588, 0.9430055055055054])"
      ]
     },
     "execution_count": 30,
     "metadata": {},
     "output_type": "execute_result"
    }
   ],
   "source": [
    "Model,ROC_AUC_Accuracy"
   ]
  },
  {
   "cell_type": "markdown",
   "metadata": {},
   "source": [
    "# Random Forest"
   ]
  },
  {
   "cell_type": "code",
   "execution_count": 31,
   "metadata": {},
   "outputs": [
    {
     "data": {
      "text/plain": [
       "RandomizedSearchCV(cv=3, error_score='raise-deprecating',\n",
       "                   estimator=RandomForestClassifier(bootstrap=True,\n",
       "                                                    class_weight=None,\n",
       "                                                    criterion='gini',\n",
       "                                                    max_depth=None,\n",
       "                                                    max_features='auto',\n",
       "                                                    max_leaf_nodes=None,\n",
       "                                                    min_impurity_decrease=0.0,\n",
       "                                                    min_impurity_split=None,\n",
       "                                                    min_samples_leaf=1,\n",
       "                                                    min_samples_split=2,\n",
       "                                                    min_weight_fraction_leaf=0.0,\n",
       "                                                    n_estimators='warn',\n",
       "                                                    n_jobs=None,\n",
       "                                                    oob_sc...\n",
       "                                                    random_state=None,\n",
       "                                                    verbose=0,\n",
       "                                                    warm_start=False),\n",
       "                   iid='warn', n_iter=10, n_jobs=-1,\n",
       "                   param_distributions={'criterion': ['gini', 'entropy'],\n",
       "                                        'max_depth': range(2, 10),\n",
       "                                        'max_features': ['auto', 'log2'],\n",
       "                                        'max_leaf_nodes': range(2, 10),\n",
       "                                        'n_estimators': range(10, 100, 10)},\n",
       "                   pre_dispatch='2*n_jobs', random_state=None, refit=True,\n",
       "                   return_train_score=False, scoring='recall', verbose=0)"
      ]
     },
     "execution_count": 31,
     "metadata": {},
     "output_type": "execute_result"
    }
   ],
   "source": [
    "params = {\n",
    "    \n",
    "    'n_estimators':range(10,100,10),\n",
    "    'criterion':['gini','entropy'],\n",
    "    'max_depth':range(2,10,1),\n",
    "    'max_leaf_nodes':range(2,10,1),\n",
    "    'max_features':['auto','log2']\n",
    "    \n",
    "}\n",
    "\n",
    "rf = RandomForestClassifier()\n",
    "\n",
    "rs = RandomizedSearchCV(estimator=rf,param_distributions=params,cv=3,scoring='recall',n_jobs=-1)\n",
    "rs.fit(x,y)"
   ]
  },
  {
   "cell_type": "code",
   "execution_count": 32,
   "metadata": {},
   "outputs": [
    {
     "name": "stdout",
     "output_type": "stream",
     "text": [
      "0.9976851851851851\n"
     ]
    }
   ],
   "source": [
    "rf = RandomForestClassifier(**rs.best_params_)\n",
    "rf.fit(x_train,y_train)\n",
    "y_pred_rf = rf.predict(x_test)\n",
    "print(roc_auc_score(y_test,y_pred_rf))\n",
    "Model.append('Random Forest')\n",
    "ROC_AUC_Accuracy.append(roc_auc_score(y_test,y_pred_rf))"
   ]
  },
  {
   "cell_type": "code",
   "execution_count": 33,
   "metadata": {},
   "outputs": [
    {
     "name": "stdout",
     "output_type": "stream",
     "text": [
      "              precision    recall  f1-score   support\n",
      "\n",
      "           0       1.00      1.00      1.00       216\n",
      "           1       1.00      1.00      1.00       222\n",
      "\n",
      "    accuracy                           1.00       438\n",
      "   macro avg       1.00      1.00      1.00       438\n",
      "weighted avg       1.00      1.00      1.00       438\n",
      "\n"
     ]
    }
   ],
   "source": [
    "print(classification_report(y_test,y_pred_rf))"
   ]
  },
  {
   "cell_type": "code",
   "execution_count": 34,
   "metadata": {},
   "outputs": [
    {
     "data": {
      "text/plain": [
       "(['Logistic Regression', 'Naive Bayes', 'Decision Tree', 'Random Forest'],\n",
       " [0.913913913913914,\n",
       "  0.9838588588588588,\n",
       "  0.9430055055055054,\n",
       "  0.9976851851851851])"
      ]
     },
     "execution_count": 34,
     "metadata": {},
     "output_type": "execute_result"
    }
   ],
   "source": [
    "Model,ROC_AUC_Accuracy"
   ]
  },
  {
   "cell_type": "code",
   "execution_count": 35,
   "metadata": {},
   "outputs": [
    {
     "data": {
      "text/html": [
       "<div>\n",
       "<style scoped>\n",
       "    .dataframe tbody tr th:only-of-type {\n",
       "        vertical-align: middle;\n",
       "    }\n",
       "\n",
       "    .dataframe tbody tr th {\n",
       "        vertical-align: top;\n",
       "    }\n",
       "\n",
       "    .dataframe thead th {\n",
       "        text-align: right;\n",
       "    }\n",
       "</style>\n",
       "<table border=\"1\" class=\"dataframe\">\n",
       "  <thead>\n",
       "    <tr style=\"text-align: right;\">\n",
       "      <th></th>\n",
       "      <th>Model</th>\n",
       "      <th>Accuracy</th>\n",
       "    </tr>\n",
       "  </thead>\n",
       "  <tbody>\n",
       "    <tr>\n",
       "      <th>0</th>\n",
       "      <td>Logistic Regression</td>\n",
       "      <td>0.913914</td>\n",
       "    </tr>\n",
       "    <tr>\n",
       "      <th>1</th>\n",
       "      <td>Naive Bayes</td>\n",
       "      <td>0.983859</td>\n",
       "    </tr>\n",
       "    <tr>\n",
       "      <th>2</th>\n",
       "      <td>Decision Tree</td>\n",
       "      <td>0.943006</td>\n",
       "    </tr>\n",
       "    <tr>\n",
       "      <th>3</th>\n",
       "      <td>Random Forest</td>\n",
       "      <td>0.997685</td>\n",
       "    </tr>\n",
       "  </tbody>\n",
       "</table>\n",
       "</div>"
      ],
      "text/plain": [
       "                 Model  Accuracy\n",
       "0  Logistic Regression  0.913914\n",
       "1          Naive Bayes  0.983859\n",
       "2        Decision Tree  0.943006\n",
       "3        Random Forest  0.997685"
      ]
     },
     "execution_count": 35,
     "metadata": {},
     "output_type": "execute_result"
    }
   ],
   "source": [
    "final_result = pd.DataFrame({'Model':Model,'Accuracy':ROC_AUC_Accuracy})\n",
    "final_result"
   ]
  },
  {
   "cell_type": "markdown",
   "metadata": {},
   "source": [
    "# VIF"
   ]
  },
  {
   "cell_type": "code",
   "execution_count": 36,
   "metadata": {},
   "outputs": [
    {
     "data": {
      "text/plain": [
       "[3.6059439438504546,\n",
       " 1.608923137750618,\n",
       " 22.647393553726232,\n",
       " inf,\n",
       " inf,\n",
       " 217.0511830075386,\n",
       " 112.47895823093751,\n",
       " 1.8696430795496917,\n",
       " inf,\n",
       " inf,\n",
       " 949.4231270834719,\n",
       " 1861.3948305532697,\n",
       " 1.428674477523307,\n",
       " 2.5318581443187558,\n",
       " 2072.6161699065638,\n",
       " inf,\n",
       " inf,\n",
       " 1.8769715060828887,\n",
       " 1.7461102550371255,\n",
       " 17.779757046714096,\n",
       " 277.273356815259,\n",
       " 1.261937851071577,\n",
       " 1130.3889449687308,\n",
       " 845.2592669530208,\n",
       " 1.3148543516477555,\n",
       " 9.754660294284003,\n",
       " 32.144280776846394,\n",
       " 8.361141442405161,\n",
       " 10.320697906855514,\n",
       " 9.310702676043011,\n",
       " 17.147124759567312,\n",
       " 7.085864401708111,\n",
       " 7.53101946637064,\n",
       " 5.619351701860998,\n",
       " 52.072580840326864,\n",
       " 117.73367734137936,\n",
       " 34.35036777965328,\n",
       " 8.877415009289852,\n",
       " 80.35245434035811]"
      ]
     },
     "execution_count": 36,
     "metadata": {},
     "output_type": "execute_result"
    }
   ],
   "source": [
    "from statsmodels.stats.outliers_influence import variance_inflation_factor\n",
    "\n",
    "[variance_inflation_factor(x.values, j) for j in range(1, x.shape[1])]"
   ]
  },
  {
   "cell_type": "code",
   "execution_count": 37,
   "metadata": {},
   "outputs": [],
   "source": [
    "# function definition\n",
    "\n",
    "def calculate_vif(x):\n",
    "    thresh = 5.0\n",
    "    output = pd.DataFrame()\n",
    "    k = x.shape[1]\n",
    "    vif = [variance_inflation_factor(x.values, j) for j in range(x.shape[1])]\n",
    "    for i in range(1,k):\n",
    "        print(\"Iteration no.\",i)\n",
    "        print(vif)\n",
    "        a = np.argmax(vif)\n",
    "        print(\"Max VIF is for variable no.:\",a)\n",
    "        if vif[a] <= thresh :\n",
    "            break\n",
    "        if i == 1 :          \n",
    "            output = x.drop(x.columns[a], axis = 1)\n",
    "            vif = [variance_inflation_factor(output.values, j) for j in range(output.shape[1])]\n",
    "        elif i > 1 :\n",
    "            output = output.drop(output.columns[a],axis = 1)\n",
    "            vif = [variance_inflation_factor(output.values, j) for j in range(output.shape[1])]\n",
    "    return(output)"
   ]
  },
  {
   "cell_type": "code",
   "execution_count": 38,
   "metadata": {},
   "outputs": [
    {
     "name": "stdout",
     "output_type": "stream",
     "text": [
      "Iteration no. 1\n",
      "[7.9266523691670026, 3.6059439438504546, 1.608923137750618, 22.647393553726232, inf, inf, 217.0511830075386, 112.47895823093751, 1.8696430795496917, inf, inf, 949.4231270834719, 1861.3948305532697, 1.428674477523307, 2.5318581443187558, 2072.6161699065638, inf, inf, 1.8769715060828887, 1.7461102550371255, 17.779757046714096, 277.273356815259, 1.261937851071577, 1130.3889449687308, 845.2592669530208, 1.3148543516477555, 9.754660294284003, 32.144280776846394, 8.361141442405161, 10.320697906855514, 9.310702676043011, 17.147124759567312, 7.085864401708111, 7.53101946637064, 5.619351701860998, 52.072580840326864, 117.73367734137936, 34.35036777965328, 8.877415009289852, 80.35245434035811]\n",
      "Max VIF is for variable no.: 4\n",
      "Iteration no. 2\n",
      "[7.9266523691670026, 3.605943943850443, 1.608923137750616, 22.647393553726232, inf, 217.05118300757, 112.47895823092206, 1.869643079549684, 235211.1740279055, inf, 949.4231270833717, 1861.3948305532697, 1.4286744775233067, 2.531858144318717, 2072.6161699065638, inf, 241879.05327269633, 1.8769715060828893, 1.746110255037125, 17.779757046714096, 277.273356815259, 1.2619378510715773, 1130.3889449687308, 845.2592669530208, 1.3148543516477562, 9.754660294284003, 32.144280776846394, 8.361141442405161, 10.320697906855502, 9.310702676043011, 17.147124759567312, 7.085864401708106, 7.531019466370646, 5.619351701860994, 52.072580840326864, 117.73367734137936, 34.35036777965328, 8.87741500928986, 80.35245434035811]\n",
      "Max VIF is for variable no.: 4\n",
      "Iteration no. 3\n",
      "[7.9266523691670026, 3.605943943850443, 1.6089231377506161, 22.647393553726232, 217.05118300757, 112.47895823092206, 1.8696430795496846, 235211.1740279055, 32.425737689340956, 949.4231270833717, 1861.3948305532697, 1.4286744775233065, 2.5318581443187202, 2072.6161699065638, 34.24459645740553, 241879.05327269633, 1.8769715060828887, 1.746110255037125, 17.779757046714096, 277.273356815259, 1.2619378510715773, 1130.3889449687308, 845.2592669530208, 1.3148543516477562, 9.754660294284003, 32.144280776846394, 8.361141442405161, 10.320697906855502, 9.310702676043011, 17.147124759567312, 7.085864401708106, 7.53101946637064, 5.619351701860994, 52.072580840326864, 117.73367734137936, 34.35036777965328, 8.87741500928986, 80.35245434035811]\n",
      "Max VIF is for variable no.: 15\n",
      "Iteration no. 4\n",
      "[7.865571416818449, 3.589802634790474, 1.6084589096143707, 22.645586555983073, 29.31352372170951, 64.70310256372714, 1.864233043114778, 288.4473441801518, 32.11910188464044, 826.7475812652249, 1843.313383144568, 1.4285317296617674, 2.4491779783609138, 2054.527456242113, 33.712365930980205, 1.8766084345758183, 1.7426643234473969, 17.774162044005127, 277.2625866601723, 1.2618635692791094, 1130.3386252911926, 845.1946386279641, 1.3116770437329004, 9.706164523568743, 32.10457885857839, 8.300580879980588, 10.31567048544009, 9.30974609802465, 17.146900503195983, 7.072185192923549, 7.518244707225389, 5.605332901473648, 51.93428388320037, 117.63957263658429, 34.28583341982758, 8.868026166070447, 80.2074500433962]\n",
      "Max VIF is for variable no.: 13\n",
      "Iteration no. 5\n",
      "[7.865093259335464, 3.584653578599653, 1.6072800879130817, 22.630504191190855, 28.09529159446468, 57.74572414153032, 1.8633336960027016, 197.21535559301148, 31.765386894337556, 624.0673301061305, 100.45125467156214, 1.3112268899954571, 2.3893782503685537, 33.57598804712936, 1.876551066016674, 1.7392247481575627, 17.663179302992166, 277.1774918632372, 1.2618584115600284, 1129.9191937200496, 844.8877466209557, 1.3094436634470854, 9.675318778083604, 31.930027581227886, 8.300491089486966, 10.312568263509373, 9.30139871281625, 17.11983471593221, 7.072184770796212, 7.513052982062921, 5.605171916020892, 51.54590680943758, 117.5653281525279, 34.25834417448992, 8.852999653875358, 80.18409424287937]\n",
      "Max VIF is for variable no.: 19\n",
      "Iteration no. 6\n",
      "[7.281488457696319, 3.45585875071002, 1.5522000617679008, 17.685683012181155, 28.063487405808566, 57.63266181088005, 1.787179029540684, 196.9796226858655, 31.50968150333257, 622.572835675867, 100.32261665162308, 1.3084099515846723, 2.295042736910562, 33.16883479479834, 1.873694427600233, 1.737894370950091, 14.412496691210809, 1.9466615049296023, 1.218688557546557, 1.31935772848644, 1.3094406953596849, 9.614571986568366, 31.926447111186388, 7.515255080393037, 8.65137143604589, 9.25055127866725, 14.289477659773096, 7.071965361645313, 7.468134402574245, 5.587338604377582, 51.49163240132695, 117.55552434647917, 34.252034633965536, 8.792701581054079, 80.14240723007322]\n",
      "Max VIF is for variable no.: 9\n",
      "Iteration no. 7\n",
      "[7.281454599242318, 3.3976461581454016, 1.5328111343096966, 17.685359402164938, 14.874396998522707, 4.021452043544258, 1.7144781099274815, 11.559059715319155, 31.012117582502196, 24.187514090609344, 1.2649963704320089, 2.1674255227049084, 32.91050620050609, 1.8733359058770467, 1.7315941857500101, 14.40940316826594, 1.9434521712647304, 1.2165417156450058, 1.3171580018834401, 1.3089733705336957, 9.612306266440497, 31.926242946047477, 7.5039687661702255, 8.630996544867841, 9.212550914143527, 14.289005729142488, 7.061232978633928, 7.459710639905949, 5.583147744474997, 51.489128270388235, 117.30939577232255, 34.24842381068297, 8.778831460015786, 80.11598120797223]\n",
      "Max VIF is for variable no.: 30\n",
      "Iteration no. 8\n",
      "[7.2804158726493045, 3.3972041401019477, 1.5327187278219367, 17.67796228796568, 14.870747769748204, 4.021451973618769, 1.7123646364717517, 11.54470901610916, 31.010691967855646, 24.148359439272728, 1.257390025045632, 2.161636145500756, 32.91027269300857, 1.8617273761604214, 1.7294226699230226, 14.409259415175056, 1.9414055995047377, 1.2091223306028753, 1.3073501451065639, 1.2981214217986845, 9.612189565976955, 31.92173103609543, 7.503506219005012, 8.5527311651709, 8.940740133204631, 14.250009778116807, 5.572220727520723, 7.072564904672502, 2.2807301972436465, 51.4710901729274, 25.304687428543694, 8.342846007771259, 22.38824929301085]\n",
      "Max VIF is for variable no.: 29\n",
      "Iteration no. 9\n",
      "[7.279075397407328, 3.3970442845755686, 1.5254059024809432, 17.65136948308495, 14.870471300806384, 4.0020417223359495, 1.7118806986491002, 11.498565829226177, 30.99267981010685, 24.082736195031252, 1.2517611805330118, 2.1492574642270013, 32.895741562890834, 1.8614984634789575, 1.7262068020445616, 14.00754910497996, 1.9189725846420755, 1.2079451629918436, 1.3073000924085387, 1.297047053407259, 6.178226856971758, 7.15747964438074, 7.466450826347296, 8.546275784533279, 8.895630559801296, 14.224593357357689, 4.867214100159616, 7.062065559821423, 2.2397542837094764, 21.14286579635312, 8.333577150409065, 21.52081140247526]\n",
      "Max VIF is for variable no.: 12\n",
      "Iteration no. 10\n",
      "[7.275126054001129, 2.818341518245912, 1.4828004362275367, 17.64179989001907, 14.47001024493992, 3.923291978789737, 1.5974767809509396, 11.497934636538728, 1.6427814428386835, 23.691727430295444, 1.2517528455007485, 2.085628500638539, 1.8552188957693798, 1.7261963042582427, 14.000114524411426, 1.9171206490659314, 1.206819906455907, 1.3070234337153874, 1.2970457970607536, 6.176748768925041, 7.151197262033749, 7.4316930846674225, 8.517267865954343, 8.83492643340623, 14.204053612624849, 4.866790714121635, 7.060926943448919, 2.23892353712956, 21.14284637354715, 8.333058991463188, 21.487344001239684]\n",
      "Max VIF is for variable no.: 9\n",
      "Iteration no. 11\n",
      "[6.943472888863218, 2.816286327311377, 1.4748432705328371, 17.62020092132316, 7.1404760730176, 3.774192931835117, 1.5955213732944746, 6.017810265538326, 1.5915028571850507, 1.2239510822003163, 2.0854165405279432, 1.8540087718401548, 1.7179455132925427, 13.971395912954167, 1.9166566119550934, 1.2035229704209653, 1.307007959386131, 1.2937877001373794, 6.173212169671017, 7.151161450445617, 7.431585194515865, 8.513118174922969, 8.815739315227347, 14.084914253993196, 4.864647653711784, 7.056904194536547, 2.2363051015548363, 21.14105735637346, 8.320783745904869, 21.485472505082097]\n",
      "Max VIF is for variable no.: 29\n",
      "Iteration no. 12\n",
      "[6.941905034207556, 2.8125022721054527, 1.463992147244144, 17.620200714230993, 7.1384670764404135, 3.769769162143516, 1.5880610514781468, 6.017037042458158, 1.5907451054993582, 1.2220819424922427, 2.0853053802255643, 1.8496517102537813, 1.706968655477925, 13.950431196352529, 1.916597764096968, 1.1868184567805053, 1.3070038671978146, 1.2686649337813072, 6.153667046416087, 7.0632275483227955, 7.407409214228988, 8.50652909560814, 7.194425333738916, 14.065179408117183, 3.1657820486989507, 6.393052249584827, 1.164810456763978, 9.728679483919889, 7.270375834719091]\n",
      "Max VIF is for variable no.: 3\n",
      "Iteration no. 13\n",
      "[6.832766319819753, 2.807918917577578, 1.4529944605693785, 7.137396763746191, 3.706638632841195, 1.539053712987435, 5.992783685889111, 1.5611660231146396, 1.2220795838253378, 1.9423906492455012, 1.8464006561332231, 1.6989361913334022, 12.437648396873065, 1.9088639771501645, 1.1762117187469112, 1.295652858680425, 1.2686543634313614, 6.144124249464807, 7.0455493536635245, 7.096292530366158, 7.805344331226187, 7.192322439541062, 12.890831615403462, 3.165493987445573, 6.381914743352049, 1.1577952495426933, 9.719033954816952, 7.256202392577154]\n",
      "Max VIF is for variable no.: 22\n",
      "Iteration no. 14\n",
      "[6.552766644690697, 2.758664275794186, 1.4282236216520712, 7.1329875670864356, 3.6837108612090117, 1.5365471548304135, 5.987287654395163, 1.557408671399838, 1.2215718032987604, 1.9417685277106498, 1.8456422525877694, 1.6989338709216015, 10.809577311906786, 1.894449274632345, 1.1753797515240427, 1.2840704592638363, 1.2686530254007722, 6.137841864860852, 7.045361100255274, 6.7754440046040445, 6.933251594836524, 7.076906790312824, 3.137009245405034, 6.345635985265048, 1.155937904543219, 9.5770185185571, 7.256091619347968]\n",
      "Max VIF is for variable no.: 12\n",
      "Iteration no. 15\n",
      "[5.992865908821203, 2.7076317548590443, 1.360984804455336, 7.131572824064299, 3.6799060543375597, 1.5364690217976702, 5.982119899250409, 1.5538578416610684, 1.2159017309435254, 1.9314103599819805, 1.8454976575039175, 1.6938030289758754, 1.8899607617980647, 1.1654793367010976, 1.2233789700046334, 1.2684820581006548, 6.126252149337261, 7.044888884611334, 5.37487828588725, 5.785472162847741, 7.038109386236823, 3.111853759707672, 6.341771559946918, 1.155934082019672, 9.505508363800107, 7.25501635616698]\n",
      "Max VIF is for variable no.: 24\n",
      "Iteration no. 16\n",
      "[5.987443110598982, 2.6774989281855928, 1.3465972682457832, 7.079399442094535, 3.6740785077091616, 1.5321276960840216, 5.965654781526977, 1.5513796192908735, 1.2151258912660474, 1.9280053183031445, 1.845455332006166, 1.6928648754655962, 1.8831763281423763, 1.1613072775782056, 1.2206914629824626, 1.2547878997493955, 5.749435038146898, 6.748573995624922, 5.278778440412738, 5.771336410172759, 2.8411704272160465, 1.5589099038068717, 6.00997414961201, 1.153252550615151, 6.797199016485409]\n",
      "Max VIF is for variable no.: 3\n",
      "Iteration no. 17\n",
      "[5.986834205614024, 2.677220828598839, 1.3358965113450627, 2.973932557983776, 1.50468188648222, 3.024100885594058, 1.5476018159611744, 1.2119952103463394, 1.9266380502809826, 1.845446834961076, 1.691300917680692, 1.8815576674953391, 1.1610103245585854, 1.2206910275187541, 1.2506781349872926, 5.686760591964954, 6.681413574130714, 5.269998662267027, 5.771114717778161, 2.805029403372753, 1.558063299163582, 5.998819824967645, 1.152322132443396, 6.779177220775093]\n",
      "Max VIF is for variable no.: 23\n",
      "Iteration no. 18\n",
      "[5.981600827398843, 2.6719811014056973, 1.332650668791223, 2.964146924623274, 1.5014794154241617, 3.0115712083214548, 1.5475982797432875, 1.2119519929893976, 1.9255233085800765, 1.8454467409770179, 1.6894797948700109, 1.8583562431290064, 1.1609305554014655, 1.1844055085337781, 1.2482764518564782, 5.686481740902405, 6.681102903369913, 5.122621468571459, 5.770557648884267, 2.3558687169378603, 1.5003253280944604, 1.096883312918849, 1.1501777232058665]\n",
      "Max VIF is for variable no.: 16\n",
      "Iteration no. 19\n",
      "[5.9800250005437245, 2.6709077893158444, 1.3326236712655892, 2.9492258600349435, 1.4979510466632004, 3.006812762485157, 1.5475500846705832, 1.2097470431905215, 1.9234004070482371, 1.8448320788714898, 1.686664624777223, 1.8377612273551331, 1.1606491110530561, 1.1610617824403653, 1.2239294954300177, 1.6691206978612556, 5.1112673379054145, 5.767681878987574, 1.2270154540903546, 1.4456277788272764, 1.0960084031170714, 1.1456483094717513]\n",
      "Max VIF is for variable no.: 0\n",
      "Iteration no. 20\n",
      "[2.5848123271315355, 1.2137213353031873, 2.91980194191049, 1.496447888129437, 2.894733754389649, 1.4891716844404947, 1.1954713781199764, 1.916581674931802, 1.844770991409128, 1.6832250359177872, 1.8134976668216014, 1.1547372297907739, 1.1610616790856652, 1.223218707694755, 1.6658460425174708, 4.436058516027131, 4.4410357914579395, 1.2011596012169201, 1.4414784319308709, 1.09600624040144, 1.1437164496037455]\n",
      "Max VIF is for variable no.: 16\n"
     ]
    }
   ],
   "source": [
    "train_out = calculate_vif(x)"
   ]
  },
  {
   "cell_type": "code",
   "execution_count": 39,
   "metadata": {},
   "outputs": [
    {
     "data": {
      "text/html": [
       "<div>\n",
       "<style scoped>\n",
       "    .dataframe tbody tr th:only-of-type {\n",
       "        vertical-align: middle;\n",
       "    }\n",
       "\n",
       "    .dataframe tbody tr th {\n",
       "        vertical-align: top;\n",
       "    }\n",
       "\n",
       "    .dataframe thead th {\n",
       "        text-align: right;\n",
       "    }\n",
       "</style>\n",
       "<table border=\"1\" class=\"dataframe\">\n",
       "  <thead>\n",
       "    <tr style=\"text-align: right;\">\n",
       "      <th></th>\n",
       "      <th>brand</th>\n",
       "      <th>brand_type</th>\n",
       "      <th>item_counts</th>\n",
       "      <th>no_of_customers</th>\n",
       "      <th>od_sum</th>\n",
       "      <th>other_discount_x</th>\n",
       "      <th>quantity_x</th>\n",
       "      <th>selling_price_x</th>\n",
       "      <th>campaign_type</th>\n",
       "      <th>campaign_duration</th>\n",
       "      <th>marital_status</th>\n",
       "      <th>rented</th>\n",
       "      <th>no_of_children</th>\n",
       "      <th>income_bracket</th>\n",
       "      <th>coupon_discount_y</th>\n",
       "      <th>day</th>\n",
       "      <th>dow</th>\n",
       "      <th>no_of_items</th>\n",
       "      <th>other_discount_y</th>\n",
       "      <th>quantity_y</th>\n",
       "      <th>selling_price_y</th>\n",
       "    </tr>\n",
       "  </thead>\n",
       "  <tbody>\n",
       "    <tr>\n",
       "      <th>0</th>\n",
       "      <td>55.536082</td>\n",
       "      <td>9.896907e-01</td>\n",
       "      <td>-0.114745</td>\n",
       "      <td>0.927973</td>\n",
       "      <td>0.123530</td>\n",
       "      <td>0.101451</td>\n",
       "      <td>-0.069631</td>\n",
       "      <td>-0.300703</td>\n",
       "      <td>-0.279172</td>\n",
       "      <td>0.044478</td>\n",
       "      <td>0.202749</td>\n",
       "      <td>0.024055</td>\n",
       "      <td>0.065384</td>\n",
       "      <td>-0.098009</td>\n",
       "      <td>-0.262443</td>\n",
       "      <td>15.000000</td>\n",
       "      <td>3.508591</td>\n",
       "      <td>-0.331298</td>\n",
       "      <td>0.088307</td>\n",
       "      <td>0.163553</td>\n",
       "      <td>0.206298</td>\n",
       "    </tr>\n",
       "    <tr>\n",
       "      <th>1</th>\n",
       "      <td>4317.864078</td>\n",
       "      <td>-2.498002e-16</td>\n",
       "      <td>-0.119527</td>\n",
       "      <td>-0.783603</td>\n",
       "      <td>0.154015</td>\n",
       "      <td>0.202812</td>\n",
       "      <td>-0.489455</td>\n",
       "      <td>0.891124</td>\n",
       "      <td>-0.378557</td>\n",
       "      <td>0.428994</td>\n",
       "      <td>0.155340</td>\n",
       "      <td>0.048544</td>\n",
       "      <td>0.056697</td>\n",
       "      <td>-0.203146</td>\n",
       "      <td>0.259682</td>\n",
       "      <td>14.135922</td>\n",
       "      <td>3.446602</td>\n",
       "      <td>-0.210554</td>\n",
       "      <td>0.232485</td>\n",
       "      <td>-0.153586</td>\n",
       "      <td>-0.087222</td>\n",
       "    </tr>\n",
       "    <tr>\n",
       "      <th>2</th>\n",
       "      <td>1000.656716</td>\n",
       "      <td>-5.273559e-16</td>\n",
       "      <td>-0.088604</td>\n",
       "      <td>-0.202156</td>\n",
       "      <td>0.081119</td>\n",
       "      <td>-0.197173</td>\n",
       "      <td>0.049212</td>\n",
       "      <td>-0.028470</td>\n",
       "      <td>-0.260204</td>\n",
       "      <td>0.010495</td>\n",
       "      <td>0.201493</td>\n",
       "      <td>0.089552</td>\n",
       "      <td>-0.104795</td>\n",
       "      <td>-0.239573</td>\n",
       "      <td>0.095685</td>\n",
       "      <td>15.082090</td>\n",
       "      <td>2.843284</td>\n",
       "      <td>-0.141972</td>\n",
       "      <td>-0.231920</td>\n",
       "      <td>-0.223551</td>\n",
       "      <td>-0.085445</td>\n",
       "    </tr>\n",
       "    <tr>\n",
       "      <th>3</th>\n",
       "      <td>50.576642</td>\n",
       "      <td>7.883212e-01</td>\n",
       "      <td>-0.112383</td>\n",
       "      <td>0.586560</td>\n",
       "      <td>0.105507</td>\n",
       "      <td>0.024669</td>\n",
       "      <td>0.555275</td>\n",
       "      <td>-0.324627</td>\n",
       "      <td>-0.416662</td>\n",
       "      <td>-0.186081</td>\n",
       "      <td>0.145985</td>\n",
       "      <td>0.007299</td>\n",
       "      <td>-0.390170</td>\n",
       "      <td>-0.062166</td>\n",
       "      <td>0.066888</td>\n",
       "      <td>18.080292</td>\n",
       "      <td>3.000000</td>\n",
       "      <td>-0.239049</td>\n",
       "      <td>-0.175148</td>\n",
       "      <td>0.171375</td>\n",
       "      <td>0.170465</td>\n",
       "    </tr>\n",
       "    <tr>\n",
       "      <th>4</th>\n",
       "      <td>1460.156627</td>\n",
       "      <td>2.775558e-17</td>\n",
       "      <td>-0.096961</td>\n",
       "      <td>-0.009147</td>\n",
       "      <td>0.123938</td>\n",
       "      <td>-0.296016</td>\n",
       "      <td>0.060779</td>\n",
       "      <td>0.193445</td>\n",
       "      <td>-0.325480</td>\n",
       "      <td>-0.094141</td>\n",
       "      <td>0.265060</td>\n",
       "      <td>0.036145</td>\n",
       "      <td>0.053132</td>\n",
       "      <td>0.097177</td>\n",
       "      <td>-0.049011</td>\n",
       "      <td>16.951807</td>\n",
       "      <td>2.939759</td>\n",
       "      <td>-0.173514</td>\n",
       "      <td>-0.187354</td>\n",
       "      <td>-0.042822</td>\n",
       "      <td>0.065915</td>\n",
       "    </tr>\n",
       "  </tbody>\n",
       "</table>\n",
       "</div>"
      ],
      "text/plain": [
       "         brand    brand_type  item_counts  no_of_customers    od_sum  \\\n",
       "0    55.536082  9.896907e-01    -0.114745         0.927973  0.123530   \n",
       "1  4317.864078 -2.498002e-16    -0.119527        -0.783603  0.154015   \n",
       "2  1000.656716 -5.273559e-16    -0.088604        -0.202156  0.081119   \n",
       "3    50.576642  7.883212e-01    -0.112383         0.586560  0.105507   \n",
       "4  1460.156627  2.775558e-17    -0.096961        -0.009147  0.123938   \n",
       "\n",
       "   other_discount_x  quantity_x  selling_price_x  campaign_type  \\\n",
       "0          0.101451   -0.069631        -0.300703      -0.279172   \n",
       "1          0.202812   -0.489455         0.891124      -0.378557   \n",
       "2         -0.197173    0.049212        -0.028470      -0.260204   \n",
       "3          0.024669    0.555275        -0.324627      -0.416662   \n",
       "4         -0.296016    0.060779         0.193445      -0.325480   \n",
       "\n",
       "   campaign_duration  marital_status    rented  no_of_children  \\\n",
       "0           0.044478        0.202749  0.024055        0.065384   \n",
       "1           0.428994        0.155340  0.048544        0.056697   \n",
       "2           0.010495        0.201493  0.089552       -0.104795   \n",
       "3          -0.186081        0.145985  0.007299       -0.390170   \n",
       "4          -0.094141        0.265060  0.036145        0.053132   \n",
       "\n",
       "   income_bracket  coupon_discount_y        day       dow  no_of_items  \\\n",
       "0       -0.098009          -0.262443  15.000000  3.508591    -0.331298   \n",
       "1       -0.203146           0.259682  14.135922  3.446602    -0.210554   \n",
       "2       -0.239573           0.095685  15.082090  2.843284    -0.141972   \n",
       "3       -0.062166           0.066888  18.080292  3.000000    -0.239049   \n",
       "4        0.097177          -0.049011  16.951807  2.939759    -0.173514   \n",
       "\n",
       "   other_discount_y  quantity_y  selling_price_y  \n",
       "0          0.088307    0.163553         0.206298  \n",
       "1          0.232485   -0.153586        -0.087222  \n",
       "2         -0.231920   -0.223551        -0.085445  \n",
       "3         -0.175148    0.171375         0.170465  \n",
       "4         -0.187354   -0.042822         0.065915  "
      ]
     },
     "execution_count": 39,
     "metadata": {},
     "output_type": "execute_result"
    }
   ],
   "source": [
    "## includes only the relevant features.\n",
    "train_out.head()"
   ]
  },
  {
   "cell_type": "code",
   "execution_count": 40,
   "metadata": {},
   "outputs": [
    {
     "data": {
      "text/plain": [
       "Index(['brand', 'brand_type', 'item_counts', 'no_of_customers', 'od_sum',\n",
       "       'other_discount_x', 'quantity_x', 'selling_price_x', 'campaign_type',\n",
       "       'campaign_duration', 'marital_status', 'rented', 'no_of_children',\n",
       "       'income_bracket', 'coupon_discount_y', 'day', 'dow', 'no_of_items',\n",
       "       'other_discount_y', 'quantity_y', 'selling_price_y'],\n",
       "      dtype='object')"
      ]
     },
     "execution_count": 40,
     "metadata": {},
     "output_type": "execute_result"
    }
   ],
   "source": [
    "train_out.columns"
   ]
  },
  {
   "cell_type": "code",
   "execution_count": 41,
   "metadata": {},
   "outputs": [
    {
     "data": {
      "text/plain": [
       "(1458, 21)"
      ]
     },
     "execution_count": 41,
     "metadata": {},
     "output_type": "execute_result"
    }
   ],
   "source": [
    "train_out.shape"
   ]
  },
  {
   "cell_type": "code",
   "execution_count": 42,
   "metadata": {},
   "outputs": [],
   "source": [
    "x_train,x_test,y_train,y_test = train_test_split(train_out,y,test_size=0.3,random_state=1990)"
   ]
  },
  {
   "cell_type": "code",
   "execution_count": 43,
   "metadata": {},
   "outputs": [
    {
     "data": {
      "text/plain": [
       "((1020, 21), (1020,), (438, 21), (438,))"
      ]
     },
     "execution_count": 43,
     "metadata": {},
     "output_type": "execute_result"
    }
   ],
   "source": [
    "x_train.shape,y_train.shape,x_test.shape,y_test.shape"
   ]
  },
  {
   "cell_type": "code",
   "execution_count": 44,
   "metadata": {},
   "outputs": [
    {
     "name": "stdout",
     "output_type": "stream",
     "text": [
      "              precision    recall  f1-score   support\n",
      "\n",
      "           0       0.86      0.95      0.90       216\n",
      "           1       0.94      0.85      0.89       222\n",
      "\n",
      "    accuracy                           0.90       438\n",
      "   macro avg       0.90      0.90      0.90       438\n",
      "weighted avg       0.90      0.90      0.90       438\n",
      "\n"
     ]
    }
   ],
   "source": [
    "LR = LogisticRegression()\n",
    "LR.fit(x_train,y_train)\n",
    "y_pred_LR = LR.predict(x_test)\n",
    "print(classification_report(y_test,y_pred_LR))"
   ]
  },
  {
   "cell_type": "code",
   "execution_count": 45,
   "metadata": {},
   "outputs": [],
   "source": [
    "roc_auc_score(y_test,y_pred_LR)\n",
    "Model = ['Logistic Regression']\n",
    "ROC_AUC_Accuracy = [roc_auc_score(y_test,y_pred_LR)]"
   ]
  },
  {
   "cell_type": "markdown",
   "metadata": {},
   "source": [
    "# Naive Bayes"
   ]
  },
  {
   "cell_type": "code",
   "execution_count": 46,
   "metadata": {},
   "outputs": [
    {
     "name": "stdout",
     "output_type": "stream",
     "text": [
      "0.9884259259259259\n"
     ]
    }
   ],
   "source": [
    "nb = GaussianNB()\n",
    "nb.fit(x_train,y_train)\n",
    "y_pred_nb = nb.predict(x_test)\n",
    "print(roc_auc_score(y_test,y_pred_nb))\n",
    "Model.append('Naive Bayes')\n",
    "ROC_AUC_Accuracy.append(roc_auc_score(y_test,y_pred_nb))"
   ]
  },
  {
   "cell_type": "code",
   "execution_count": 47,
   "metadata": {},
   "outputs": [
    {
     "name": "stdout",
     "output_type": "stream",
     "text": [
      "              precision    recall  f1-score   support\n",
      "\n",
      "           0       1.00      0.98      0.99       216\n",
      "           1       0.98      1.00      0.99       222\n",
      "\n",
      "    accuracy                           0.99       438\n",
      "   macro avg       0.99      0.99      0.99       438\n",
      "weighted avg       0.99      0.99      0.99       438\n",
      "\n"
     ]
    }
   ],
   "source": [
    "print(classification_report(y_test,y_pred_nb))"
   ]
  },
  {
   "cell_type": "markdown",
   "metadata": {},
   "source": [
    "# Decision Tree"
   ]
  },
  {
   "cell_type": "code",
   "execution_count": 48,
   "metadata": {},
   "outputs": [
    {
     "data": {
      "text/plain": [
       "GridSearchCV(cv=3, error_score='raise-deprecating',\n",
       "             estimator=DecisionTreeClassifier(class_weight=None,\n",
       "                                              criterion='gini', max_depth=None,\n",
       "                                              max_features=None,\n",
       "                                              max_leaf_nodes=None,\n",
       "                                              min_impurity_decrease=0.0,\n",
       "                                              min_impurity_split=None,\n",
       "                                              min_samples_leaf=1,\n",
       "                                              min_samples_split=2,\n",
       "                                              min_weight_fraction_leaf=0.0,\n",
       "                                              presort=False, random_state=None,\n",
       "                                              splitter='best'),\n",
       "             iid='warn', n_jobs=-1,\n",
       "             param_grid={'criterion': ['gini', 'entropy'],\n",
       "                         'max_depth': range(1, 10),\n",
       "                         'max_features': ['auto', 'log2'],\n",
       "                         'max_leaf_nodes': range(2, 10),\n",
       "                         'splitter': ['best', 'random']},\n",
       "             pre_dispatch='2*n_jobs', refit=True, return_train_score=False,\n",
       "             scoring='recall', verbose=0)"
      ]
     },
     "execution_count": 48,
     "metadata": {},
     "output_type": "execute_result"
    }
   ],
   "source": [
    "params = {\n",
    "    \n",
    "    'criterion':['gini','entropy'],\n",
    "    'splitter':['best','random'],\n",
    "    'max_depth':range(1,10),\n",
    "    'max_leaf_nodes':range(2,10,1),\n",
    "    'max_features':['auto','log2']\n",
    "    \n",
    "}\n",
    "\n",
    "dt = DecisionTreeClassifier()\n",
    "\n",
    "gs = GridSearchCV(estimator=dt,n_jobs=-1,cv=3,param_grid=params,scoring='recall')\n",
    "gs.fit(train_out,y)"
   ]
  },
  {
   "cell_type": "code",
   "execution_count": 49,
   "metadata": {},
   "outputs": [
    {
     "name": "stdout",
     "output_type": "stream",
     "text": [
      "0.9661536536536536\n"
     ]
    }
   ],
   "source": [
    "dt = DecisionTreeClassifier(**gs.best_params_)\n",
    "dt.fit(x_train,y_train)\n",
    "y_pred_dt = dt.predict(x_test)\n",
    "print(roc_auc_score(y_test,y_pred_dt))\n",
    "Model.append('Decision Tree')\n",
    "ROC_AUC_Accuracy.append(roc_auc_score(y_test,y_pred_dt))"
   ]
  },
  {
   "cell_type": "code",
   "execution_count": 50,
   "metadata": {},
   "outputs": [
    {
     "name": "stdout",
     "output_type": "stream",
     "text": [
      "              precision    recall  f1-score   support\n",
      "\n",
      "           0       0.94      1.00      0.97       216\n",
      "           1       1.00      0.94      0.97       222\n",
      "\n",
      "    accuracy                           0.97       438\n",
      "   macro avg       0.97      0.97      0.97       438\n",
      "weighted avg       0.97      0.97      0.97       438\n",
      "\n"
     ]
    }
   ],
   "source": [
    "print(classification_report(y_test,y_pred_dt))"
   ]
  },
  {
   "cell_type": "code",
   "execution_count": 51,
   "metadata": {},
   "outputs": [
    {
     "data": {
      "text/plain": [
       "(['Logistic Regression', 'Naive Bayes', 'Decision Tree'],\n",
       " [0.8979604604604604, 0.9884259259259259, 0.9661536536536536])"
      ]
     },
     "execution_count": 51,
     "metadata": {},
     "output_type": "execute_result"
    }
   ],
   "source": [
    "Model,ROC_AUC_Accuracy"
   ]
  },
  {
   "cell_type": "markdown",
   "metadata": {},
   "source": [
    "# Random Forest"
   ]
  },
  {
   "cell_type": "code",
   "execution_count": 52,
   "metadata": {},
   "outputs": [
    {
     "data": {
      "text/plain": [
       "RandomizedSearchCV(cv=3, error_score='raise-deprecating',\n",
       "                   estimator=RandomForestClassifier(bootstrap=True,\n",
       "                                                    class_weight=None,\n",
       "                                                    criterion='gini',\n",
       "                                                    max_depth=None,\n",
       "                                                    max_features='auto',\n",
       "                                                    max_leaf_nodes=None,\n",
       "                                                    min_impurity_decrease=0.0,\n",
       "                                                    min_impurity_split=None,\n",
       "                                                    min_samples_leaf=1,\n",
       "                                                    min_samples_split=2,\n",
       "                                                    min_weight_fraction_leaf=0.0,\n",
       "                                                    n_estimators='warn',\n",
       "                                                    n_jobs=None,\n",
       "                                                    oob_sc...\n",
       "                                                    random_state=None,\n",
       "                                                    verbose=0,\n",
       "                                                    warm_start=False),\n",
       "                   iid='warn', n_iter=10, n_jobs=-1,\n",
       "                   param_distributions={'criterion': ['gini', 'entropy'],\n",
       "                                        'max_depth': range(2, 10),\n",
       "                                        'max_features': ['auto', 'log2'],\n",
       "                                        'max_leaf_nodes': range(2, 10),\n",
       "                                        'n_estimators': range(10, 100, 10)},\n",
       "                   pre_dispatch='2*n_jobs', random_state=None, refit=True,\n",
       "                   return_train_score=False, scoring='recall', verbose=0)"
      ]
     },
     "execution_count": 52,
     "metadata": {},
     "output_type": "execute_result"
    }
   ],
   "source": [
    "params = {\n",
    "    \n",
    "    'n_estimators':range(10,100,10),\n",
    "    'criterion':['gini','entropy'],\n",
    "    'max_depth':range(2,10,1),\n",
    "    'max_leaf_nodes':range(2,10,1),\n",
    "    'max_features':['auto','log2']\n",
    "    \n",
    "}\n",
    "\n",
    "rf = RandomForestClassifier()\n",
    "\n",
    "rs = RandomizedSearchCV(estimator=rf,param_distributions=params,cv=3,scoring='recall',n_jobs=-1)\n",
    "rs.fit(train_out,y)"
   ]
  },
  {
   "cell_type": "code",
   "execution_count": 53,
   "metadata": {},
   "outputs": [
    {
     "name": "stdout",
     "output_type": "stream",
     "text": [
      "0.9907407407407408\n"
     ]
    }
   ],
   "source": [
    "rf = RandomForestClassifier(**rs.best_params_)\n",
    "rf.fit(x_train,y_train)\n",
    "y_pred_rf = rf.predict(x_test)\n",
    "print(roc_auc_score(y_test,y_pred_rf))\n",
    "Model.append('Random Forest')\n",
    "ROC_AUC_Accuracy.append(roc_auc_score(y_test,y_pred_rf))"
   ]
  },
  {
   "cell_type": "code",
   "execution_count": 54,
   "metadata": {},
   "outputs": [
    {
     "name": "stdout",
     "output_type": "stream",
     "text": [
      "              precision    recall  f1-score   support\n",
      "\n",
      "           0       1.00      0.98      0.99       216\n",
      "           1       0.98      1.00      0.99       222\n",
      "\n",
      "    accuracy                           0.99       438\n",
      "   macro avg       0.99      0.99      0.99       438\n",
      "weighted avg       0.99      0.99      0.99       438\n",
      "\n"
     ]
    }
   ],
   "source": [
    "print(classification_report(y_test,y_pred_rf))"
   ]
  },
  {
   "cell_type": "code",
   "execution_count": 55,
   "metadata": {},
   "outputs": [
    {
     "data": {
      "text/plain": [
       "(['Logistic Regression', 'Naive Bayes', 'Decision Tree', 'Random Forest'],\n",
       " [0.8979604604604604,\n",
       "  0.9884259259259259,\n",
       "  0.9661536536536536,\n",
       "  0.9907407407407408])"
      ]
     },
     "execution_count": 55,
     "metadata": {},
     "output_type": "execute_result"
    }
   ],
   "source": [
    "Model,ROC_AUC_Accuracy"
   ]
  },
  {
   "cell_type": "code",
   "execution_count": 56,
   "metadata": {},
   "outputs": [
    {
     "data": {
      "text/html": [
       "<div>\n",
       "<style scoped>\n",
       "    .dataframe tbody tr th:only-of-type {\n",
       "        vertical-align: middle;\n",
       "    }\n",
       "\n",
       "    .dataframe tbody tr th {\n",
       "        vertical-align: top;\n",
       "    }\n",
       "\n",
       "    .dataframe thead th {\n",
       "        text-align: right;\n",
       "    }\n",
       "</style>\n",
       "<table border=\"1\" class=\"dataframe\">\n",
       "  <thead>\n",
       "    <tr style=\"text-align: right;\">\n",
       "      <th></th>\n",
       "      <th>Model - VIF Data</th>\n",
       "      <th>Accuracy</th>\n",
       "    </tr>\n",
       "  </thead>\n",
       "  <tbody>\n",
       "    <tr>\n",
       "      <th>0</th>\n",
       "      <td>Logistic Regression</td>\n",
       "      <td>0.897960</td>\n",
       "    </tr>\n",
       "    <tr>\n",
       "      <th>1</th>\n",
       "      <td>Naive Bayes</td>\n",
       "      <td>0.988426</td>\n",
       "    </tr>\n",
       "    <tr>\n",
       "      <th>2</th>\n",
       "      <td>Decision Tree</td>\n",
       "      <td>0.966154</td>\n",
       "    </tr>\n",
       "    <tr>\n",
       "      <th>3</th>\n",
       "      <td>Random Forest</td>\n",
       "      <td>0.990741</td>\n",
       "    </tr>\n",
       "  </tbody>\n",
       "</table>\n",
       "</div>"
      ],
      "text/plain": [
       "      Model - VIF Data  Accuracy\n",
       "0  Logistic Regression  0.897960\n",
       "1          Naive Bayes  0.988426\n",
       "2        Decision Tree  0.966154\n",
       "3        Random Forest  0.990741"
      ]
     },
     "execution_count": 56,
     "metadata": {},
     "output_type": "execute_result"
    }
   ],
   "source": [
    "final_result = pd.DataFrame({'Model - VIF Data':Model,'Accuracy':ROC_AUC_Accuracy})\n",
    "final_result"
   ]
  },
  {
   "cell_type": "markdown",
   "metadata": {},
   "source": [
    "# Lasso"
   ]
  },
  {
   "cell_type": "code",
   "execution_count": 57,
   "metadata": {},
   "outputs": [
    {
     "name": "stdout",
     "output_type": "stream",
     "text": [
      "Best alpha using built-in LassoCV: 0.261863\n",
      "Best score using built-in LassoCV: 0.200733\n"
     ]
    }
   ],
   "source": [
    "from sklearn.linear_model import LassoCV, Lasso\n",
    "reg = LassoCV()\n",
    "reg.fit(x, y)\n",
    "print(\"Best alpha using built-in LassoCV: %f\" % reg.alpha_)\n",
    "print(\"Best score using built-in LassoCV: %f\" %reg.score(x,y))\n",
    "coef = pd.Series(reg.coef_, index = x.columns)"
   ]
  },
  {
   "cell_type": "code",
   "execution_count": 58,
   "metadata": {},
   "outputs": [
    {
     "name": "stdout",
     "output_type": "stream",
     "text": [
      "Lasso picked 3 variables and eliminated the other 37 variables\n"
     ]
    }
   ],
   "source": [
    "print(\"Lasso picked \" + str(sum(coef != 0)) + \" variables and eliminated the other \" +  \n",
    "      str(sum(coef == 0)) + \" variables\")"
   ]
  },
  {
   "cell_type": "code",
   "execution_count": 59,
   "metadata": {},
   "outputs": [
    {
     "data": {
      "text/plain": [
       "Text(0.5, 1.0, 'Feature importance using Lasso Model')"
      ]
     },
     "execution_count": 59,
     "metadata": {},
     "output_type": "execute_result"
    },
    {
     "data": {
      "image/png": "[encoded data removed]",
      "text/plain": [
       "<Figure size 1152x1440 with 1 Axes>"
      ]
     },
     "metadata": {
      "needs_background": "light"
     },
     "output_type": "display_data"
    }
   ],
   "source": [
    "imp_coef = coef.sort_values()\n",
    "import matplotlib.pyplot as plt\n",
    "plt.rcParams['figure.figsize'] = (16.0, 20.0)\n",
    "imp_coef.plot(kind = \"barh\")\n",
    "plt.title(\"Feature importance using Lasso Model\")"
   ]
  },
  {
   "cell_type": "markdown",
   "metadata": {},
   "source": [
    "8 columns\n",
    "\n",
    "columns:['coupon_used_y', 'coupon_id','brand']"
   ]
  },
  {
   "cell_type": "code",
   "execution_count": 60,
   "metadata": {},
   "outputs": [],
   "source": [
    "col_names=['coupon_used_y', 'coupon_id','brand']"
   ]
  },
  {
   "cell_type": "code",
   "execution_count": 61,
   "metadata": {},
   "outputs": [
    {
     "data": {
      "text/plain": [
       "Index(['coupon_id', 'customer_id', 'brand', 'brand_type', 'category', 'cd_sum',\n",
       "       'coupon_discount_x', 'coupon_used_x', 'item_counts', 'no_of_customers',\n",
       "       'od_sum', 'other_discount_x', 'price_sum', 'qu_sum', 'quantity_x',\n",
       "       'selling_price_x', 't_counts', 'total_discount_mean',\n",
       "       'total_discount_sum', 'campaign_type', 'campaign_duration', 'age_range',\n",
       "       'marital_status', 'rented', 'family_size', 'no_of_children',\n",
       "       'income_bracket', 'coupon_discount_y', 'coupon_used_y', 'day', 'dow',\n",
       "       'no_of_items', 'month', 'other_discount_y', 'quantity_y',\n",
       "       'selling_price_y', 'cdd_sum', 'customer_id_count', 'odd_sum', 'qa_sum',\n",
       "       'pprice_sum'],\n",
       "      dtype='object')"
      ]
     },
     "execution_count": 61,
     "metadata": {},
     "output_type": "execute_result"
    }
   ],
   "source": [
    "X.columns"
   ]
  },
  {
   "cell_type": "code",
   "execution_count": 62,
   "metadata": {},
   "outputs": [],
   "source": [
    "x=X[col_names]"
   ]
  },
  {
   "cell_type": "code",
   "execution_count": 63,
   "metadata": {},
   "outputs": [],
   "source": [
    "x_train,x_test,y_train,y_test = train_test_split(x,y,test_size=0.3,random_state=1990)"
   ]
  },
  {
   "cell_type": "code",
   "execution_count": 64,
   "metadata": {},
   "outputs": [
    {
     "data": {
      "text/plain": [
       "((1020, 3), (1020,), (438, 3), (438,))"
      ]
     },
     "execution_count": 64,
     "metadata": {},
     "output_type": "execute_result"
    }
   ],
   "source": [
    "x_train.shape,y_train.shape,x_test.shape,y_test.shape"
   ]
  },
  {
   "cell_type": "markdown",
   "metadata": {},
   "source": [
    "# Logistic Regression"
   ]
  },
  {
   "cell_type": "code",
   "execution_count": 65,
   "metadata": {},
   "outputs": [
    {
     "name": "stdout",
     "output_type": "stream",
     "text": [
      "              precision    recall  f1-score   support\n",
      "\n",
      "           0       0.74      0.89      0.81       216\n",
      "           1       0.87      0.69      0.77       222\n",
      "\n",
      "    accuracy                           0.79       438\n",
      "   macro avg       0.80      0.79      0.79       438\n",
      "weighted avg       0.80      0.79      0.79       438\n",
      "\n"
     ]
    }
   ],
   "source": [
    "LR = LogisticRegression()\n",
    "LR.fit(x_train,y_train)\n",
    "y_pred_LR = LR.predict(x_test)\n",
    "print(classification_report(y_test,y_pred_LR))"
   ]
  },
  {
   "cell_type": "code",
   "execution_count": 66,
   "metadata": {},
   "outputs": [],
   "source": [
    "roc_auc_score(y_test,y_pred_LR)\n",
    "Model = ['Logistic Regression']\n",
    "ROC_AUC_Accuracy = [roc_auc_score(y_test,y_pred_LR)]"
   ]
  },
  {
   "cell_type": "markdown",
   "metadata": {},
   "source": [
    "# Naive Bayes"
   ]
  },
  {
   "cell_type": "code",
   "execution_count": 67,
   "metadata": {},
   "outputs": [
    {
     "name": "stdout",
     "output_type": "stream",
     "text": [
      "0.7697072072072073\n"
     ]
    }
   ],
   "source": [
    "nb = GaussianNB()\n",
    "nb.fit(x_train,y_train)\n",
    "y_pred_nb = nb.predict(x_test)\n",
    "print(roc_auc_score(y_test,y_pred_nb))\n",
    "Model.append('Naive Bayes')\n",
    "ROC_AUC_Accuracy.append(roc_auc_score(y_test,y_pred_nb))"
   ]
  },
  {
   "cell_type": "code",
   "execution_count": 68,
   "metadata": {},
   "outputs": [
    {
     "name": "stdout",
     "output_type": "stream",
     "text": [
      "              precision    recall  f1-score   support\n",
      "\n",
      "           0       0.69      0.96      0.80       216\n",
      "           1       0.93      0.58      0.72       222\n",
      "\n",
      "    accuracy                           0.77       438\n",
      "   macro avg       0.81      0.77      0.76       438\n",
      "weighted avg       0.81      0.77      0.76       438\n",
      "\n"
     ]
    }
   ],
   "source": [
    "print(classification_report(y_test,y_pred_nb))"
   ]
  },
  {
   "cell_type": "code",
   "execution_count": 69,
   "metadata": {},
   "outputs": [
    {
     "data": {
      "text/plain": [
       "(['Logistic Regression', 'Naive Bayes'],\n",
       " [0.7913538538538537, 0.7697072072072073])"
      ]
     },
     "execution_count": 69,
     "metadata": {},
     "output_type": "execute_result"
    }
   ],
   "source": [
    "Model,ROC_AUC_Accuracy"
   ]
  },
  {
   "cell_type": "markdown",
   "metadata": {},
   "source": [
    "# Decision Tree"
   ]
  },
  {
   "cell_type": "code",
   "execution_count": 70,
   "metadata": {},
   "outputs": [
    {
     "data": {
      "text/plain": [
       "RandomizedSearchCV(cv=3, error_score='raise-deprecating',\n",
       "                   estimator=DecisionTreeClassifier(class_weight=None,\n",
       "                                                    criterion='gini',\n",
       "                                                    max_depth=None,\n",
       "                                                    max_features=None,\n",
       "                                                    max_leaf_nodes=None,\n",
       "                                                    min_impurity_decrease=0.0,\n",
       "                                                    min_impurity_split=None,\n",
       "                                                    min_samples_leaf=1,\n",
       "                                                    min_samples_split=2,\n",
       "                                                    min_weight_fraction_leaf=0.0,\n",
       "                                                    presort=False,\n",
       "                                                    random_state=None,\n",
       "                                                    splitter='best'),\n",
       "                   iid='warn', n_iter=10, n_jobs=-1,\n",
       "                   param_distributions={'criterion': ['gini', 'entropy'],\n",
       "                                        'max_depth': range(1, 10),\n",
       "                                        'max_features': ['auto', 'log2'],\n",
       "                                        'max_leaf_nodes': range(2, 10),\n",
       "                                        'splitter': ['best', 'random']},\n",
       "                   pre_dispatch='2*n_jobs', random_state=None, refit=True,\n",
       "                   return_train_score=False, scoring='recall', verbose=0)"
      ]
     },
     "execution_count": 70,
     "metadata": {},
     "output_type": "execute_result"
    }
   ],
   "source": [
    "params = {\n",
    "    \n",
    "    'criterion':['gini','entropy'],\n",
    "    'splitter':['best','random'],\n",
    "    'max_depth':range(1,10),\n",
    "    'max_leaf_nodes':range(2,10,1),\n",
    "    'max_features':['auto','log2']\n",
    "    \n",
    "}\n",
    "\n",
    "dt = DecisionTreeClassifier()\n",
    "\n",
    "rs = RandomizedSearchCV(estimator=dt,n_jobs=-1,cv=3,param_distributions=params,scoring='recall')\n",
    "rs.fit(x,y)"
   ]
  },
  {
   "cell_type": "code",
   "execution_count": 71,
   "metadata": {},
   "outputs": [
    {
     "name": "stdout",
     "output_type": "stream",
     "text": [
      "0.5820820820820821\n"
     ]
    }
   ],
   "source": [
    "dt = DecisionTreeClassifier(**rs.best_params_)\n",
    "dt.fit(x_train,y_train)\n",
    "y_pred_dt = dt.predict(x_test)\n",
    "print(roc_auc_score(y_test,y_pred_dt))\n",
    "Model.append('Decision Tree')\n",
    "ROC_AUC_Accuracy.append(roc_auc_score(y_test,y_pred_dt))"
   ]
  },
  {
   "cell_type": "code",
   "execution_count": 72,
   "metadata": {},
   "outputs": [
    {
     "name": "stdout",
     "output_type": "stream",
     "text": [
      "              precision    recall  f1-score   support\n",
      "\n",
      "           0       0.75      0.24      0.36       216\n",
      "           1       0.56      0.92      0.69       222\n",
      "\n",
      "    accuracy                           0.59       438\n",
      "   macro avg       0.65      0.58      0.53       438\n",
      "weighted avg       0.65      0.59      0.53       438\n",
      "\n"
     ]
    }
   ],
   "source": [
    "print(classification_report(y_test,y_pred_dt))"
   ]
  },
  {
   "cell_type": "code",
   "execution_count": 73,
   "metadata": {},
   "outputs": [
    {
     "data": {
      "text/plain": [
       "(['Logistic Regression', 'Naive Bayes', 'Decision Tree'],\n",
       " [0.7913538538538537, 0.7697072072072073, 0.5820820820820821])"
      ]
     },
     "execution_count": 73,
     "metadata": {},
     "output_type": "execute_result"
    }
   ],
   "source": [
    "Model,ROC_AUC_Accuracy"
   ]
  },
  {
   "cell_type": "markdown",
   "metadata": {},
   "source": [
    "# Random Forest"
   ]
  },
  {
   "cell_type": "code",
   "execution_count": 74,
   "metadata": {},
   "outputs": [
    {
     "data": {
      "text/plain": [
       "RandomizedSearchCV(cv=5, error_score='raise-deprecating',\n",
       "                   estimator=RandomForestClassifier(bootstrap=True,\n",
       "                                                    class_weight=None,\n",
       "                                                    criterion='gini',\n",
       "                                                    max_depth=None,\n",
       "                                                    max_features='auto',\n",
       "                                                    max_leaf_nodes=None,\n",
       "                                                    min_impurity_decrease=0.0,\n",
       "                                                    min_impurity_split=None,\n",
       "                                                    min_samples_leaf=1,\n",
       "                                                    min_samples_split=2,\n",
       "                                                    min_weight_fraction_leaf=0.0,\n",
       "                                                    n_estimators='warn',\n",
       "                                                    n_jobs=None,\n",
       "                                                    oob_sc...\n",
       "                                                    random_state=None,\n",
       "                                                    verbose=0,\n",
       "                                                    warm_start=False),\n",
       "                   iid='warn', n_iter=10, n_jobs=-1,\n",
       "                   param_distributions={'criterion': ['gini', 'entropy'],\n",
       "                                        'max_depth': range(2, 10),\n",
       "                                        'max_features': ['auto', 'log2'],\n",
       "                                        'max_leaf_nodes': range(2, 10),\n",
       "                                        'n_estimators': range(10, 100, 10)},\n",
       "                   pre_dispatch='2*n_jobs', random_state=None, refit=True,\n",
       "                   return_train_score=False, scoring='recall', verbose=0)"
      ]
     },
     "execution_count": 74,
     "metadata": {},
     "output_type": "execute_result"
    }
   ],
   "source": [
    "params = {\n",
    "    \n",
    "    'n_estimators':range(10,100,10),\n",
    "    'criterion':['gini','entropy'],\n",
    "    'max_depth':range(2,10,1),\n",
    "    'max_leaf_nodes':range(2,10,1),\n",
    "    'max_features':['auto','log2']\n",
    "    \n",
    "}\n",
    "\n",
    "rf = RandomForestClassifier()\n",
    "\n",
    "rs = RandomizedSearchCV(estimator=rf,param_distributions=params,cv=5,scoring='recall',n_jobs=-1)\n",
    "rs.fit(x,y)"
   ]
  },
  {
   "cell_type": "code",
   "execution_count": 75,
   "metadata": {},
   "outputs": [
    {
     "name": "stdout",
     "output_type": "stream",
     "text": [
      "0.8616741741741741\n"
     ]
    }
   ],
   "source": [
    "rf = RandomForestClassifier(**rs.best_params_)\n",
    "rf.fit(x_train,y_train)\n",
    "y_pred_rf = rf.predict(x_test)\n",
    "print(roc_auc_score(y_test,y_pred_rf))\n",
    "Model.append('Random Forest')\n",
    "ROC_AUC_Accuracy.append(roc_auc_score(y_test,y_pred_rf))"
   ]
  },
  {
   "cell_type": "code",
   "execution_count": 76,
   "metadata": {},
   "outputs": [
    {
     "name": "stdout",
     "output_type": "stream",
     "text": [
      "              precision    recall  f1-score   support\n",
      "\n",
      "           0       0.81      0.93      0.87       216\n",
      "           1       0.92      0.79      0.85       222\n",
      "\n",
      "    accuracy                           0.86       438\n",
      "   macro avg       0.87      0.86      0.86       438\n",
      "weighted avg       0.87      0.86      0.86       438\n",
      "\n"
     ]
    }
   ],
   "source": [
    "print(classification_report(y_test,y_pred_rf))"
   ]
  },
  {
   "cell_type": "code",
   "execution_count": 77,
   "metadata": {},
   "outputs": [
    {
     "data": {
      "text/plain": [
       "(['Logistic Regression', 'Naive Bayes', 'Decision Tree', 'Random Forest'],\n",
       " [0.7913538538538537,\n",
       "  0.7697072072072073,\n",
       "  0.5820820820820821,\n",
       "  0.8616741741741741])"
      ]
     },
     "execution_count": 77,
     "metadata": {},
     "output_type": "execute_result"
    }
   ],
   "source": [
    "Model,ROC_AUC_Accuracy"
   ]
  },
  {
   "cell_type": "code",
   "execution_count": 78,
   "metadata": {},
   "outputs": [
    {
     "data": {
      "text/html": [
       "<div>\n",
       "<style scoped>\n",
       "    .dataframe tbody tr th:only-of-type {\n",
       "        vertical-align: middle;\n",
       "    }\n",
       "\n",
       "    .dataframe tbody tr th {\n",
       "        vertical-align: top;\n",
       "    }\n",
       "\n",
       "    .dataframe thead th {\n",
       "        text-align: right;\n",
       "    }\n",
       "</style>\n",
       "<table border=\"1\" class=\"dataframe\">\n",
       "  <thead>\n",
       "    <tr style=\"text-align: right;\">\n",
       "      <th></th>\n",
       "      <th>Model</th>\n",
       "      <th>Accuracy</th>\n",
       "    </tr>\n",
       "  </thead>\n",
       "  <tbody>\n",
       "    <tr>\n",
       "      <th>0</th>\n",
       "      <td>Logistic Regression</td>\n",
       "      <td>0.791354</td>\n",
       "    </tr>\n",
       "    <tr>\n",
       "      <th>1</th>\n",
       "      <td>Naive Bayes</td>\n",
       "      <td>0.769707</td>\n",
       "    </tr>\n",
       "    <tr>\n",
       "      <th>2</th>\n",
       "      <td>Decision Tree</td>\n",
       "      <td>0.582082</td>\n",
       "    </tr>\n",
       "    <tr>\n",
       "      <th>3</th>\n",
       "      <td>Random Forest</td>\n",
       "      <td>0.861674</td>\n",
       "    </tr>\n",
       "  </tbody>\n",
       "</table>\n",
       "</div>"
      ],
      "text/plain": [
       "                 Model  Accuracy\n",
       "0  Logistic Regression  0.791354\n",
       "1          Naive Bayes  0.769707\n",
       "2        Decision Tree  0.582082\n",
       "3        Random Forest  0.861674"
      ]
     },
     "execution_count": 78,
     "metadata": {},
     "output_type": "execute_result"
    }
   ],
   "source": [
    "final_result = pd.DataFrame({'Model':Model,'Accuracy':ROC_AUC_Accuracy})\n",
    "final_result"
   ]
  },
  {
   "cell_type": "code",
   "execution_count": null,
   "metadata": {},
   "outputs": [],
   "source": []
  }
 ],
 "metadata": {
  "kernelspec": {
   "display_name": "Python 3",
   "language": "python",
   "name": "python3"
  },
  "language_info": {
   "codemirror_mode": {
    "name": "ipython",
    "version": 3
   },
   "file_extension": ".py",
   "mimetype": "text/x-python",
   "name": "python",
   "nbconvert_exporter": "python",
   "pygments_lexer": "ipython3",
   "version": "3.6.6"
  }
 },
 "nbformat": 4,
 "nbformat_minor": 1
}
