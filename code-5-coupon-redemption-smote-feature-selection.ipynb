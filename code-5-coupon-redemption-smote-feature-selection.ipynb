{
 "cells": [
  {
   "cell_type": "code",
   "execution_count": 1,
   "metadata": {
    "_cell_guid": "b1076dfc-b9ad-4769-8c92-a6c4dae69d19",
    "_uuid": "8f2839f25d086af736a60e9eeb907d3b93b6e0e5"
   },
   "outputs": [
    {
     "name": "stdout",
     "output_type": "stream",
     "text": [
      "/kaggle/input/campaign_data.csv\n",
      "/kaggle/input/test.csv\n",
      "/kaggle/input/Schema.png\n",
      "/kaggle/input/train.csv\n",
      "/kaggle/input/customer_transaction_data.csv\n",
      "/kaggle/input/customer_demographics.csv\n",
      "/kaggle/input/item_data.csv\n",
      "/kaggle/input/smote.csv\n",
      "/kaggle/input/coupon_item_mapping.csv\n",
      "/kaggle/input/final_train.csv\n"
     ]
    }
   ],
   "source": [
    "# This Python 3 environment comes with many helpful analytics libraries installed\n",
    "# It is defined by the kaggle/python docker image: https://github.com/kaggle/docker-python\n",
    "# For example, here's several helpful packages to load in \n",
    "\n",
    "import numpy as np # linear algebra\n",
    "import pandas as pd # data processing, CSV file I/O (e.g. pd.read_csv)\n",
    "\n",
    "# Input data files are available in the \"../input/\" directory.\n",
    "# For example, running this (by clicking run or pressing Shift+Enter) will list all files under the input directory\n",
    "\n",
    "import os\n",
    "for dirname, _, filenames in os.walk('/kaggle/input'):\n",
    "    for filename in filenames:\n",
    "        print(os.path.join(dirname, filename))\n",
    "\n",
    "# Any results you write to the current directory are saved as output."
   ]
  },
  {
   "cell_type": "code",
   "execution_count": 2,
   "metadata": {
    "_cell_guid": "79c7e3d0-c299-4dcb-8224-4455121ee9b0",
    "_uuid": "d629ff2d2480ee46fbb7e2d37f6b5fab8052498a"
   },
   "outputs": [
    {
     "name": "stdout",
     "output_type": "stream",
     "text": [
      "Schema.png\t\t   customer_transaction_data.csv  test.csv\r\n",
      "campaign_data.csv\t   final_train.csv\t\t  train.csv\r\n",
      "coupon_item_mapping.csv    item_data.csv\r\n",
      "customer_demographics.csv  smote.csv\r\n"
     ]
    }
   ],
   "source": [
    "import numpy as np\n",
    "import pandas as pd\n",
    "import matplotlib.pyplot as plt\n",
    "import seaborn as sns\n",
    "import re\n",
    "from sklearn.preprocessing import LabelEncoder\n",
    "from scipy.stats import mode\n",
    "import pandas_profiling\n",
    "from sklearn.decomposition import PCA\n",
    "\n",
    "from sklearn.model_selection import GridSearchCV,RandomizedSearchCV,KFold\n",
    "from sklearn.metrics import classification_report,roc_auc_score,roc_curve\n",
    "from sklearn.model_selection import train_test_split, KFold\n",
    "from sklearn.preprocessing import StandardScaler\n",
    "from sklearn.linear_model import LogisticRegression\n",
    "from sklearn.neighbors import KNeighborsClassifier\n",
    "from sklearn.naive_bayes import GaussianNB\n",
    "from sklearn.tree import DecisionTreeClassifier\n",
    "from sklearn.ensemble import RandomForestClassifier,BaggingClassifier\n",
    "from sklearn.metrics import auc\n",
    "\n",
    "import os\n",
    "%matplotlib inline\n",
    "\n",
    "import warnings\n",
    "warnings.filterwarnings('ignore')\n",
    "\n",
    "pd.set_option('display.max_colwidth',500)\n",
    "pd.set_option('display.max_columns',5000)\n",
    "\n",
    "encoder = LabelEncoder()\n",
    "from IPython.display import Image\n",
    "import os\n",
    "!ls ../input/"
   ]
  },
  {
   "cell_type": "code",
   "execution_count": 3,
   "metadata": {},
   "outputs": [],
   "source": [
    "train = pd.read_csv('../input/train.csv')\n",
    "campaign = pd.read_csv('../input/campaign_data.csv')\n",
    "items = pd.read_csv('../input/item_data.csv')\n",
    "coupons = pd.read_csv('../input/coupon_item_mapping.csv')\n",
    "cust_demo = pd.read_csv('../input/customer_demographics.csv')\n",
    "cust_tran = pd.read_csv('../input/customer_transaction_data.csv')\n",
    "test = pd.read_csv('../input/test.csv')\n",
    "df=pd.read_csv('../input/final_train.csv')\n",
    "data=pd.read_csv('../input/smote.csv')"
   ]
  },
  {
   "cell_type": "code",
   "execution_count": 4,
   "metadata": {},
   "outputs": [
    {
     "data": {
      "text/plain": [
       "((78369, 5),\n",
       " (28, 4),\n",
       " (74066, 4),\n",
       " (92663, 2),\n",
       " (760, 7),\n",
       " (1324566, 7),\n",
       " (50226, 4),\n",
       " (78369, 43),\n",
       " (155280, 42))"
      ]
     },
     "execution_count": 4,
     "metadata": {},
     "output_type": "execute_result"
    }
   ],
   "source": [
    "train.shape, campaign.shape, items.shape, coupons.shape, cust_demo.shape, cust_tran.shape, test.shape,df.shape,data.shape"
   ]
  },
  {
   "cell_type": "code",
   "execution_count": 5,
   "metadata": {},
   "outputs": [
    {
     "name": "stdout",
     "output_type": "stream",
     "text": [
      "Train Dataframe\n",
      "id                   0\n",
      "campaign_id          0\n",
      "coupon_id            0\n",
      "customer_id          0\n",
      "redemption_status    0\n",
      "dtype: int64\n",
      "======================\n",
      "Campaign Dataframe\n",
      "campaign_id      0\n",
      "campaign_type    0\n",
      "start_date       0\n",
      "end_date         0\n",
      "dtype: int64\n",
      "======================\n",
      "Items Dataframe\n",
      "item_id       0\n",
      "brand         0\n",
      "brand_type    0\n",
      "category      0\n",
      "dtype: int64\n",
      "======================\n",
      "Coupons Dataframe\n",
      "coupon_id    0\n",
      "item_id      0\n",
      "dtype: int64\n",
      "======================\n",
      "Customer Demographics Dataframe\n",
      "customer_id         0\n",
      "age_range           0\n",
      "marital_status    329\n",
      "rented              0\n",
      "family_size         0\n",
      "no_of_children    538\n",
      "income_bracket      0\n",
      "dtype: int64\n",
      "======================\n",
      "Customer Transaction Dataframe\n",
      "date               0\n",
      "customer_id        0\n",
      "item_id            0\n",
      "quantity           0\n",
      "selling_price      0\n",
      "other_discount     0\n",
      "coupon_discount    0\n",
      "dtype: int64\n",
      "======================\n",
      "id             0\n",
      "campaign_id    0\n",
      "coupon_id      0\n",
      "customer_id    0\n",
      "dtype: int64\n",
      "======================\n",
      "Unnamed: 0             0\n",
      "coupon_id              0\n",
      "customer_id            0\n",
      "redemption_status      0\n",
      "brand                  0\n",
      "brand_type             0\n",
      "category               0\n",
      "cd_sum                 0\n",
      "coupon_discount_x      0\n",
      "coupon_used_x          0\n",
      "item_counts            0\n",
      "no_of_customers        0\n",
      "od_sum                 0\n",
      "other_discount_x       0\n",
      "price_sum              0\n",
      "qu_sum                 0\n",
      "quantity_x             0\n",
      "selling_price_x        0\n",
      "t_counts               0\n",
      "total_discount_mean    0\n",
      "total_discount_sum     0\n",
      "campaign_type          0\n",
      "campaign_duration      0\n",
      "age_range              0\n",
      "marital_status         0\n",
      "rented                 0\n",
      "family_size            0\n",
      "no_of_children         0\n",
      "income_bracket         0\n",
      "coupon_discount_y      0\n",
      "coupon_used_y          0\n",
      "day                    0\n",
      "dow                    0\n",
      "no_of_items            0\n",
      "month                  0\n",
      "other_discount_y       0\n",
      "quantity_y             0\n",
      "selling_price_y        0\n",
      "cdd_sum                0\n",
      "customer_id_count      0\n",
      "odd_sum                0\n",
      "qa_sum                 0\n",
      "pprice_sum             0\n",
      "dtype: int64\n",
      "======================\n",
      "coupon_id              0\n",
      "customer_id            0\n",
      "brand                  0\n",
      "brand_type             0\n",
      "category               0\n",
      "cd_sum                 0\n",
      "coupon_discount_x      0\n",
      "coupon_used_x          0\n",
      "item_counts            0\n",
      "no_of_customers        0\n",
      "od_sum                 0\n",
      "other_discount_x       0\n",
      "price_sum              0\n",
      "qu_sum                 0\n",
      "quantity_x             0\n",
      "selling_price_x        0\n",
      "t_counts               0\n",
      "total_discount_mean    0\n",
      "total_discount_sum     0\n",
      "campaign_type          0\n",
      "campaign_duration      0\n",
      "age_range              0\n",
      "marital_status         0\n",
      "rented                 0\n",
      "family_size            0\n",
      "no_of_children         0\n",
      "income_bracket         0\n",
      "coupon_discount_y      0\n",
      "coupon_used_y          0\n",
      "day                    0\n",
      "dow                    0\n",
      "no_of_items            0\n",
      "month                  0\n",
      "other_discount_y       0\n",
      "quantity_y             0\n",
      "selling_price_y        0\n",
      "cdd_sum                0\n",
      "customer_id_count      0\n",
      "odd_sum                0\n",
      "qa_sum                 0\n",
      "pprice_sum             0\n",
      "redemption_status      0\n",
      "dtype: int64\n"
     ]
    }
   ],
   "source": [
    "print('Train Dataframe')\n",
    "print(train.isnull().sum())\n",
    "print('======================')\n",
    "print('Campaign Dataframe')\n",
    "print(campaign.isnull().sum())\n",
    "print('======================')\n",
    "print('Items Dataframe')\n",
    "print(items.isnull().sum())\n",
    "print('======================')\n",
    "print('Coupons Dataframe')\n",
    "print(coupons.isnull().sum())\n",
    "print('======================')\n",
    "print('Customer Demographics Dataframe')\n",
    "print(cust_demo.isnull().sum())\n",
    "print('======================')\n",
    "print('Customer Transaction Dataframe')\n",
    "print(cust_tran.isnull().sum())\n",
    "print('======================')\n",
    "\n",
    "print(test.isnull().sum())\n",
    "print('======================')\n",
    "print(df.isnull().sum())\n",
    "print('======================')\n",
    "print(data.isnull().sum())"
   ]
  },
  {
   "cell_type": "code",
   "execution_count": 6,
   "metadata": {},
   "outputs": [
    {
     "data": {
      "image/png": "[encoded data removed]",
      "text/plain": [
       "<IPython.core.display.Image object>"
      ]
     },
     "execution_count": 6,
     "metadata": {},
     "output_type": "execute_result"
    }
   ],
   "source": [
    "Image(\"../input/Schema.png\")"
   ]
  },
  {
   "cell_type": "markdown",
   "metadata": {},
   "source": [
    "All datasets merged by following steps:\n",
    "\n",
    "1. Merge coupon item data and items data on item_id\n",
    "2. Aggregate transactions by item_id\n",
    "3. Merge 1 and 2 on item_id\n",
    "4. Aggregate 3 on coupon_id\n",
    "5. Merge 4 and train on coupon_id\n",
    "6. Aggregate transactions on customer_id\n",
    "7. Merge 5 with campaign data on campaign_id\n",
    "8. Merge 7 with customer demographic data on customer_id\n",
    "9. Merge 6 with 8 on customer_id respectively"
   ]
  },
  {
   "cell_type": "code",
   "execution_count": 7,
   "metadata": {},
   "outputs": [
    {
     "data": {
      "text/html": [
       "<div>\n",
       "<style scoped>\n",
       "    .dataframe tbody tr th:only-of-type {\n",
       "        vertical-align: middle;\n",
       "    }\n",
       "\n",
       "    .dataframe tbody tr th {\n",
       "        vertical-align: top;\n",
       "    }\n",
       "\n",
       "    .dataframe thead th {\n",
       "        text-align: right;\n",
       "    }\n",
       "</style>\n",
       "<table border=\"1\" class=\"dataframe\">\n",
       "  <thead>\n",
       "    <tr style=\"text-align: right;\">\n",
       "      <th></th>\n",
       "      <th>coupon_id</th>\n",
       "      <th>customer_id</th>\n",
       "      <th>redemption_status</th>\n",
       "      <th>brand</th>\n",
       "      <th>brand_type</th>\n",
       "      <th>category</th>\n",
       "      <th>cd_sum</th>\n",
       "      <th>coupon_discount_x</th>\n",
       "      <th>coupon_used_x</th>\n",
       "      <th>item_counts</th>\n",
       "      <th>no_of_customers</th>\n",
       "      <th>od_sum</th>\n",
       "      <th>other_discount_x</th>\n",
       "      <th>price_sum</th>\n",
       "      <th>qu_sum</th>\n",
       "      <th>quantity_x</th>\n",
       "      <th>selling_price_x</th>\n",
       "      <th>t_counts</th>\n",
       "      <th>total_discount_mean</th>\n",
       "      <th>total_discount_sum</th>\n",
       "      <th>campaign_type</th>\n",
       "      <th>campaign_duration</th>\n",
       "      <th>age_range</th>\n",
       "      <th>marital_status</th>\n",
       "      <th>rented</th>\n",
       "      <th>family_size</th>\n",
       "      <th>no_of_children</th>\n",
       "      <th>income_bracket</th>\n",
       "      <th>coupon_discount_y</th>\n",
       "      <th>coupon_used_y</th>\n",
       "      <th>day</th>\n",
       "      <th>dow</th>\n",
       "      <th>no_of_items</th>\n",
       "      <th>month</th>\n",
       "      <th>other_discount_y</th>\n",
       "      <th>quantity_y</th>\n",
       "      <th>selling_price_y</th>\n",
       "      <th>cdd_sum</th>\n",
       "      <th>customer_id_count</th>\n",
       "      <th>odd_sum</th>\n",
       "      <th>qa_sum</th>\n",
       "      <th>pprice_sum</th>\n",
       "    </tr>\n",
       "  </thead>\n",
       "  <tbody>\n",
       "    <tr>\n",
       "      <th>0</th>\n",
       "      <td>27</td>\n",
       "      <td>1053</td>\n",
       "      <td>0</td>\n",
       "      <td>1105</td>\n",
       "      <td>0</td>\n",
       "      <td>6</td>\n",
       "      <td>-5349.93</td>\n",
       "      <td>-1.241694</td>\n",
       "      <td>191.0</td>\n",
       "      <td>125</td>\n",
       "      <td>19.224000</td>\n",
       "      <td>-177447.090167</td>\n",
       "      <td>-44.367382</td>\n",
       "      <td>436274.446738</td>\n",
       "      <td>4661.0</td>\n",
       "      <td>1.169768</td>\n",
       "      <td>117.276864</td>\n",
       "      <td>3713.0</td>\n",
       "      <td>-45.609077</td>\n",
       "      <td>-182797.020167</td>\n",
       "      <td>0</td>\n",
       "      <td>47</td>\n",
       "      <td>3.0</td>\n",
       "      <td>1.0</td>\n",
       "      <td>0.0</td>\n",
       "      <td>1.0</td>\n",
       "      <td>0.0</td>\n",
       "      <td>5.0</td>\n",
       "      <td>-0.287258</td>\n",
       "      <td>1</td>\n",
       "      <td>11</td>\n",
       "      <td>2</td>\n",
       "      <td>208</td>\n",
       "      <td>5</td>\n",
       "      <td>-25.583099</td>\n",
       "      <td>340.487097</td>\n",
       "      <td>163.966826</td>\n",
       "      <td>-89.05</td>\n",
       "      <td>310</td>\n",
       "      <td>-7930.760842</td>\n",
       "      <td>105551</td>\n",
       "      <td>50829.715972</td>\n",
       "    </tr>\n",
       "    <tr>\n",
       "      <th>1</th>\n",
       "      <td>116</td>\n",
       "      <td>48</td>\n",
       "      <td>0</td>\n",
       "      <td>56</td>\n",
       "      <td>1</td>\n",
       "      <td>6</td>\n",
       "      <td>0.00</td>\n",
       "      <td>0.000000</td>\n",
       "      <td>0.0</td>\n",
       "      <td>3</td>\n",
       "      <td>20.333333</td>\n",
       "      <td>-586.140000</td>\n",
       "      <td>-10.207037</td>\n",
       "      <td>5323.510000</td>\n",
       "      <td>86.0</td>\n",
       "      <td>1.050926</td>\n",
       "      <td>70.885046</td>\n",
       "      <td>75.0</td>\n",
       "      <td>-10.207037</td>\n",
       "      <td>-586.140000</td>\n",
       "      <td>0</td>\n",
       "      <td>47</td>\n",
       "      <td>2.0</td>\n",
       "      <td>0.0</td>\n",
       "      <td>0.0</td>\n",
       "      <td>2.0</td>\n",
       "      <td>0.0</td>\n",
       "      <td>3.0</td>\n",
       "      <td>-3.215039</td>\n",
       "      <td>12</td>\n",
       "      <td>4</td>\n",
       "      <td>5</td>\n",
       "      <td>244</td>\n",
       "      <td>6</td>\n",
       "      <td>-20.013685</td>\n",
       "      <td>31.540260</td>\n",
       "      <td>188.638474</td>\n",
       "      <td>-1237.79</td>\n",
       "      <td>385</td>\n",
       "      <td>-7705.268702</td>\n",
       "      <td>12143</td>\n",
       "      <td>72625.812434</td>\n",
       "    </tr>\n",
       "    <tr>\n",
       "      <th>2</th>\n",
       "      <td>635</td>\n",
       "      <td>205</td>\n",
       "      <td>0</td>\n",
       "      <td>560</td>\n",
       "      <td>0</td>\n",
       "      <td>11</td>\n",
       "      <td>-605.54</td>\n",
       "      <td>-2.987321</td>\n",
       "      <td>15.0</td>\n",
       "      <td>67</td>\n",
       "      <td>1.761194</td>\n",
       "      <td>-12475.083333</td>\n",
       "      <td>-76.767366</td>\n",
       "      <td>48980.998333</td>\n",
       "      <td>202.0</td>\n",
       "      <td>1.353802</td>\n",
       "      <td>342.826195</td>\n",
       "      <td>142.0</td>\n",
       "      <td>-79.754687</td>\n",
       "      <td>-13080.623333</td>\n",
       "      <td>1</td>\n",
       "      <td>32</td>\n",
       "      <td>3.0</td>\n",
       "      <td>0.0</td>\n",
       "      <td>0.0</td>\n",
       "      <td>2.0</td>\n",
       "      <td>0.0</td>\n",
       "      <td>7.0</td>\n",
       "      <td>-2.212082</td>\n",
       "      <td>85</td>\n",
       "      <td>27</td>\n",
       "      <td>2</td>\n",
       "      <td>533</td>\n",
       "      <td>3</td>\n",
       "      <td>-12.873370</td>\n",
       "      <td>1.392784</td>\n",
       "      <td>112.067666</td>\n",
       "      <td>-2145.72</td>\n",
       "      <td>970</td>\n",
       "      <td>-12487.169143</td>\n",
       "      <td>1351</td>\n",
       "      <td>108705.636349</td>\n",
       "    </tr>\n",
       "    <tr>\n",
       "      <th>3</th>\n",
       "      <td>644</td>\n",
       "      <td>1050</td>\n",
       "      <td>0</td>\n",
       "      <td>611</td>\n",
       "      <td>0</td>\n",
       "      <td>6</td>\n",
       "      <td>-17.81</td>\n",
       "      <td>-4.452500</td>\n",
       "      <td>1.0</td>\n",
       "      <td>4</td>\n",
       "      <td>3.500000</td>\n",
       "      <td>-260.750000</td>\n",
       "      <td>-4.451964</td>\n",
       "      <td>3697.783333</td>\n",
       "      <td>47.0</td>\n",
       "      <td>1.110390</td>\n",
       "      <td>88.694903</td>\n",
       "      <td>39.0</td>\n",
       "      <td>-8.904464</td>\n",
       "      <td>-278.560000</td>\n",
       "      <td>0</td>\n",
       "      <td>47</td>\n",
       "      <td>3.0</td>\n",
       "      <td>0.0</td>\n",
       "      <td>0.0</td>\n",
       "      <td>2.0</td>\n",
       "      <td>0.0</td>\n",
       "      <td>5.0</td>\n",
       "      <td>-0.751477</td>\n",
       "      <td>2</td>\n",
       "      <td>9</td>\n",
       "      <td>4</td>\n",
       "      <td>216</td>\n",
       "      <td>8</td>\n",
       "      <td>-12.880868</td>\n",
       "      <td>1.291139</td>\n",
       "      <td>100.896997</td>\n",
       "      <td>-178.10</td>\n",
       "      <td>237</td>\n",
       "      <td>-3052.765833</td>\n",
       "      <td>306</td>\n",
       "      <td>23912.588333</td>\n",
       "    </tr>\n",
       "    <tr>\n",
       "      <th>4</th>\n",
       "      <td>1017</td>\n",
       "      <td>1489</td>\n",
       "      <td>0</td>\n",
       "      <td>1558</td>\n",
       "      <td>0</td>\n",
       "      <td>6</td>\n",
       "      <td>-569.92</td>\n",
       "      <td>-0.198055</td>\n",
       "      <td>23.0</td>\n",
       "      <td>32</td>\n",
       "      <td>27.312500</td>\n",
       "      <td>-46796.046667</td>\n",
       "      <td>-30.665116</td>\n",
       "      <td>289181.848333</td>\n",
       "      <td>1610.0</td>\n",
       "      <td>1.071044</td>\n",
       "      <td>200.991719</td>\n",
       "      <td>1420.0</td>\n",
       "      <td>-30.863170</td>\n",
       "      <td>-47365.966667</td>\n",
       "      <td>0</td>\n",
       "      <td>48</td>\n",
       "      <td>3.0</td>\n",
       "      <td>0.0</td>\n",
       "      <td>0.0</td>\n",
       "      <td>2.0</td>\n",
       "      <td>0.0</td>\n",
       "      <td>3.0</td>\n",
       "      <td>-0.471548</td>\n",
       "      <td>10</td>\n",
       "      <td>2</td>\n",
       "      <td>4</td>\n",
       "      <td>327</td>\n",
       "      <td>5</td>\n",
       "      <td>-12.264174</td>\n",
       "      <td>247.443060</td>\n",
       "      <td>85.016352</td>\n",
       "      <td>-265.01</td>\n",
       "      <td>562</td>\n",
       "      <td>-6892.466021</td>\n",
       "      <td>139063</td>\n",
       "      <td>47779.189609</td>\n",
       "    </tr>\n",
       "  </tbody>\n",
       "</table>\n",
       "</div>"
      ],
      "text/plain": [
       "   coupon_id  customer_id  redemption_status  brand  brand_type  category  \\\n",
       "0         27         1053                  0   1105           0         6   \n",
       "1        116           48                  0     56           1         6   \n",
       "2        635          205                  0    560           0        11   \n",
       "3        644         1050                  0    611           0         6   \n",
       "4       1017         1489                  0   1558           0         6   \n",
       "\n",
       "    cd_sum  coupon_discount_x  coupon_used_x  item_counts  no_of_customers  \\\n",
       "0 -5349.93          -1.241694          191.0          125        19.224000   \n",
       "1     0.00           0.000000            0.0            3        20.333333   \n",
       "2  -605.54          -2.987321           15.0           67         1.761194   \n",
       "3   -17.81          -4.452500            1.0            4         3.500000   \n",
       "4  -569.92          -0.198055           23.0           32        27.312500   \n",
       "\n",
       "          od_sum  other_discount_x      price_sum  qu_sum  quantity_x  \\\n",
       "0 -177447.090167        -44.367382  436274.446738  4661.0    1.169768   \n",
       "1    -586.140000        -10.207037    5323.510000    86.0    1.050926   \n",
       "2  -12475.083333        -76.767366   48980.998333   202.0    1.353802   \n",
       "3    -260.750000         -4.451964    3697.783333    47.0    1.110390   \n",
       "4  -46796.046667        -30.665116  289181.848333  1610.0    1.071044   \n",
       "\n",
       "   selling_price_x  t_counts  total_discount_mean  total_discount_sum  \\\n",
       "0       117.276864    3713.0           -45.609077      -182797.020167   \n",
       "1        70.885046      75.0           -10.207037         -586.140000   \n",
       "2       342.826195     142.0           -79.754687       -13080.623333   \n",
       "3        88.694903      39.0            -8.904464         -278.560000   \n",
       "4       200.991719    1420.0           -30.863170       -47365.966667   \n",
       "\n",
       "   campaign_type  campaign_duration  age_range  marital_status  rented  \\\n",
       "0              0                 47        3.0             1.0     0.0   \n",
       "1              0                 47        2.0             0.0     0.0   \n",
       "2              1                 32        3.0             0.0     0.0   \n",
       "3              0                 47        3.0             0.0     0.0   \n",
       "4              0                 48        3.0             0.0     0.0   \n",
       "\n",
       "   family_size  no_of_children  income_bracket  coupon_discount_y  \\\n",
       "0          1.0             0.0             5.0          -0.287258   \n",
       "1          2.0             0.0             3.0          -3.215039   \n",
       "2          2.0             0.0             7.0          -2.212082   \n",
       "3          2.0             0.0             5.0          -0.751477   \n",
       "4          2.0             0.0             3.0          -0.471548   \n",
       "\n",
       "   coupon_used_y  day  dow  no_of_items  month  other_discount_y  quantity_y  \\\n",
       "0              1   11    2          208      5        -25.583099  340.487097   \n",
       "1             12    4    5          244      6        -20.013685   31.540260   \n",
       "2             85   27    2          533      3        -12.873370    1.392784   \n",
       "3              2    9    4          216      8        -12.880868    1.291139   \n",
       "4             10    2    4          327      5        -12.264174  247.443060   \n",
       "\n",
       "   selling_price_y  cdd_sum  customer_id_count       odd_sum  qa_sum  \\\n",
       "0       163.966826   -89.05                310  -7930.760842  105551   \n",
       "1       188.638474 -1237.79                385  -7705.268702   12143   \n",
       "2       112.067666 -2145.72                970 -12487.169143    1351   \n",
       "3       100.896997  -178.10                237  -3052.765833     306   \n",
       "4        85.016352  -265.01                562  -6892.466021  139063   \n",
       "\n",
       "      pprice_sum  \n",
       "0   50829.715972  \n",
       "1   72625.812434  \n",
       "2  108705.636349  \n",
       "3   23912.588333  \n",
       "4   47779.189609  "
      ]
     },
     "execution_count": 7,
     "metadata": {},
     "output_type": "execute_result"
    }
   ],
   "source": [
    "df.drop(columns=['Unnamed: 0'],inplace=True)\n",
    "df.head()"
   ]
  },
  {
   "cell_type": "code",
   "execution_count": 8,
   "metadata": {},
   "outputs": [
    {
     "data": {
      "text/plain": [
       "(78369, 42)"
      ]
     },
     "execution_count": 8,
     "metadata": {},
     "output_type": "execute_result"
    }
   ],
   "source": [
    "df.shape"
   ]
  },
  {
   "cell_type": "code",
   "execution_count": 9,
   "metadata": {},
   "outputs": [
    {
     "data": {
      "text/plain": [
       "Index(['coupon_id', 'customer_id', 'redemption_status', 'brand', 'brand_type',\n",
       "       'category', 'cd_sum', 'coupon_discount_x', 'coupon_used_x',\n",
       "       'item_counts', 'no_of_customers', 'od_sum', 'other_discount_x',\n",
       "       'price_sum', 'qu_sum', 'quantity_x', 'selling_price_x', 't_counts',\n",
       "       'total_discount_mean', 'total_discount_sum', 'campaign_type',\n",
       "       'campaign_duration', 'age_range', 'marital_status', 'rented',\n",
       "       'family_size', 'no_of_children', 'income_bracket', 'coupon_discount_y',\n",
       "       'coupon_used_y', 'day', 'dow', 'no_of_items', 'month',\n",
       "       'other_discount_y', 'quantity_y', 'selling_price_y', 'cdd_sum',\n",
       "       'customer_id_count', 'odd_sum', 'qa_sum', 'pprice_sum'],\n",
       "      dtype='object')"
      ]
     },
     "execution_count": 9,
     "metadata": {},
     "output_type": "execute_result"
    }
   ],
   "source": [
    "df.columns"
   ]
  },
  {
   "cell_type": "code",
   "execution_count": 10,
   "metadata": {},
   "outputs": [
    {
     "name": "stderr",
     "output_type": "stream",
     "text": [
      "Using TensorFlow backend.\n"
     ]
    }
   ],
   "source": [
    "from imblearn.over_sampling import SMOTE\n",
    "\n",
    "# Separate input features and target\n",
    "y = df.redemption_status\n",
    "x = df.drop('redemption_status', axis=1)\n",
    "\n",
    "# Standardizig the Data\n",
    "col_names = ['cd_sum','coupon_discount_x', 'coupon_used_x', 'item_counts', 'no_of_customers',\n",
    "       'od_sum', 'other_discount_x', 'price_sum', 'qu_sum', 'quantity_x',\n",
    "       'selling_price_x', 't_counts', 'total_discount_mean',\n",
    "       'total_discount_sum', 'campaign_type', 'campaign_duration',\n",
    "        'family_size', 'no_of_children',\n",
    "       'income_bracket', 'coupon_discount_y', 'coupon_used_y',\n",
    "       'no_of_items', 'other_discount_y', 'quantity_y',\n",
    "       'selling_price_y', 'cdd_sum', 'customer_id_count', 'odd_sum', 'qa_sum',\n",
    "       'pprice_sum']\n",
    "features = x[col_names]\n",
    "scaler = StandardScaler().fit(features.values)\n",
    "features = scaler.transform(features.values)\n",
    "x[col_names] = features\n",
    "\n",
    "\n",
    "# setting up testing and training sets\n",
    "x_train, x_test, y_train, y_test = train_test_split(x, y, test_size=0.3, random_state=1990)\n",
    "\n",
    "sm = SMOTE(random_state=1990, ratio=1.0)\n",
    "x, y = sm.fit_sample(x, y)"
   ]
  },
  {
   "cell_type": "code",
   "execution_count": 11,
   "metadata": {},
   "outputs": [
    {
     "data": {
      "text/html": [
       "<div>\n",
       "<style scoped>\n",
       "    .dataframe tbody tr th:only-of-type {\n",
       "        vertical-align: middle;\n",
       "    }\n",
       "\n",
       "    .dataframe tbody tr th {\n",
       "        vertical-align: top;\n",
       "    }\n",
       "\n",
       "    .dataframe thead th {\n",
       "        text-align: right;\n",
       "    }\n",
       "</style>\n",
       "<table border=\"1\" class=\"dataframe\">\n",
       "  <thead>\n",
       "    <tr style=\"text-align: right;\">\n",
       "      <th></th>\n",
       "      <th>0</th>\n",
       "      <th>1</th>\n",
       "      <th>2</th>\n",
       "      <th>3</th>\n",
       "      <th>4</th>\n",
       "      <th>5</th>\n",
       "      <th>6</th>\n",
       "      <th>7</th>\n",
       "      <th>8</th>\n",
       "      <th>9</th>\n",
       "      <th>10</th>\n",
       "      <th>11</th>\n",
       "      <th>12</th>\n",
       "      <th>13</th>\n",
       "      <th>14</th>\n",
       "      <th>15</th>\n",
       "      <th>16</th>\n",
       "      <th>17</th>\n",
       "      <th>18</th>\n",
       "      <th>19</th>\n",
       "      <th>20</th>\n",
       "      <th>21</th>\n",
       "      <th>22</th>\n",
       "      <th>23</th>\n",
       "      <th>24</th>\n",
       "      <th>25</th>\n",
       "      <th>26</th>\n",
       "      <th>27</th>\n",
       "      <th>28</th>\n",
       "      <th>29</th>\n",
       "      <th>30</th>\n",
       "      <th>31</th>\n",
       "      <th>32</th>\n",
       "      <th>33</th>\n",
       "      <th>34</th>\n",
       "      <th>35</th>\n",
       "      <th>36</th>\n",
       "      <th>37</th>\n",
       "      <th>38</th>\n",
       "      <th>39</th>\n",
       "      <th>40</th>\n",
       "    </tr>\n",
       "  </thead>\n",
       "  <tbody>\n",
       "    <tr>\n",
       "      <th>0</th>\n",
       "      <td>27.0</td>\n",
       "      <td>1053.0</td>\n",
       "      <td>1105.0</td>\n",
       "      <td>0.0</td>\n",
       "      <td>6.0</td>\n",
       "      <td>-0.550822</td>\n",
       "      <td>0.176138</td>\n",
       "      <td>0.711921</td>\n",
       "      <td>0.071188</td>\n",
       "      <td>0.124860</td>\n",
       "      <td>-0.648761</td>\n",
       "      <td>-1.135068</td>\n",
       "      <td>0.173037</td>\n",
       "      <td>0.128690</td>\n",
       "      <td>-0.012769</td>\n",
       "      <td>-0.309623</td>\n",
       "      <td>0.140786</td>\n",
       "      <td>-1.012073</td>\n",
       "      <td>-0.649702</td>\n",
       "      <td>-0.598825</td>\n",
       "      <td>0.362643</td>\n",
       "      <td>3.0</td>\n",
       "      <td>1.0</td>\n",
       "      <td>0.0</td>\n",
       "      <td>-1.241845</td>\n",
       "      <td>-0.436522</td>\n",
       "      <td>0.062799</td>\n",
       "      <td>0.305052</td>\n",
       "      <td>-0.449826</td>\n",
       "      <td>11.0</td>\n",
       "      <td>2.0</td>\n",
       "      <td>-1.188299</td>\n",
       "      <td>5.0</td>\n",
       "      <td>-3.061232</td>\n",
       "      <td>0.982589</td>\n",
       "      <td>3.466661</td>\n",
       "      <td>0.455543</td>\n",
       "      <td>-1.097975</td>\n",
       "      <td>0.638587</td>\n",
       "      <td>-0.147977</td>\n",
       "      <td>-0.790891</td>\n",
       "    </tr>\n",
       "    <tr>\n",
       "      <th>1</th>\n",
       "      <td>116.0</td>\n",
       "      <td>48.0</td>\n",
       "      <td>56.0</td>\n",
       "      <td>1.0</td>\n",
       "      <td>6.0</td>\n",
       "      <td>0.197203</td>\n",
       "      <td>0.389675</td>\n",
       "      <td>-0.203806</td>\n",
       "      <td>-0.130455</td>\n",
       "      <td>0.207049</td>\n",
       "      <td>0.157914</td>\n",
       "      <td>0.504670</td>\n",
       "      <td>-0.166087</td>\n",
       "      <td>-0.160847</td>\n",
       "      <td>-0.461816</td>\n",
       "      <td>-0.639102</td>\n",
       "      <td>-0.163867</td>\n",
       "      <td>0.571729</td>\n",
       "      <td>0.160150</td>\n",
       "      <td>-0.598825</td>\n",
       "      <td>0.362643</td>\n",
       "      <td>2.0</td>\n",
       "      <td>0.0</td>\n",
       "      <td>0.0</td>\n",
       "      <td>-0.142992</td>\n",
       "      <td>-0.436522</td>\n",
       "      <td>-1.078547</td>\n",
       "      <td>-2.345483</td>\n",
       "      <td>-0.165313</td>\n",
       "      <td>4.0</td>\n",
       "      <td>5.0</td>\n",
       "      <td>-1.077153</td>\n",
       "      <td>6.0</td>\n",
       "      <td>-1.623272</td>\n",
       "      <td>-0.446425</td>\n",
       "      <td>4.854179</td>\n",
       "      <td>-0.444733</td>\n",
       "      <td>-0.984004</td>\n",
       "      <td>0.662184</td>\n",
       "      <td>-0.534847</td>\n",
       "      <td>-0.471809</td>\n",
       "    </tr>\n",
       "    <tr>\n",
       "      <th>2</th>\n",
       "      <td>635.0</td>\n",
       "      <td>205.0</td>\n",
       "      <td>560.0</td>\n",
       "      <td>0.0</td>\n",
       "      <td>11.0</td>\n",
       "      <td>0.112536</td>\n",
       "      <td>-0.124061</td>\n",
       "      <td>-0.131890</td>\n",
       "      <td>-0.024675</td>\n",
       "      <td>-1.168935</td>\n",
       "      <td>0.103688</td>\n",
       "      <td>-2.690307</td>\n",
       "      <td>-0.131732</td>\n",
       "      <td>-0.153506</td>\n",
       "      <td>0.682610</td>\n",
       "      <td>1.292250</td>\n",
       "      <td>-0.158256</td>\n",
       "      <td>-2.539664</td>\n",
       "      <td>0.104617</td>\n",
       "      <td>1.669936</td>\n",
       "      <td>-2.078113</td>\n",
       "      <td>3.0</td>\n",
       "      <td>0.0</td>\n",
       "      <td>0.0</td>\n",
       "      <td>-0.142992</td>\n",
       "      <td>-0.436522</td>\n",
       "      <td>1.204145</td>\n",
       "      <td>-1.437502</td>\n",
       "      <td>1.722817</td>\n",
       "      <td>27.0</td>\n",
       "      <td>2.0</td>\n",
       "      <td>-0.184896</td>\n",
       "      <td>3.0</td>\n",
       "      <td>0.220277</td>\n",
       "      <td>-0.585870</td>\n",
       "      <td>0.547886</td>\n",
       "      <td>-1.156285</td>\n",
       "      <td>-0.095029</td>\n",
       "      <td>0.161766</td>\n",
       "      <td>-0.579545</td>\n",
       "      <td>0.056379</td>\n",
       "    </tr>\n",
       "    <tr>\n",
       "      <th>3</th>\n",
       "      <td>644.0</td>\n",
       "      <td>1050.0</td>\n",
       "      <td>611.0</td>\n",
       "      <td>0.0</td>\n",
       "      <td>6.0</td>\n",
       "      <td>0.194713</td>\n",
       "      <td>-0.376031</td>\n",
       "      <td>-0.199011</td>\n",
       "      <td>-0.128802</td>\n",
       "      <td>-1.040109</td>\n",
       "      <td>0.159398</td>\n",
       "      <td>0.780921</td>\n",
       "      <td>-0.167366</td>\n",
       "      <td>-0.163316</td>\n",
       "      <td>-0.237131</td>\n",
       "      <td>-0.512615</td>\n",
       "      <td>-0.166882</td>\n",
       "      <td>0.630003</td>\n",
       "      <td>0.161517</td>\n",
       "      <td>-0.598825</td>\n",
       "      <td>0.362643</td>\n",
       "      <td>3.0</td>\n",
       "      <td>0.0</td>\n",
       "      <td>0.0</td>\n",
       "      <td>-0.142992</td>\n",
       "      <td>-0.436522</td>\n",
       "      <td>0.062799</td>\n",
       "      <td>-0.115208</td>\n",
       "      <td>-0.423961</td>\n",
       "      <td>9.0</td>\n",
       "      <td>4.0</td>\n",
       "      <td>-1.163600</td>\n",
       "      <td>8.0</td>\n",
       "      <td>0.218341</td>\n",
       "      <td>-0.586340</td>\n",
       "      <td>-0.080346</td>\n",
       "      <td>0.385754</td>\n",
       "      <td>-1.208907</td>\n",
       "      <td>1.149062</td>\n",
       "      <td>-0.583873</td>\n",
       "      <td>-1.184941</td>\n",
       "    </tr>\n",
       "    <tr>\n",
       "      <th>4</th>\n",
       "      <td>1017.0</td>\n",
       "      <td>1489.0</td>\n",
       "      <td>1558.0</td>\n",
       "      <td>0.0</td>\n",
       "      <td>6.0</td>\n",
       "      <td>0.117517</td>\n",
       "      <td>0.355615</td>\n",
       "      <td>-0.093535</td>\n",
       "      <td>-0.082523</td>\n",
       "      <td>0.724126</td>\n",
       "      <td>-0.052853</td>\n",
       "      <td>-0.477343</td>\n",
       "      <td>0.057287</td>\n",
       "      <td>-0.064398</td>\n",
       "      <td>-0.385799</td>\n",
       "      <td>0.284928</td>\n",
       "      <td>-0.051234</td>\n",
       "      <td>-0.352376</td>\n",
       "      <td>-0.047767</td>\n",
       "      <td>-0.598825</td>\n",
       "      <td>0.525360</td>\n",
       "      <td>3.0</td>\n",
       "      <td>0.0</td>\n",
       "      <td>0.0</td>\n",
       "      <td>-0.142992</td>\n",
       "      <td>-0.436522</td>\n",
       "      <td>-1.078547</td>\n",
       "      <td>0.138213</td>\n",
       "      <td>-0.217043</td>\n",
       "      <td>2.0</td>\n",
       "      <td>4.0</td>\n",
       "      <td>-0.820899</td>\n",
       "      <td>5.0</td>\n",
       "      <td>0.377565</td>\n",
       "      <td>0.552219</td>\n",
       "      <td>-0.973463</td>\n",
       "      <td>0.317642</td>\n",
       "      <td>-0.715032</td>\n",
       "      <td>0.747243</td>\n",
       "      <td>-0.009180</td>\n",
       "      <td>-0.835549</td>\n",
       "    </tr>\n",
       "  </tbody>\n",
       "</table>\n",
       "</div>"
      ],
      "text/plain": [
       "        0       1       2    3     4         5         6         7         8  \\\n",
       "0    27.0  1053.0  1105.0  0.0   6.0 -0.550822  0.176138  0.711921  0.071188   \n",
       "1   116.0    48.0    56.0  1.0   6.0  0.197203  0.389675 -0.203806 -0.130455   \n",
       "2   635.0   205.0   560.0  0.0  11.0  0.112536 -0.124061 -0.131890 -0.024675   \n",
       "3   644.0  1050.0   611.0  0.0   6.0  0.194713 -0.376031 -0.199011 -0.128802   \n",
       "4  1017.0  1489.0  1558.0  0.0   6.0  0.117517  0.355615 -0.093535 -0.082523   \n",
       "\n",
       "          9        10        11        12        13        14        15  \\\n",
       "0  0.124860 -0.648761 -1.135068  0.173037  0.128690 -0.012769 -0.309623   \n",
       "1  0.207049  0.157914  0.504670 -0.166087 -0.160847 -0.461816 -0.639102   \n",
       "2 -1.168935  0.103688 -2.690307 -0.131732 -0.153506  0.682610  1.292250   \n",
       "3 -1.040109  0.159398  0.780921 -0.167366 -0.163316 -0.237131 -0.512615   \n",
       "4  0.724126 -0.052853 -0.477343  0.057287 -0.064398 -0.385799  0.284928   \n",
       "\n",
       "         16        17        18        19        20   21   22   23        24  \\\n",
       "0  0.140786 -1.012073 -0.649702 -0.598825  0.362643  3.0  1.0  0.0 -1.241845   \n",
       "1 -0.163867  0.571729  0.160150 -0.598825  0.362643  2.0  0.0  0.0 -0.142992   \n",
       "2 -0.158256 -2.539664  0.104617  1.669936 -2.078113  3.0  0.0  0.0 -0.142992   \n",
       "3 -0.166882  0.630003  0.161517 -0.598825  0.362643  3.0  0.0  0.0 -0.142992   \n",
       "4 -0.051234 -0.352376 -0.047767 -0.598825  0.525360  3.0  0.0  0.0 -0.142992   \n",
       "\n",
       "         25        26        27        28    29   30        31   32        33  \\\n",
       "0 -0.436522  0.062799  0.305052 -0.449826  11.0  2.0 -1.188299  5.0 -3.061232   \n",
       "1 -0.436522 -1.078547 -2.345483 -0.165313   4.0  5.0 -1.077153  6.0 -1.623272   \n",
       "2 -0.436522  1.204145 -1.437502  1.722817  27.0  2.0 -0.184896  3.0  0.220277   \n",
       "3 -0.436522  0.062799 -0.115208 -0.423961   9.0  4.0 -1.163600  8.0  0.218341   \n",
       "4 -0.436522 -1.078547  0.138213 -0.217043   2.0  4.0 -0.820899  5.0  0.377565   \n",
       "\n",
       "         34        35        36        37        38        39        40  \n",
       "0  0.982589  3.466661  0.455543 -1.097975  0.638587 -0.147977 -0.790891  \n",
       "1 -0.446425  4.854179 -0.444733 -0.984004  0.662184 -0.534847 -0.471809  \n",
       "2 -0.585870  0.547886 -1.156285 -0.095029  0.161766 -0.579545  0.056379  \n",
       "3 -0.586340 -0.080346  0.385754 -1.208907  1.149062 -0.583873 -1.184941  \n",
       "4  0.552219 -0.973463  0.317642 -0.715032  0.747243 -0.009180 -0.835549  "
      ]
     },
     "execution_count": 11,
     "metadata": {},
     "output_type": "execute_result"
    }
   ],
   "source": [
    "x=pd.DataFrame(x)\n",
    "x.head()"
   ]
  },
  {
   "cell_type": "code",
   "execution_count": 12,
   "metadata": {},
   "outputs": [],
   "source": [
    "x.columns =['coupon_id', 'customer_id', 'brand', 'brand_type',\n",
    "               'category', 'cd_sum', 'coupon_discount_x', 'coupon_used_x',\n",
    "               'item_counts', 'no_of_customers', 'od_sum', 'other_discount_x',\n",
    "               'price_sum', 'qu_sum', 'quantity_x', 'selling_price_x', 't_counts',\n",
    "               'total_discount_mean', 'total_discount_sum', 'campaign_type',\n",
    "               'campaign_duration', 'age_range', 'marital_status', 'rented',\n",
    "               'family_size', 'no_of_children', 'income_bracket', 'coupon_discount_y',\n",
    "               'coupon_used_y', 'day', 'dow', 'no_of_items', 'month',\n",
    "               'other_discount_y', 'quantity_y', 'selling_price_y', 'cdd_sum',\n",
    "               'customer_id_count', 'odd_sum', 'qa_sum', 'pprice_sum']"
   ]
  },
  {
   "cell_type": "code",
   "execution_count": 13,
   "metadata": {},
   "outputs": [
    {
     "data": {
      "text/html": [
       "<div>\n",
       "<style scoped>\n",
       "    .dataframe tbody tr th:only-of-type {\n",
       "        vertical-align: middle;\n",
       "    }\n",
       "\n",
       "    .dataframe tbody tr th {\n",
       "        vertical-align: top;\n",
       "    }\n",
       "\n",
       "    .dataframe thead th {\n",
       "        text-align: right;\n",
       "    }\n",
       "</style>\n",
       "<table border=\"1\" class=\"dataframe\">\n",
       "  <thead>\n",
       "    <tr style=\"text-align: right;\">\n",
       "      <th></th>\n",
       "      <th>coupon_id</th>\n",
       "      <th>customer_id</th>\n",
       "      <th>brand</th>\n",
       "      <th>brand_type</th>\n",
       "      <th>category</th>\n",
       "      <th>cd_sum</th>\n",
       "      <th>coupon_discount_x</th>\n",
       "      <th>coupon_used_x</th>\n",
       "      <th>item_counts</th>\n",
       "      <th>no_of_customers</th>\n",
       "      <th>od_sum</th>\n",
       "      <th>other_discount_x</th>\n",
       "      <th>price_sum</th>\n",
       "      <th>qu_sum</th>\n",
       "      <th>quantity_x</th>\n",
       "      <th>selling_price_x</th>\n",
       "      <th>t_counts</th>\n",
       "      <th>total_discount_mean</th>\n",
       "      <th>total_discount_sum</th>\n",
       "      <th>campaign_type</th>\n",
       "      <th>campaign_duration</th>\n",
       "      <th>age_range</th>\n",
       "      <th>marital_status</th>\n",
       "      <th>rented</th>\n",
       "      <th>family_size</th>\n",
       "      <th>no_of_children</th>\n",
       "      <th>income_bracket</th>\n",
       "      <th>coupon_discount_y</th>\n",
       "      <th>coupon_used_y</th>\n",
       "      <th>day</th>\n",
       "      <th>dow</th>\n",
       "      <th>no_of_items</th>\n",
       "      <th>month</th>\n",
       "      <th>other_discount_y</th>\n",
       "      <th>quantity_y</th>\n",
       "      <th>selling_price_y</th>\n",
       "      <th>cdd_sum</th>\n",
       "      <th>customer_id_count</th>\n",
       "      <th>odd_sum</th>\n",
       "      <th>qa_sum</th>\n",
       "      <th>pprice_sum</th>\n",
       "    </tr>\n",
       "  </thead>\n",
       "  <tbody>\n",
       "    <tr>\n",
       "      <th>0</th>\n",
       "      <td>27.0</td>\n",
       "      <td>1053.0</td>\n",
       "      <td>1105.0</td>\n",
       "      <td>0.0</td>\n",
       "      <td>6.0</td>\n",
       "      <td>-0.550822</td>\n",
       "      <td>0.176138</td>\n",
       "      <td>0.711921</td>\n",
       "      <td>0.071188</td>\n",
       "      <td>0.124860</td>\n",
       "      <td>-0.648761</td>\n",
       "      <td>-1.135068</td>\n",
       "      <td>0.173037</td>\n",
       "      <td>0.128690</td>\n",
       "      <td>-0.012769</td>\n",
       "      <td>-0.309623</td>\n",
       "      <td>0.140786</td>\n",
       "      <td>-1.012073</td>\n",
       "      <td>-0.649702</td>\n",
       "      <td>-0.598825</td>\n",
       "      <td>0.362643</td>\n",
       "      <td>3.0</td>\n",
       "      <td>1.0</td>\n",
       "      <td>0.0</td>\n",
       "      <td>-1.241845</td>\n",
       "      <td>-0.436522</td>\n",
       "      <td>0.062799</td>\n",
       "      <td>0.305052</td>\n",
       "      <td>-0.449826</td>\n",
       "      <td>11.0</td>\n",
       "      <td>2.0</td>\n",
       "      <td>-1.188299</td>\n",
       "      <td>5.0</td>\n",
       "      <td>-3.061232</td>\n",
       "      <td>0.982589</td>\n",
       "      <td>3.466661</td>\n",
       "      <td>0.455543</td>\n",
       "      <td>-1.097975</td>\n",
       "      <td>0.638587</td>\n",
       "      <td>-0.147977</td>\n",
       "      <td>-0.790891</td>\n",
       "    </tr>\n",
       "    <tr>\n",
       "      <th>1</th>\n",
       "      <td>116.0</td>\n",
       "      <td>48.0</td>\n",
       "      <td>56.0</td>\n",
       "      <td>1.0</td>\n",
       "      <td>6.0</td>\n",
       "      <td>0.197203</td>\n",
       "      <td>0.389675</td>\n",
       "      <td>-0.203806</td>\n",
       "      <td>-0.130455</td>\n",
       "      <td>0.207049</td>\n",
       "      <td>0.157914</td>\n",
       "      <td>0.504670</td>\n",
       "      <td>-0.166087</td>\n",
       "      <td>-0.160847</td>\n",
       "      <td>-0.461816</td>\n",
       "      <td>-0.639102</td>\n",
       "      <td>-0.163867</td>\n",
       "      <td>0.571729</td>\n",
       "      <td>0.160150</td>\n",
       "      <td>-0.598825</td>\n",
       "      <td>0.362643</td>\n",
       "      <td>2.0</td>\n",
       "      <td>0.0</td>\n",
       "      <td>0.0</td>\n",
       "      <td>-0.142992</td>\n",
       "      <td>-0.436522</td>\n",
       "      <td>-1.078547</td>\n",
       "      <td>-2.345483</td>\n",
       "      <td>-0.165313</td>\n",
       "      <td>4.0</td>\n",
       "      <td>5.0</td>\n",
       "      <td>-1.077153</td>\n",
       "      <td>6.0</td>\n",
       "      <td>-1.623272</td>\n",
       "      <td>-0.446425</td>\n",
       "      <td>4.854179</td>\n",
       "      <td>-0.444733</td>\n",
       "      <td>-0.984004</td>\n",
       "      <td>0.662184</td>\n",
       "      <td>-0.534847</td>\n",
       "      <td>-0.471809</td>\n",
       "    </tr>\n",
       "    <tr>\n",
       "      <th>2</th>\n",
       "      <td>635.0</td>\n",
       "      <td>205.0</td>\n",
       "      <td>560.0</td>\n",
       "      <td>0.0</td>\n",
       "      <td>11.0</td>\n",
       "      <td>0.112536</td>\n",
       "      <td>-0.124061</td>\n",
       "      <td>-0.131890</td>\n",
       "      <td>-0.024675</td>\n",
       "      <td>-1.168935</td>\n",
       "      <td>0.103688</td>\n",
       "      <td>-2.690307</td>\n",
       "      <td>-0.131732</td>\n",
       "      <td>-0.153506</td>\n",
       "      <td>0.682610</td>\n",
       "      <td>1.292250</td>\n",
       "      <td>-0.158256</td>\n",
       "      <td>-2.539664</td>\n",
       "      <td>0.104617</td>\n",
       "      <td>1.669936</td>\n",
       "      <td>-2.078113</td>\n",
       "      <td>3.0</td>\n",
       "      <td>0.0</td>\n",
       "      <td>0.0</td>\n",
       "      <td>-0.142992</td>\n",
       "      <td>-0.436522</td>\n",
       "      <td>1.204145</td>\n",
       "      <td>-1.437502</td>\n",
       "      <td>1.722817</td>\n",
       "      <td>27.0</td>\n",
       "      <td>2.0</td>\n",
       "      <td>-0.184896</td>\n",
       "      <td>3.0</td>\n",
       "      <td>0.220277</td>\n",
       "      <td>-0.585870</td>\n",
       "      <td>0.547886</td>\n",
       "      <td>-1.156285</td>\n",
       "      <td>-0.095029</td>\n",
       "      <td>0.161766</td>\n",
       "      <td>-0.579545</td>\n",
       "      <td>0.056379</td>\n",
       "    </tr>\n",
       "    <tr>\n",
       "      <th>3</th>\n",
       "      <td>644.0</td>\n",
       "      <td>1050.0</td>\n",
       "      <td>611.0</td>\n",
       "      <td>0.0</td>\n",
       "      <td>6.0</td>\n",
       "      <td>0.194713</td>\n",
       "      <td>-0.376031</td>\n",
       "      <td>-0.199011</td>\n",
       "      <td>-0.128802</td>\n",
       "      <td>-1.040109</td>\n",
       "      <td>0.159398</td>\n",
       "      <td>0.780921</td>\n",
       "      <td>-0.167366</td>\n",
       "      <td>-0.163316</td>\n",
       "      <td>-0.237131</td>\n",
       "      <td>-0.512615</td>\n",
       "      <td>-0.166882</td>\n",
       "      <td>0.630003</td>\n",
       "      <td>0.161517</td>\n",
       "      <td>-0.598825</td>\n",
       "      <td>0.362643</td>\n",
       "      <td>3.0</td>\n",
       "      <td>0.0</td>\n",
       "      <td>0.0</td>\n",
       "      <td>-0.142992</td>\n",
       "      <td>-0.436522</td>\n",
       "      <td>0.062799</td>\n",
       "      <td>-0.115208</td>\n",
       "      <td>-0.423961</td>\n",
       "      <td>9.0</td>\n",
       "      <td>4.0</td>\n",
       "      <td>-1.163600</td>\n",
       "      <td>8.0</td>\n",
       "      <td>0.218341</td>\n",
       "      <td>-0.586340</td>\n",
       "      <td>-0.080346</td>\n",
       "      <td>0.385754</td>\n",
       "      <td>-1.208907</td>\n",
       "      <td>1.149062</td>\n",
       "      <td>-0.583873</td>\n",
       "      <td>-1.184941</td>\n",
       "    </tr>\n",
       "    <tr>\n",
       "      <th>4</th>\n",
       "      <td>1017.0</td>\n",
       "      <td>1489.0</td>\n",
       "      <td>1558.0</td>\n",
       "      <td>0.0</td>\n",
       "      <td>6.0</td>\n",
       "      <td>0.117517</td>\n",
       "      <td>0.355615</td>\n",
       "      <td>-0.093535</td>\n",
       "      <td>-0.082523</td>\n",
       "      <td>0.724126</td>\n",
       "      <td>-0.052853</td>\n",
       "      <td>-0.477343</td>\n",
       "      <td>0.057287</td>\n",
       "      <td>-0.064398</td>\n",
       "      <td>-0.385799</td>\n",
       "      <td>0.284928</td>\n",
       "      <td>-0.051234</td>\n",
       "      <td>-0.352376</td>\n",
       "      <td>-0.047767</td>\n",
       "      <td>-0.598825</td>\n",
       "      <td>0.525360</td>\n",
       "      <td>3.0</td>\n",
       "      <td>0.0</td>\n",
       "      <td>0.0</td>\n",
       "      <td>-0.142992</td>\n",
       "      <td>-0.436522</td>\n",
       "      <td>-1.078547</td>\n",
       "      <td>0.138213</td>\n",
       "      <td>-0.217043</td>\n",
       "      <td>2.0</td>\n",
       "      <td>4.0</td>\n",
       "      <td>-0.820899</td>\n",
       "      <td>5.0</td>\n",
       "      <td>0.377565</td>\n",
       "      <td>0.552219</td>\n",
       "      <td>-0.973463</td>\n",
       "      <td>0.317642</td>\n",
       "      <td>-0.715032</td>\n",
       "      <td>0.747243</td>\n",
       "      <td>-0.009180</td>\n",
       "      <td>-0.835549</td>\n",
       "    </tr>\n",
       "  </tbody>\n",
       "</table>\n",
       "</div>"
      ],
      "text/plain": [
       "   coupon_id  customer_id   brand  brand_type  category    cd_sum  \\\n",
       "0       27.0       1053.0  1105.0         0.0       6.0 -0.550822   \n",
       "1      116.0         48.0    56.0         1.0       6.0  0.197203   \n",
       "2      635.0        205.0   560.0         0.0      11.0  0.112536   \n",
       "3      644.0       1050.0   611.0         0.0       6.0  0.194713   \n",
       "4     1017.0       1489.0  1558.0         0.0       6.0  0.117517   \n",
       "\n",
       "   coupon_discount_x  coupon_used_x  item_counts  no_of_customers    od_sum  \\\n",
       "0           0.176138       0.711921     0.071188         0.124860 -0.648761   \n",
       "1           0.389675      -0.203806    -0.130455         0.207049  0.157914   \n",
       "2          -0.124061      -0.131890    -0.024675        -1.168935  0.103688   \n",
       "3          -0.376031      -0.199011    -0.128802        -1.040109  0.159398   \n",
       "4           0.355615      -0.093535    -0.082523         0.724126 -0.052853   \n",
       "\n",
       "   other_discount_x  price_sum    qu_sum  quantity_x  selling_price_x  \\\n",
       "0         -1.135068   0.173037  0.128690   -0.012769        -0.309623   \n",
       "1          0.504670  -0.166087 -0.160847   -0.461816        -0.639102   \n",
       "2         -2.690307  -0.131732 -0.153506    0.682610         1.292250   \n",
       "3          0.780921  -0.167366 -0.163316   -0.237131        -0.512615   \n",
       "4         -0.477343   0.057287 -0.064398   -0.385799         0.284928   \n",
       "\n",
       "   t_counts  total_discount_mean  total_discount_sum  campaign_type  \\\n",
       "0  0.140786            -1.012073           -0.649702      -0.598825   \n",
       "1 -0.163867             0.571729            0.160150      -0.598825   \n",
       "2 -0.158256            -2.539664            0.104617       1.669936   \n",
       "3 -0.166882             0.630003            0.161517      -0.598825   \n",
       "4 -0.051234            -0.352376           -0.047767      -0.598825   \n",
       "\n",
       "   campaign_duration  age_range  marital_status  rented  family_size  \\\n",
       "0           0.362643        3.0             1.0     0.0    -1.241845   \n",
       "1           0.362643        2.0             0.0     0.0    -0.142992   \n",
       "2          -2.078113        3.0             0.0     0.0    -0.142992   \n",
       "3           0.362643        3.0             0.0     0.0    -0.142992   \n",
       "4           0.525360        3.0             0.0     0.0    -0.142992   \n",
       "\n",
       "   no_of_children  income_bracket  coupon_discount_y  coupon_used_y   day  \\\n",
       "0       -0.436522        0.062799           0.305052      -0.449826  11.0   \n",
       "1       -0.436522       -1.078547          -2.345483      -0.165313   4.0   \n",
       "2       -0.436522        1.204145          -1.437502       1.722817  27.0   \n",
       "3       -0.436522        0.062799          -0.115208      -0.423961   9.0   \n",
       "4       -0.436522       -1.078547           0.138213      -0.217043   2.0   \n",
       "\n",
       "   dow  no_of_items  month  other_discount_y  quantity_y  selling_price_y  \\\n",
       "0  2.0    -1.188299    5.0         -3.061232    0.982589         3.466661   \n",
       "1  5.0    -1.077153    6.0         -1.623272   -0.446425         4.854179   \n",
       "2  2.0    -0.184896    3.0          0.220277   -0.585870         0.547886   \n",
       "3  4.0    -1.163600    8.0          0.218341   -0.586340        -0.080346   \n",
       "4  4.0    -0.820899    5.0          0.377565    0.552219        -0.973463   \n",
       "\n",
       "    cdd_sum  customer_id_count   odd_sum    qa_sum  pprice_sum  \n",
       "0  0.455543          -1.097975  0.638587 -0.147977   -0.790891  \n",
       "1 -0.444733          -0.984004  0.662184 -0.534847   -0.471809  \n",
       "2 -1.156285          -0.095029  0.161766 -0.579545    0.056379  \n",
       "3  0.385754          -1.208907  1.149062 -0.583873   -1.184941  \n",
       "4  0.317642          -0.715032  0.747243 -0.009180   -0.835549  "
      ]
     },
     "execution_count": 13,
     "metadata": {},
     "output_type": "execute_result"
    }
   ],
   "source": [
    "x.head()"
   ]
  },
  {
   "cell_type": "markdown",
   "metadata": {},
   "source": [
    "# Feature Selection"
   ]
  },
  {
   "cell_type": "markdown",
   "metadata": {},
   "source": [
    "# Recursive Feature Elimination"
   ]
  },
  {
   "cell_type": "code",
   "execution_count": 14,
   "metadata": {},
   "outputs": [],
   "source": [
    "from sklearn.feature_selection import RFE\n",
    "X = x\n",
    "Y = y"
   ]
  },
  {
   "cell_type": "code",
   "execution_count": 15,
   "metadata": {},
   "outputs": [
    {
     "name": "stdout",
     "output_type": "stream",
     "text": [
      "[ True  True  True  True  True  True  True  True  True  True  True  True\n",
      "  True  True  True  True  True  True  True  True  True  True  True  True\n",
      "  True  True  True  True  True  True  True  True  True  True  True  True\n",
      "  True  True  True  True  True]\n",
      "[1 1 1 1 1 1 1 1 1 1 1 1 1 1 1 1 1 1 1 1 1 1 1 1 1 1 1 1 1 1 1 1 1 1 1 1 1\n",
      " 1 1 1 1]\n"
     ]
    }
   ],
   "source": [
    "from sklearn.linear_model import LinearRegression\n",
    "model = LinearRegression()\n",
    "rfe = RFE(model,41)\n",
    "X_rfe = rfe.fit_transform(X,Y)\n",
    "model.fit(X_rfe,Y)\n",
    "print(rfe.support_)\n",
    "print(rfe.ranking_)"
   ]
  },
  {
   "cell_type": "code",
   "execution_count": 16,
   "metadata": {},
   "outputs": [],
   "source": [
    "from sklearn.metrics import roc_auc_score"
   ]
  },
  {
   "cell_type": "code",
   "execution_count": 17,
   "metadata": {},
   "outputs": [
    {
     "name": "stdout",
     "output_type": "stream",
     "text": [
      "Optimum number of features: 40\n",
      "Score with 40 features: 0.911691\n"
     ]
    }
   ],
   "source": [
    "# no of features\n",
    "nof_list = np.arange(1,41)\n",
    "high_score = 0\n",
    "#Variable to store the optimum feature\n",
    "nof = 0\n",
    "score_list=[]\n",
    "for n in range(len(nof_list)):\n",
    "    X_train,X_test,Y_train,Y_test = train_test_split(X,Y,test_size=0.3,random_state=0)\n",
    "    model = LinearRegression()\n",
    "    rfe = RFE(model,nof_list[n])\n",
    "    X_train_rfe = rfe.fit_transform(X_train,Y_train)\n",
    "    X_test_rfe = rfe.transform(X_test)\n",
    "    model.fit(X_train_rfe,Y_train)\n",
    "    Y_pred = model.predict(X_test_rfe)\n",
    "    score = roc_auc_score(Y_test,Y_pred)\n",
    "    score_list.append(score)\n",
    "    if(score>high_score):\n",
    "        high_score=score\n",
    "        nof = nof_list[n]\n",
    "print(\"Optimum number of features: %d\" %nof)\n",
    "print(\"Score with %d features: %f\" %(nof, high_score))"
   ]
  },
  {
   "cell_type": "code",
   "execution_count": 18,
   "metadata": {},
   "outputs": [
    {
     "name": "stdout",
     "output_type": "stream",
     "text": [
      "Index(['coupon_id', 'brand', 'brand_type', 'category', 'cd_sum',\n",
      "       'coupon_discount_x', 'coupon_used_x', 'item_counts', 'no_of_customers',\n",
      "       'od_sum', 'other_discount_x', 'price_sum', 'qu_sum', 'quantity_x',\n",
      "       'selling_price_x', 't_counts', 'total_discount_mean',\n",
      "       'total_discount_sum', 'campaign_type', 'campaign_duration', 'age_range',\n",
      "       'marital_status', 'rented', 'family_size', 'no_of_children',\n",
      "       'income_bracket', 'coupon_discount_y', 'coupon_used_y', 'day', 'dow',\n",
      "       'no_of_items', 'month', 'other_discount_y', 'quantity_y',\n",
      "       'selling_price_y', 'cdd_sum', 'customer_id_count', 'odd_sum', 'qa_sum',\n",
      "       'pprice_sum'],\n",
      "      dtype='object')\n"
     ]
    }
   ],
   "source": [
    "cols = list(X.columns)\n",
    "model=LinearRegression()\n",
    "#Initializing RFE Model\n",
    "rfe = RFE(model,40)\n",
    "#Transforming data using RFE\n",
    "X_rfe = rfe.fit_transform(X,Y)\n",
    "#Fitting data to model\n",
    "model.fit(X_rfe,Y)\n",
    "temp = pd.Series(rfe.support_,index = cols)\n",
    "selected_features_rfe = temp[temp==True].index\n",
    "print(selected_features_rfe)"
   ]
  },
  {
   "cell_type": "code",
   "execution_count": 19,
   "metadata": {},
   "outputs": [],
   "source": [
    "col_names=['coupon_id', 'brand', 'brand_type', 'category', 'cd_sum',\n",
    "           'coupon_discount_x', 'coupon_used_x', 'item_counts', 'no_of_customers',\n",
    "           'od_sum', 'other_discount_x', 'price_sum', 'qu_sum', 'quantity_x',\n",
    "           'selling_price_x', 't_counts', 'total_discount_mean',\n",
    "           'total_discount_sum', 'campaign_type', 'campaign_duration', 'age_range',\n",
    "           'marital_status', 'rented', 'family_size', 'no_of_children',\n",
    "           'income_bracket', 'coupon_discount_y', 'coupon_used_y', 'day', 'dow',\n",
    "           'no_of_items', 'month', 'other_discount_y', 'quantity_y',\n",
    "           'selling_price_y', 'cdd_sum', 'customer_id_count', 'odd_sum', 'qa_sum','pprice_sum']"
   ]
  },
  {
   "cell_type": "code",
   "execution_count": 20,
   "metadata": {},
   "outputs": [],
   "source": [
    "x=x[col_names]"
   ]
  },
  {
   "cell_type": "code",
   "execution_count": 21,
   "metadata": {},
   "outputs": [
    {
     "data": {
      "text/plain": [
       "(155280, 40)"
      ]
     },
     "execution_count": 21,
     "metadata": {},
     "output_type": "execute_result"
    }
   ],
   "source": [
    "x.shape"
   ]
  },
  {
   "cell_type": "code",
   "execution_count": 22,
   "metadata": {},
   "outputs": [],
   "source": [
    "x_train,x_test,y_train,y_test = train_test_split(x,Y,test_size=0.3,random_state=1990)"
   ]
  },
  {
   "cell_type": "markdown",
   "metadata": {},
   "source": [
    "# Logistic Regression"
   ]
  },
  {
   "cell_type": "code",
   "execution_count": 23,
   "metadata": {},
   "outputs": [
    {
     "name": "stdout",
     "output_type": "stream",
     "text": [
      "              precision    recall  f1-score   support\n",
      "\n",
      "           0       0.86      0.83      0.85     23383\n",
      "           1       0.84      0.86      0.85     23201\n",
      "\n",
      "    accuracy                           0.85     46584\n",
      "   macro avg       0.85      0.85      0.85     46584\n",
      "weighted avg       0.85      0.85      0.85     46584\n",
      "\n"
     ]
    }
   ],
   "source": [
    "LR = LogisticRegression()\n",
    "LR.fit(x_train,y_train)\n",
    "y_pred_LR = LR.predict(x_test)\n",
    "print(classification_report(y_test,y_pred_LR))"
   ]
  },
  {
   "cell_type": "code",
   "execution_count": 24,
   "metadata": {},
   "outputs": [
    {
     "name": "stdout",
     "output_type": "stream",
     "text": [
      "0.8470267827804798\n"
     ]
    }
   ],
   "source": [
    "print(roc_auc_score(y_test,y_pred_LR))\n",
    "Model = ['Logistic Regression']\n",
    "ROC_AUC_Accuracy = [roc_auc_score(y_test,y_pred_LR)]"
   ]
  },
  {
   "cell_type": "markdown",
   "metadata": {},
   "source": [
    "# Naive Bayes"
   ]
  },
  {
   "cell_type": "code",
   "execution_count": 25,
   "metadata": {},
   "outputs": [
    {
     "name": "stdout",
     "output_type": "stream",
     "text": [
      "0.6736102165150691\n"
     ]
    }
   ],
   "source": [
    "nb = GaussianNB()\n",
    "nb.fit(x_train,y_train)\n",
    "y_pred_nb = nb.predict(x_test)\n",
    "print(roc_auc_score(y_test,y_pred_nb))\n",
    "Model.append('Naive Bayes')\n",
    "ROC_AUC_Accuracy.append(roc_auc_score(y_test,y_pred_nb))"
   ]
  },
  {
   "cell_type": "code",
   "execution_count": 26,
   "metadata": {},
   "outputs": [
    {
     "name": "stdout",
     "output_type": "stream",
     "text": [
      "              precision    recall  f1-score   support\n",
      "\n",
      "           0       0.61      0.96      0.75     23383\n",
      "           1       0.90      0.39      0.54     23201\n",
      "\n",
      "    accuracy                           0.67     46584\n",
      "   macro avg       0.76      0.67      0.65     46584\n",
      "weighted avg       0.76      0.67      0.65     46584\n",
      "\n"
     ]
    }
   ],
   "source": [
    "print(classification_report(y_test,y_pred_nb))"
   ]
  },
  {
   "cell_type": "markdown",
   "metadata": {},
   "source": [
    "# Decision Tree"
   ]
  },
  {
   "cell_type": "code",
   "execution_count": 27,
   "metadata": {},
   "outputs": [
    {
     "data": {
      "text/plain": [
       "RandomizedSearchCV(cv=3, error_score='raise-deprecating',\n",
       "                   estimator=DecisionTreeClassifier(class_weight=None,\n",
       "                                                    criterion='gini',\n",
       "                                                    max_depth=None,\n",
       "                                                    max_features=None,\n",
       "                                                    max_leaf_nodes=None,\n",
       "                                                    min_impurity_decrease=0.0,\n",
       "                                                    min_impurity_split=None,\n",
       "                                                    min_samples_leaf=1,\n",
       "                                                    min_samples_split=2,\n",
       "                                                    min_weight_fraction_leaf=0.0,\n",
       "                                                    presort=False,\n",
       "                                                    random_state=None,\n",
       "                                                    splitter='best'),\n",
       "                   iid='warn', n_iter=10, n_jobs=-1,\n",
       "                   param_distributions={'criterion': ['gini', 'entropy'],\n",
       "                                        'max_depth': range(1, 10),\n",
       "                                        'max_features': ['auto', 'log2'],\n",
       "                                        'max_leaf_nodes': range(2, 10),\n",
       "                                        'splitter': ['best', 'random']},\n",
       "                   pre_dispatch='2*n_jobs', random_state=None, refit=True,\n",
       "                   return_train_score=False, scoring='recall', verbose=0)"
      ]
     },
     "execution_count": 27,
     "metadata": {},
     "output_type": "execute_result"
    }
   ],
   "source": [
    "params = {\n",
    "    \n",
    "    'criterion':['gini','entropy'],\n",
    "    'splitter':['best','random'],\n",
    "    'max_depth':range(1,10),\n",
    "    'max_leaf_nodes':range(2,10,1),\n",
    "    'max_features':['auto','log2']\n",
    "    \n",
    "}\n",
    "\n",
    "dt = DecisionTreeClassifier()\n",
    "\n",
    "rs = RandomizedSearchCV(estimator=dt,n_jobs=-1,cv=3,param_distributions=params,scoring='recall')\n",
    "rs.fit(x,y)"
   ]
  },
  {
   "cell_type": "code",
   "execution_count": 28,
   "metadata": {},
   "outputs": [
    {
     "name": "stdout",
     "output_type": "stream",
     "text": [
      "0.8222878993323508\n"
     ]
    }
   ],
   "source": [
    "dt = DecisionTreeClassifier(**rs.best_params_)\n",
    "dt.fit(x_train,y_train)\n",
    "y_pred_dt = dt.predict(x_test)\n",
    "print(roc_auc_score(y_test,y_pred_dt))\n",
    "Model.append('Decision Tree')\n",
    "ROC_AUC_Accuracy.append(roc_auc_score(y_test,y_pred_dt))"
   ]
  },
  {
   "cell_type": "code",
   "execution_count": 29,
   "metadata": {},
   "outputs": [
    {
     "name": "stdout",
     "output_type": "stream",
     "text": [
      "              precision    recall  f1-score   support\n",
      "\n",
      "           0       0.82      0.83      0.82     23383\n",
      "           1       0.82      0.82      0.82     23201\n",
      "\n",
      "    accuracy                           0.82     46584\n",
      "   macro avg       0.82      0.82      0.82     46584\n",
      "weighted avg       0.82      0.82      0.82     46584\n",
      "\n"
     ]
    }
   ],
   "source": [
    "print(classification_report(y_test,y_pred_dt))"
   ]
  },
  {
   "cell_type": "code",
   "execution_count": 30,
   "metadata": {},
   "outputs": [
    {
     "data": {
      "text/plain": [
       "(['Logistic Regression', 'Naive Bayes', 'Decision Tree'],\n",
       " [0.8470267827804798, 0.6736102165150691, 0.8222878993323508])"
      ]
     },
     "execution_count": 30,
     "metadata": {},
     "output_type": "execute_result"
    }
   ],
   "source": [
    "Model,ROC_AUC_Accuracy"
   ]
  },
  {
   "cell_type": "markdown",
   "metadata": {},
   "source": [
    "# Random Forest"
   ]
  },
  {
   "cell_type": "code",
   "execution_count": 31,
   "metadata": {},
   "outputs": [
    {
     "data": {
      "text/plain": [
       "RandomizedSearchCV(cv=3, error_score='raise-deprecating',\n",
       "                   estimator=RandomForestClassifier(bootstrap=True,\n",
       "                                                    class_weight=None,\n",
       "                                                    criterion='gini',\n",
       "                                                    max_depth=None,\n",
       "                                                    max_features='auto',\n",
       "                                                    max_leaf_nodes=None,\n",
       "                                                    min_impurity_decrease=0.0,\n",
       "                                                    min_impurity_split=None,\n",
       "                                                    min_samples_leaf=1,\n",
       "                                                    min_samples_split=2,\n",
       "                                                    min_weight_fraction_leaf=0.0,\n",
       "                                                    n_estimators='warn',\n",
       "                                                    n_jobs=None,\n",
       "                                                    oob_sc...\n",
       "                                                    random_state=None,\n",
       "                                                    verbose=0,\n",
       "                                                    warm_start=False),\n",
       "                   iid='warn', n_iter=10, n_jobs=-1,\n",
       "                   param_distributions={'criterion': ['gini', 'entropy'],\n",
       "                                        'max_depth': range(2, 10),\n",
       "                                        'max_features': ['auto', 'log2'],\n",
       "                                        'max_leaf_nodes': range(2, 10),\n",
       "                                        'n_estimators': range(10, 100, 10)},\n",
       "                   pre_dispatch='2*n_jobs', random_state=None, refit=True,\n",
       "                   return_train_score=False, scoring='recall', verbose=0)"
      ]
     },
     "execution_count": 31,
     "metadata": {},
     "output_type": "execute_result"
    }
   ],
   "source": [
    "params = {\n",
    "    \n",
    "    'n_estimators':range(10,100,10),\n",
    "    'criterion':['gini','entropy'],\n",
    "    'max_depth':range(2,10,1),\n",
    "    'max_leaf_nodes':range(2,10,1),\n",
    "    'max_features':['auto','log2']\n",
    "    \n",
    "}\n",
    "\n",
    "rf = RandomForestClassifier()\n",
    "\n",
    "rs = RandomizedSearchCV(estimator=rf,param_distributions=params,cv=3,scoring='recall',n_jobs=-1)\n",
    "rs.fit(x,y)"
   ]
  },
  {
   "cell_type": "code",
   "execution_count": 32,
   "metadata": {},
   "outputs": [
    {
     "name": "stdout",
     "output_type": "stream",
     "text": [
      "0.9117011054174562\n"
     ]
    }
   ],
   "source": [
    "rf = RandomForestClassifier(**rs.best_params_)\n",
    "rf.fit(x_train,y_train)\n",
    "y_pred_rf = rf.predict(x_test)\n",
    "print(roc_auc_score(y_test,y_pred_rf))\n",
    "Model.append('Random Forest')\n",
    "ROC_AUC_Accuracy.append(roc_auc_score(y_test,y_pred_rf))"
   ]
  },
  {
   "cell_type": "code",
   "execution_count": 33,
   "metadata": {},
   "outputs": [
    {
     "name": "stdout",
     "output_type": "stream",
     "text": [
      "              precision    recall  f1-score   support\n",
      "\n",
      "           0       0.94      0.88      0.91     23383\n",
      "           1       0.89      0.94      0.91     23201\n",
      "\n",
      "    accuracy                           0.91     46584\n",
      "   macro avg       0.91      0.91      0.91     46584\n",
      "weighted avg       0.91      0.91      0.91     46584\n",
      "\n"
     ]
    }
   ],
   "source": [
    "print(classification_report(y_test,y_pred_rf))"
   ]
  },
  {
   "cell_type": "code",
   "execution_count": 34,
   "metadata": {},
   "outputs": [
    {
     "data": {
      "text/plain": [
       "(['Logistic Regression', 'Naive Bayes', 'Decision Tree', 'Random Forest'],\n",
       " [0.8470267827804798,\n",
       "  0.6736102165150691,\n",
       "  0.8222878993323508,\n",
       "  0.9117011054174562])"
      ]
     },
     "execution_count": 34,
     "metadata": {},
     "output_type": "execute_result"
    }
   ],
   "source": [
    "Model,ROC_AUC_Accuracy"
   ]
  },
  {
   "cell_type": "code",
   "execution_count": 35,
   "metadata": {},
   "outputs": [
    {
     "data": {
      "text/html": [
       "<div>\n",
       "<style scoped>\n",
       "    .dataframe tbody tr th:only-of-type {\n",
       "        vertical-align: middle;\n",
       "    }\n",
       "\n",
       "    .dataframe tbody tr th {\n",
       "        vertical-align: top;\n",
       "    }\n",
       "\n",
       "    .dataframe thead th {\n",
       "        text-align: right;\n",
       "    }\n",
       "</style>\n",
       "<table border=\"1\" class=\"dataframe\">\n",
       "  <thead>\n",
       "    <tr style=\"text-align: right;\">\n",
       "      <th></th>\n",
       "      <th>Model</th>\n",
       "      <th>Accuracy</th>\n",
       "    </tr>\n",
       "  </thead>\n",
       "  <tbody>\n",
       "    <tr>\n",
       "      <th>0</th>\n",
       "      <td>Logistic Regression</td>\n",
       "      <td>0.847027</td>\n",
       "    </tr>\n",
       "    <tr>\n",
       "      <th>1</th>\n",
       "      <td>Naive Bayes</td>\n",
       "      <td>0.673610</td>\n",
       "    </tr>\n",
       "    <tr>\n",
       "      <th>2</th>\n",
       "      <td>Decision Tree</td>\n",
       "      <td>0.822288</td>\n",
       "    </tr>\n",
       "    <tr>\n",
       "      <th>3</th>\n",
       "      <td>Random Forest</td>\n",
       "      <td>0.911701</td>\n",
       "    </tr>\n",
       "  </tbody>\n",
       "</table>\n",
       "</div>"
      ],
      "text/plain": [
       "                 Model  Accuracy\n",
       "0  Logistic Regression  0.847027\n",
       "1          Naive Bayes  0.673610\n",
       "2        Decision Tree  0.822288\n",
       "3        Random Forest  0.911701"
      ]
     },
     "execution_count": 35,
     "metadata": {},
     "output_type": "execute_result"
    }
   ],
   "source": [
    "final_result = pd.DataFrame({'Model':Model,'Accuracy':ROC_AUC_Accuracy})\n",
    "final_result"
   ]
  },
  {
   "cell_type": "markdown",
   "metadata": {},
   "source": [
    "# VIF"
   ]
  },
  {
   "cell_type": "code",
   "execution_count": 36,
   "metadata": {},
   "outputs": [
    {
     "data": {
      "text/plain": [
       "[2.5151661268013843,\n",
       " 2.02563190415474,\n",
       " 12.61944605105164,\n",
       " inf,\n",
       " inf,\n",
       " 232.38693988866734,\n",
       " 104.56355480641031,\n",
       " 1.4309532274473524,\n",
       " inf,\n",
       " inf,\n",
       " 941.0039583795794,\n",
       " 2162.6971642032004,\n",
       " 1.2287758708927639,\n",
       " 2.00433287649272,\n",
       " 2410.9229844048564,\n",
       " inf,\n",
       " inf,\n",
       " 1.5120381401273277,\n",
       " 1.4387402590440526,\n",
       " 9.5232358804176,\n",
       " 57.491134500414674,\n",
       " 1.163722108351878,\n",
       " 230.68017836210555,\n",
       " 176.31851403906074,\n",
       " 1.234621548644375,\n",
       " 6.444762265635263,\n",
       " 24.897838172556064,\n",
       " 4.7833029322946015,\n",
       " 5.1833847578630845,\n",
       " 8.630013925991122,\n",
       " 6.729855707079522,\n",
       " 4.507490697271662,\n",
       " 5.414289161026914,\n",
       " 3.5536175424783707,\n",
       " 37.57787316004731,\n",
       " 67.78161983990321,\n",
       " 24.322426049937253,\n",
       " 6.5184019252787815,\n",
       " 50.530852956490726]"
      ]
     },
     "execution_count": 36,
     "metadata": {},
     "output_type": "execute_result"
    }
   ],
   "source": [
    "from statsmodels.stats.outliers_influence import variance_inflation_factor\n",
    "\n",
    "[variance_inflation_factor(x.values, j) for j in range(1, x.shape[1])]"
   ]
  },
  {
   "cell_type": "code",
   "execution_count": 37,
   "metadata": {},
   "outputs": [],
   "source": [
    "# function definition\n",
    "\n",
    "def calculate_vif(x):\n",
    "    thresh = 5.0\n",
    "    output = pd.DataFrame()\n",
    "    k = x.shape[1]\n",
    "    vif = [variance_inflation_factor(x.values, j) for j in range(x.shape[1])]\n",
    "    for i in range(1,k):\n",
    "        print(\"Iteration no.\",i)\n",
    "        print(vif)\n",
    "        a = np.argmax(vif)\n",
    "        print(\"Max VIF is for variable no.:\",a)\n",
    "        if vif[a] <= thresh :\n",
    "            break\n",
    "        if i == 1 :          \n",
    "            output = x.drop(x.columns[a], axis = 1)\n",
    "            vif = [variance_inflation_factor(output.values, j) for j in range(output.shape[1])]\n",
    "        elif i > 1 :\n",
    "            output = output.drop(output.columns[a],axis = 1)\n",
    "            vif = [variance_inflation_factor(output.values, j) for j in range(output.shape[1])]\n",
    "    return(output)"
   ]
  },
  {
   "cell_type": "code",
   "execution_count": 38,
   "metadata": {},
   "outputs": [
    {
     "name": "stdout",
     "output_type": "stream",
     "text": [
      "Iteration no. 1\n",
      "[9.155658212769332, 2.5151661268013843, 2.02563190415474, 12.61944605105164, inf, inf, 232.38693988866734, 104.56355480641031, 1.4309532274473524, inf, inf, 941.0039583795794, 2162.6971642032004, 1.2287758708927639, 2.00433287649272, 2410.9229844048564, inf, inf, 1.5120381401273277, 1.4387402590440526, 9.5232358804176, 57.491134500414674, 1.163722108351878, 230.68017836210555, 176.31851403906074, 1.234621548644375, 6.444762265635263, 24.897838172556064, 4.7833029322946015, 5.1833847578630845, 8.630013925991122, 6.729855707079522, 4.507490697271662, 5.414289161026914, 3.5536175424783707, 37.57787316004731, 67.78161983990321, 24.322426049937253, 6.5184019252787815, 50.530852956490726]\n",
      "Max VIF is for variable no.: 4\n",
      "Iteration no. 2\n",
      "[9.15565821276935, 2.5151661268013803, 2.0256319041547357, 12.619446051051622, inf, 232.3869398886913, 104.56355480640181, 1.4309532274473498, 238837.00931098382, inf, 941.0039583794811, 2162.697164202681, 1.2287758708927634, 2.0043328764927053, 2410.9229844048564, inf, 247563.02020493735, 1.5120381401273273, 1.438740259044052, 9.5232358804176, 57.491134500414674, 1.163722108351878, 230.68017836210555, 176.31851403906074, 1.2346215486443752, 6.444762265635267, 24.897838172556064, 4.783302932294599, 5.1833847578630845, 8.630013925991122, 6.729855707079522, 4.507490697271665, 5.414289161026914, 3.5536175424783707, 37.57787316004731, 67.78161983990321, 24.322426049937253, 6.518401925278786, 50.530852956490726]\n",
      "Max VIF is for variable no.: 4\n",
      "Iteration no. 3\n",
      "[9.15565821276935, 2.5151661268013803, 2.025631904154737, 12.619446051051622, 232.3869398886913, 104.56355480640303, 1.4309532274473495, 238837.00931098382, 22.114029367309357, 941.0039583794811, 2162.697164202681, 1.2287758708927634, 2.004332876492704, 2410.9229844048564, 23.270060447882475, 247563.02020493735, 1.5120381401273273, 1.4387402590440521, 9.5232358804176, 57.491134500414674, 1.1637221083518778, 230.68017836210555, 176.31851403906074, 1.2346215486443748, 6.444762265635267, 24.897838172556064, 4.783302932294599, 5.1833847578630845, 8.630013925991122, 6.729855707079522, 4.507490697271665, 5.414289161026914, 3.5536175424783707, 37.57787316004731, 67.78161983990321, 24.322426049937253, 6.518401925278786, 50.530852956490726]\n",
      "Max VIF is for variable no.: 15\n",
      "Iteration no. 4\n",
      "[9.097656847057406, 2.508878795158737, 2.0225454919732173, 12.604139862947525, 30.381868119494758, 65.84037148471485, 1.4282526675517389, 304.61754722698544, 21.9674247343948, 869.8682831047828, 2123.468389024042, 1.2287713946169077, 1.9676901707293795, 2382.8012750485927, 22.973417762594664, 1.5110229323064233, 1.4374459011226304, 9.51974694285876, 57.47845661113912, 1.1636808206032874, 230.63938694664375, 176.29883402932685, 1.2329607916767564, 6.432121384730115, 24.89027583721447, 4.762356855610333, 5.1833144857721285, 8.629556476952802, 6.729854343535587, 4.502816538597925, 5.413387075142139, 3.5527889417355327, 37.55604512294525, 67.7800076836912, 24.300812579110126, 6.518314989686931, 50.52907169767804]\n",
      "Max VIF is for variable no.: 13\n",
      "Iteration no. 5\n",
      "[9.081431689916288, 2.5083280587168275, 2.0225016443785906, 12.596575064213447, 28.89945928166844, 59.384143224846156, 1.4281217756063544, 218.28622512565636, 21.798139378326685, 671.0111803253806, 100.18960611670997, 1.1473295727611281, 1.9384259912514727, 22.925857414228975, 1.510924812330328, 1.436573657824427, 9.493785107430945, 57.476427329715804, 1.163680328674286, 230.63878620108073, 176.29760431119988, 1.2321802976574068, 6.429499214268101, 24.83268867486684, 4.761914973014945, 5.182256881689674, 8.621276417843, 6.725587347733502, 4.502805935126941, 5.4125232590741215, 3.5523650956448094, 37.45951911668971, 67.77989304016538, 24.279190880897673, 6.515166494948707, 50.5284406105743]\n",
      "Max VIF is for variable no.: 9\n",
      "Iteration no. 6\n",
      "[9.063972100729922, 2.4669273889512255, 1.968784522112249, 12.593741662410523, 19.091592117383566, 4.794661427263293, 1.3869539701972031, 15.839667375110503, 21.691407525812775, 31.679069550763323, 1.1254148304179437, 1.8592462401428198, 22.901667650731575, 1.5098607074800532, 1.4323170444526432, 9.491267262862584, 57.3421735546514, 1.1631950353046572, 230.11747195072013, 175.94265393588427, 1.2321748236329737, 6.428288711611138, 24.831469456382898, 4.7499620841250065, 5.17735484533232, 8.607658887145066, 6.723980888051314, 4.502378348568678, 5.411972661953518, 3.5510503297811167, 37.45882221920272, 67.75492358274613, 24.276764502284884, 6.513225025754972, 50.52769107434057]\n",
      "Max VIF is for variable no.: 18\n",
      "Iteration no. 7\n",
      "[8.66425820142979, 2.4656435748020273, 1.913542482962759, 11.556453906561394, 19.08804614617766, 4.794255548064662, 1.3824294397092325, 15.832254977103318, 21.68636970071686, 31.677343851587707, 1.1250014317793593, 1.8464524267350497, 22.891142309013183, 1.509860707420878, 1.4322736982127902, 9.087896787619416, 1.5790319461939497, 1.1355250494044888, 1.2143520585338017, 1.2320507074319822, 6.424320878258166, 24.827728132324005, 4.667680852754261, 5.043112265521007, 8.602042876876581, 6.520889278299283, 4.5018253958564, 5.411796201325088, 3.550798501698506, 37.457104401457904, 67.72567546239114, 24.273708015271602, 6.512171361295008, 50.51436887015938]\n",
      "Max VIF is for variable no.: 30\n",
      "Iteration no. 8\n",
      "[8.66174773914172, 2.4656368457454882, 1.9135401553070053, 11.556238553562062, 19.081120636162982, 4.793293956269649, 1.3824259954136502, 15.826901294164438, 21.685491913454083, 31.664177131127257, 1.1247600160244184, 1.8463054078829715, 22.891116326975766, 1.508723247631478, 1.432244383448119, 9.081926424845346, 1.5785180910109062, 1.1354638848528633, 1.2108408681485272, 1.2202500161363743, 6.415126125889664, 24.824542370932257, 4.666898940208971, 5.042859332446899, 8.308670425473949, 6.519711855548798, 3.9031921671033465, 5.318205912190493, 1.980977387862341, 37.44956527120848, 19.216053258346907, 6.374254455777844, 18.346331820374164]\n",
      "Max VIF is for variable no.: 29\n",
      "Iteration no. 9\n",
      "[8.66157384712917, 2.4656157432569694, 1.9092933877084017, 11.551370566390654, 19.075852441114176, 4.7809059867809625, 1.3822787476417202, 15.797758023986681, 21.67984244484581, 31.635271398036018, 1.1243683965195868, 1.8428092921356778, 22.88861625793129, 1.507523661635118, 1.4321397157606022, 9.019118760119742, 1.5688970961332822, 1.1332970651583314, 1.2096821719085202, 1.2201620985518993, 4.335446319849503, 4.936907629332539, 4.649170224045803, 5.042047284549787, 8.302439315569528, 6.519496523833029, 3.623935360422814, 5.316548509775397, 1.9440704633381038, 17.278554968841494, 6.374204794424577, 17.96302506534384]\n",
      "Max VIF is for variable no.: 9\n",
      "Iteration no. 10\n",
      "[8.380511606588197, 2.464339610080088, 1.9044430745591396, 11.506494747397067, 9.201298411965304, 4.411521571991733, 1.3807769938342294, 7.303093118765582, 21.674604880658066, 1.109498319356877, 1.8426512061809521, 22.815825779098216, 1.5066861053518494, 1.4282051318594684, 9.013160854299315, 1.5688643069559196, 1.1323421344596398, 1.2096799410166668, 1.2196998811161401, 4.330334935272106, 4.93669582419285, 4.648952049765241, 5.041039219404849, 8.290121505046478, 6.498201790924389, 3.6233868632129047, 5.315895838502876, 1.943408194160538, 17.272103702806646, 6.369745156451973, 17.96298901827792]\n",
      "Max VIF is for variable no.: 11\n",
      "Iteration no. 11\n",
      "[8.371620382118751, 2.3507964622326174, 1.8772997426239246, 11.477167162641607, 9.168021918732117, 4.397074843867856, 1.3589320944105872, 7.273001756734163, 1.4366378166236258, 1.108107705270437, 1.7833470754528857, 1.5063406258886936, 1.4266875823702456, 9.01258840803756, 1.568731124306003, 1.132341086818158, 1.2096723508891176, 1.2196871826598874, 4.330280659479108, 4.935001311453991, 4.647403188847283, 5.039911154619463, 8.281588768616698, 6.497788286030756, 3.623339751548076, 5.3157992941617955, 1.9432110950654147, 17.27193008840279, 6.369546958535328, 17.957475302711412]\n",
      "Max VIF is for variable no.: 29\n",
      "Iteration no. 12\n",
      "[8.367474934785797, 2.3496376554723954, 1.8714581494148543, 11.477166510361377, 9.164849462456303, 4.396088258238739, 1.3575010013067181, 7.272872634668523, 1.436632518708841, 1.1078962046851515, 1.7831829231520349, 1.5061478942391346, 1.4246952816422147, 9.011111766645985, 1.568534925640181, 1.125100406057516, 1.2090955846483085, 1.1864473018551212, 4.270507163309846, 4.795724339042679, 4.643591326037684, 5.032011404028478, 6.591257756526878, 6.4897232472598745, 2.38999991824067, 5.003290252796845, 1.104834864467597, 8.617004324555356, 5.79631618683055]\n",
      "Max VIF is for variable no.: 3\n",
      "Iteration no. 13\n",
      "[7.958738661877943, 2.3138928536595635, 1.8196809218184613, 9.16476065771877, 4.330423978733687, 1.3295579894563474, 7.268102767393741, 1.419348541843387, 1.1069775117253198, 1.6422358038710871, 1.5058302190845037, 1.4194078530141343, 8.012485849987103, 1.5594740901202853, 1.1203823950525431, 1.2021665365091947, 1.186340103312319, 4.266871372548001, 4.787406530099888, 4.473630051647814, 4.743126885368487, 6.587481505853186, 6.147879395858757, 2.3898693595120206, 5.00159847727284, 1.102680649970655, 8.61625141742259, 5.795629888069101]\n",
      "Max VIF is for variable no.: 3\n",
      "Iteration no. 14\n",
      "[7.958734852970209, 2.3106757251590415, 1.8023667739380622, 3.3689921678353523, 1.3167554527592993, 3.5527320619870757, 1.416821196708909, 1.1060795664568521, 1.6419699919511943, 1.5056185730439169, 1.4180379057018884, 8.00923317426553, 1.5593602427232773, 1.1203337390261665, 1.2020755763527986, 1.1858491925927166, 4.244950531881722, 4.776636237127658, 4.4683453804611295, 4.742676649634762, 6.5860367527621415, 6.147147204290202, 2.3852719671813145, 4.994656372342571, 1.1021006628289207, 8.582593381921363, 5.780614970614668]\n",
      "Max VIF is for variable no.: 25\n",
      "Iteration no. 15\n",
      "[7.957215465964806, 2.304600264260976, 1.7971902571530725, 3.368827787093371, 1.3149845854003737, 3.551500693154541, 1.4168118826179097, 1.1060685564302164, 1.6415171034432943, 1.5055177649334146, 1.4177914392067363, 8.007199276876554, 1.5541128768579688, 1.1178434348463109, 1.2005249958681832, 1.17510307380451, 4.098474476890534, 4.56093951584126, 4.43047718603539, 4.716341711043577, 2.175798710814488, 6.1017245495006645, 1.3909600894779888, 4.825142324547359, 1.0942246146152632, 5.538114020363337]\n",
      "Max VIF is for variable no.: 11\n",
      "Iteration no. 16\n",
      "[7.074051670913687, 2.2985037327846727, 1.6793889892545362, 3.3668747171679887, 1.3148157388911308, 3.5185522052493203, 1.416282101047841, 1.104456720497315, 1.6392264847275557, 1.5049387462078965, 1.4169327990778025, 1.550138174769171, 1.1092696363646115, 1.1380025391483488, 1.1749892503984323, 4.086774629931054, 4.558352599844872, 4.120955579214529, 4.5271004399764445, 2.171980100261321, 5.58318006265939, 1.3898834550493218, 4.823227093880646, 1.094105041162234, 5.536265660441989]\n",
      "Max VIF is for variable no.: 0\n",
      "Iteration no. 17\n",
      "[2.0633511961449695, 1.360634403993295, 3.3407802630911267, 1.308293948726599, 3.3853992454803246, 1.385242754575109, 1.102939369227997, 1.6304462392870704, 1.5022940266889873, 1.416793705447888, 1.5360868072185738, 1.1048982786752972, 1.1377969368057077, 1.1744824459961303, 4.086160351627543, 4.552976088086544, 3.7246955796132357, 3.9893394124125865, 2.1597648098474282, 4.8352361891070395, 1.3879856231953736, 4.823225028738278, 1.092712924354201, 5.535981710651768]\n",
      "Max VIF is for variable no.: 23\n",
      "Iteration no. 18\n",
      "[2.0628449198154994, 1.3596226917475807, 3.33652525579959, 1.307658240625043, 3.3795993621504583, 1.3851999828618127, 1.1029354475609834, 1.6301081169530942, 1.5022798079210804, 1.4163389838107752, 1.5283974737670678, 1.104256066809033, 1.1187973479387807, 1.172530101947831, 4.0860468012260505, 4.550604697537689, 3.688435672054293, 3.988821056356485, 1.7259891168884132, 4.8324465839153765, 1.3603998450548918, 1.057730930703744, 1.0911234365547413]\n",
      "Max VIF is for variable no.: 19\n"
     ]
    }
   ],
   "source": [
    "train_out = calculate_vif(x)"
   ]
  },
  {
   "cell_type": "code",
   "execution_count": 39,
   "metadata": {},
   "outputs": [
    {
     "data": {
      "text/html": [
       "<div>\n",
       "<style scoped>\n",
       "    .dataframe tbody tr th:only-of-type {\n",
       "        vertical-align: middle;\n",
       "    }\n",
       "\n",
       "    .dataframe tbody tr th {\n",
       "        vertical-align: top;\n",
       "    }\n",
       "\n",
       "    .dataframe thead th {\n",
       "        text-align: right;\n",
       "    }\n",
       "</style>\n",
       "<table border=\"1\" class=\"dataframe\">\n",
       "  <thead>\n",
       "    <tr style=\"text-align: right;\">\n",
       "      <th></th>\n",
       "      <th>brand</th>\n",
       "      <th>brand_type</th>\n",
       "      <th>item_counts</th>\n",
       "      <th>no_of_customers</th>\n",
       "      <th>od_sum</th>\n",
       "      <th>other_discount_x</th>\n",
       "      <th>quantity_x</th>\n",
       "      <th>selling_price_x</th>\n",
       "      <th>campaign_type</th>\n",
       "      <th>campaign_duration</th>\n",
       "      <th>marital_status</th>\n",
       "      <th>rented</th>\n",
       "      <th>no_of_children</th>\n",
       "      <th>income_bracket</th>\n",
       "      <th>coupon_discount_y</th>\n",
       "      <th>coupon_used_y</th>\n",
       "      <th>day</th>\n",
       "      <th>dow</th>\n",
       "      <th>no_of_items</th>\n",
       "      <th>month</th>\n",
       "      <th>other_discount_y</th>\n",
       "      <th>quantity_y</th>\n",
       "      <th>selling_price_y</th>\n",
       "    </tr>\n",
       "  </thead>\n",
       "  <tbody>\n",
       "    <tr>\n",
       "      <th>0</th>\n",
       "      <td>1105.0</td>\n",
       "      <td>0.0</td>\n",
       "      <td>0.071188</td>\n",
       "      <td>0.124860</td>\n",
       "      <td>-0.648761</td>\n",
       "      <td>-1.135068</td>\n",
       "      <td>-0.012769</td>\n",
       "      <td>-0.309623</td>\n",
       "      <td>-0.598825</td>\n",
       "      <td>0.362643</td>\n",
       "      <td>1.0</td>\n",
       "      <td>0.0</td>\n",
       "      <td>-0.436522</td>\n",
       "      <td>0.062799</td>\n",
       "      <td>0.305052</td>\n",
       "      <td>-0.449826</td>\n",
       "      <td>11.0</td>\n",
       "      <td>2.0</td>\n",
       "      <td>-1.188299</td>\n",
       "      <td>5.0</td>\n",
       "      <td>-3.061232</td>\n",
       "      <td>0.982589</td>\n",
       "      <td>3.466661</td>\n",
       "    </tr>\n",
       "    <tr>\n",
       "      <th>1</th>\n",
       "      <td>56.0</td>\n",
       "      <td>1.0</td>\n",
       "      <td>-0.130455</td>\n",
       "      <td>0.207049</td>\n",
       "      <td>0.157914</td>\n",
       "      <td>0.504670</td>\n",
       "      <td>-0.461816</td>\n",
       "      <td>-0.639102</td>\n",
       "      <td>-0.598825</td>\n",
       "      <td>0.362643</td>\n",
       "      <td>0.0</td>\n",
       "      <td>0.0</td>\n",
       "      <td>-0.436522</td>\n",
       "      <td>-1.078547</td>\n",
       "      <td>-2.345483</td>\n",
       "      <td>-0.165313</td>\n",
       "      <td>4.0</td>\n",
       "      <td>5.0</td>\n",
       "      <td>-1.077153</td>\n",
       "      <td>6.0</td>\n",
       "      <td>-1.623272</td>\n",
       "      <td>-0.446425</td>\n",
       "      <td>4.854179</td>\n",
       "    </tr>\n",
       "    <tr>\n",
       "      <th>2</th>\n",
       "      <td>560.0</td>\n",
       "      <td>0.0</td>\n",
       "      <td>-0.024675</td>\n",
       "      <td>-1.168935</td>\n",
       "      <td>0.103688</td>\n",
       "      <td>-2.690307</td>\n",
       "      <td>0.682610</td>\n",
       "      <td>1.292250</td>\n",
       "      <td>1.669936</td>\n",
       "      <td>-2.078113</td>\n",
       "      <td>0.0</td>\n",
       "      <td>0.0</td>\n",
       "      <td>-0.436522</td>\n",
       "      <td>1.204145</td>\n",
       "      <td>-1.437502</td>\n",
       "      <td>1.722817</td>\n",
       "      <td>27.0</td>\n",
       "      <td>2.0</td>\n",
       "      <td>-0.184896</td>\n",
       "      <td>3.0</td>\n",
       "      <td>0.220277</td>\n",
       "      <td>-0.585870</td>\n",
       "      <td>0.547886</td>\n",
       "    </tr>\n",
       "    <tr>\n",
       "      <th>3</th>\n",
       "      <td>611.0</td>\n",
       "      <td>0.0</td>\n",
       "      <td>-0.128802</td>\n",
       "      <td>-1.040109</td>\n",
       "      <td>0.159398</td>\n",
       "      <td>0.780921</td>\n",
       "      <td>-0.237131</td>\n",
       "      <td>-0.512615</td>\n",
       "      <td>-0.598825</td>\n",
       "      <td>0.362643</td>\n",
       "      <td>0.0</td>\n",
       "      <td>0.0</td>\n",
       "      <td>-0.436522</td>\n",
       "      <td>0.062799</td>\n",
       "      <td>-0.115208</td>\n",
       "      <td>-0.423961</td>\n",
       "      <td>9.0</td>\n",
       "      <td>4.0</td>\n",
       "      <td>-1.163600</td>\n",
       "      <td>8.0</td>\n",
       "      <td>0.218341</td>\n",
       "      <td>-0.586340</td>\n",
       "      <td>-0.080346</td>\n",
       "    </tr>\n",
       "    <tr>\n",
       "      <th>4</th>\n",
       "      <td>1558.0</td>\n",
       "      <td>0.0</td>\n",
       "      <td>-0.082523</td>\n",
       "      <td>0.724126</td>\n",
       "      <td>-0.052853</td>\n",
       "      <td>-0.477343</td>\n",
       "      <td>-0.385799</td>\n",
       "      <td>0.284928</td>\n",
       "      <td>-0.598825</td>\n",
       "      <td>0.525360</td>\n",
       "      <td>0.0</td>\n",
       "      <td>0.0</td>\n",
       "      <td>-0.436522</td>\n",
       "      <td>-1.078547</td>\n",
       "      <td>0.138213</td>\n",
       "      <td>-0.217043</td>\n",
       "      <td>2.0</td>\n",
       "      <td>4.0</td>\n",
       "      <td>-0.820899</td>\n",
       "      <td>5.0</td>\n",
       "      <td>0.377565</td>\n",
       "      <td>0.552219</td>\n",
       "      <td>-0.973463</td>\n",
       "    </tr>\n",
       "  </tbody>\n",
       "</table>\n",
       "</div>"
      ],
      "text/plain": [
       "    brand  brand_type  item_counts  no_of_customers    od_sum  \\\n",
       "0  1105.0         0.0     0.071188         0.124860 -0.648761   \n",
       "1    56.0         1.0    -0.130455         0.207049  0.157914   \n",
       "2   560.0         0.0    -0.024675        -1.168935  0.103688   \n",
       "3   611.0         0.0    -0.128802        -1.040109  0.159398   \n",
       "4  1558.0         0.0    -0.082523         0.724126 -0.052853   \n",
       "\n",
       "   other_discount_x  quantity_x  selling_price_x  campaign_type  \\\n",
       "0         -1.135068   -0.012769        -0.309623      -0.598825   \n",
       "1          0.504670   -0.461816        -0.639102      -0.598825   \n",
       "2         -2.690307    0.682610         1.292250       1.669936   \n",
       "3          0.780921   -0.237131        -0.512615      -0.598825   \n",
       "4         -0.477343   -0.385799         0.284928      -0.598825   \n",
       "\n",
       "   campaign_duration  marital_status  rented  no_of_children  income_bracket  \\\n",
       "0           0.362643             1.0     0.0       -0.436522        0.062799   \n",
       "1           0.362643             0.0     0.0       -0.436522       -1.078547   \n",
       "2          -2.078113             0.0     0.0       -0.436522        1.204145   \n",
       "3           0.362643             0.0     0.0       -0.436522        0.062799   \n",
       "4           0.525360             0.0     0.0       -0.436522       -1.078547   \n",
       "\n",
       "   coupon_discount_y  coupon_used_y   day  dow  no_of_items  month  \\\n",
       "0           0.305052      -0.449826  11.0  2.0    -1.188299    5.0   \n",
       "1          -2.345483      -0.165313   4.0  5.0    -1.077153    6.0   \n",
       "2          -1.437502       1.722817  27.0  2.0    -0.184896    3.0   \n",
       "3          -0.115208      -0.423961   9.0  4.0    -1.163600    8.0   \n",
       "4           0.138213      -0.217043   2.0  4.0    -0.820899    5.0   \n",
       "\n",
       "   other_discount_y  quantity_y  selling_price_y  \n",
       "0         -3.061232    0.982589         3.466661  \n",
       "1         -1.623272   -0.446425         4.854179  \n",
       "2          0.220277   -0.585870         0.547886  \n",
       "3          0.218341   -0.586340        -0.080346  \n",
       "4          0.377565    0.552219        -0.973463  "
      ]
     },
     "execution_count": 39,
     "metadata": {},
     "output_type": "execute_result"
    }
   ],
   "source": [
    "## includes only the relevant features.\n",
    "train_out.head()"
   ]
  },
  {
   "cell_type": "code",
   "execution_count": 40,
   "metadata": {},
   "outputs": [
    {
     "data": {
      "text/plain": [
       "Index(['brand', 'brand_type', 'item_counts', 'no_of_customers', 'od_sum',\n",
       "       'other_discount_x', 'quantity_x', 'selling_price_x', 'campaign_type',\n",
       "       'campaign_duration', 'marital_status', 'rented', 'no_of_children',\n",
       "       'income_bracket', 'coupon_discount_y', 'coupon_used_y', 'day', 'dow',\n",
       "       'no_of_items', 'month', 'other_discount_y', 'quantity_y',\n",
       "       'selling_price_y'],\n",
       "      dtype='object')"
      ]
     },
     "execution_count": 40,
     "metadata": {},
     "output_type": "execute_result"
    }
   ],
   "source": [
    "train_out.columns"
   ]
  },
  {
   "cell_type": "code",
   "execution_count": 41,
   "metadata": {},
   "outputs": [
    {
     "data": {
      "text/plain": [
       "(155280, 23)"
      ]
     },
     "execution_count": 41,
     "metadata": {},
     "output_type": "execute_result"
    }
   ],
   "source": [
    "train_out.shape"
   ]
  },
  {
   "cell_type": "code",
   "execution_count": 42,
   "metadata": {},
   "outputs": [],
   "source": [
    "x_train,x_test,y_train,y_test = train_test_split(train_out,y,test_size=0.3,random_state=1990)"
   ]
  },
  {
   "cell_type": "code",
   "execution_count": 43,
   "metadata": {},
   "outputs": [
    {
     "data": {
      "text/plain": [
       "((108696, 23), (108696,), (46584, 23), (46584,))"
      ]
     },
     "execution_count": 43,
     "metadata": {},
     "output_type": "execute_result"
    }
   ],
   "source": [
    "x_train.shape,y_train.shape,x_test.shape,y_test.shape"
   ]
  },
  {
   "cell_type": "code",
   "execution_count": 44,
   "metadata": {},
   "outputs": [
    {
     "name": "stdout",
     "output_type": "stream",
     "text": [
      "              precision    recall  f1-score   support\n",
      "\n",
      "           0       0.85      0.82      0.84     23383\n",
      "           1       0.83      0.85      0.84     23201\n",
      "\n",
      "    accuracy                           0.84     46584\n",
      "   macro avg       0.84      0.84      0.84     46584\n",
      "weighted avg       0.84      0.84      0.84     46584\n",
      "\n"
     ]
    }
   ],
   "source": [
    "LR = LogisticRegression()\n",
    "LR.fit(x_train,y_train)\n",
    "y_pred_LR = LR.predict(x_test)\n",
    "print(classification_report(y_test,y_pred_LR))"
   ]
  },
  {
   "cell_type": "code",
   "execution_count": 45,
   "metadata": {},
   "outputs": [],
   "source": [
    "roc_auc_score(y_test,y_pred_LR)\n",
    "Model = ['Logistic Regression']\n",
    "ROC_AUC_Accuracy = [roc_auc_score(y_test,y_pred_LR)]"
   ]
  },
  {
   "cell_type": "markdown",
   "metadata": {},
   "source": [
    "# Naive Bayes"
   ]
  },
  {
   "cell_type": "code",
   "execution_count": 46,
   "metadata": {},
   "outputs": [
    {
     "name": "stdout",
     "output_type": "stream",
     "text": [
      "0.816459776482632\n"
     ]
    }
   ],
   "source": [
    "nb = GaussianNB()\n",
    "nb.fit(x_train,y_train)\n",
    "y_pred_nb = nb.predict(x_test)\n",
    "print(roc_auc_score(y_test,y_pred_nb))\n",
    "Model.append('Naive Bayes')\n",
    "ROC_AUC_Accuracy.append(roc_auc_score(y_test,y_pred_nb))"
   ]
  },
  {
   "cell_type": "code",
   "execution_count": 47,
   "metadata": {},
   "outputs": [
    {
     "name": "stdout",
     "output_type": "stream",
     "text": [
      "              precision    recall  f1-score   support\n",
      "\n",
      "           0       0.80      0.85      0.82     23383\n",
      "           1       0.84      0.78      0.81     23201\n",
      "\n",
      "    accuracy                           0.82     46584\n",
      "   macro avg       0.82      0.82      0.82     46584\n",
      "weighted avg       0.82      0.82      0.82     46584\n",
      "\n"
     ]
    }
   ],
   "source": [
    "print(classification_report(y_test,y_pred_nb))"
   ]
  },
  {
   "cell_type": "markdown",
   "metadata": {},
   "source": [
    "# Decision Tree"
   ]
  },
  {
   "cell_type": "code",
   "execution_count": 48,
   "metadata": {},
   "outputs": [
    {
     "data": {
      "text/plain": [
       "GridSearchCV(cv=3, error_score='raise-deprecating',\n",
       "             estimator=DecisionTreeClassifier(class_weight=None,\n",
       "                                              criterion='gini', max_depth=None,\n",
       "                                              max_features=None,\n",
       "                                              max_leaf_nodes=None,\n",
       "                                              min_impurity_decrease=0.0,\n",
       "                                              min_impurity_split=None,\n",
       "                                              min_samples_leaf=1,\n",
       "                                              min_samples_split=2,\n",
       "                                              min_weight_fraction_leaf=0.0,\n",
       "                                              presort=False, random_state=None,\n",
       "                                              splitter='best'),\n",
       "             iid='warn', n_jobs=-1,\n",
       "             param_grid={'criterion': ['gini', 'entropy'],\n",
       "                         'max_depth': range(1, 10),\n",
       "                         'max_features': ['auto', 'log2'],\n",
       "                         'max_leaf_nodes': range(2, 10),\n",
       "                         'splitter': ['best', 'random']},\n",
       "             pre_dispatch='2*n_jobs', refit=True, return_train_score=False,\n",
       "             scoring='recall', verbose=0)"
      ]
     },
     "execution_count": 48,
     "metadata": {},
     "output_type": "execute_result"
    }
   ],
   "source": [
    "params = {\n",
    "    \n",
    "    'criterion':['gini','entropy'],\n",
    "    'splitter':['best','random'],\n",
    "    'max_depth':range(1,10),\n",
    "    'max_leaf_nodes':range(2,10,1),\n",
    "    'max_features':['auto','log2']\n",
    "    \n",
    "}\n",
    "\n",
    "dt = DecisionTreeClassifier()\n",
    "\n",
    "gs = GridSearchCV(estimator=dt,n_jobs=-1,cv=3,param_grid=params,scoring='recall')\n",
    "gs.fit(train_out,y)"
   ]
  },
  {
   "cell_type": "code",
   "execution_count": 49,
   "metadata": {},
   "outputs": [
    {
     "name": "stdout",
     "output_type": "stream",
     "text": [
      "0.5126951178981676\n"
     ]
    }
   ],
   "source": [
    "dt = DecisionTreeClassifier(**gs.best_params_)\n",
    "dt.fit(x_train,y_train)\n",
    "y_pred_dt = dt.predict(x_test)\n",
    "print(roc_auc_score(y_test,y_pred_dt))\n",
    "Model.append('Decision Tree')\n",
    "ROC_AUC_Accuracy.append(roc_auc_score(y_test,y_pred_dt))"
   ]
  },
  {
   "cell_type": "code",
   "execution_count": 50,
   "metadata": {},
   "outputs": [
    {
     "name": "stdout",
     "output_type": "stream",
     "text": [
      "              precision    recall  f1-score   support\n",
      "\n",
      "           0       0.51      0.97      0.67     23383\n",
      "           1       0.64      0.06      0.11     23201\n",
      "\n",
      "    accuracy                           0.51     46584\n",
      "   macro avg       0.57      0.51      0.39     46584\n",
      "weighted avg       0.57      0.51      0.39     46584\n",
      "\n"
     ]
    }
   ],
   "source": [
    "print(classification_report(y_test,y_pred_dt))"
   ]
  },
  {
   "cell_type": "code",
   "execution_count": 51,
   "metadata": {},
   "outputs": [
    {
     "data": {
      "text/plain": [
       "(['Logistic Regression', 'Naive Bayes', 'Decision Tree'],\n",
       " [0.8375685873205164, 0.816459776482632, 0.5126951178981676])"
      ]
     },
     "execution_count": 51,
     "metadata": {},
     "output_type": "execute_result"
    }
   ],
   "source": [
    "Model,ROC_AUC_Accuracy"
   ]
  },
  {
   "cell_type": "markdown",
   "metadata": {},
   "source": [
    "# Random Forest"
   ]
  },
  {
   "cell_type": "code",
   "execution_count": 52,
   "metadata": {},
   "outputs": [
    {
     "data": {
      "text/plain": [
       "RandomizedSearchCV(cv=3, error_score='raise-deprecating',\n",
       "                   estimator=RandomForestClassifier(bootstrap=True,\n",
       "                                                    class_weight=None,\n",
       "                                                    criterion='gini',\n",
       "                                                    max_depth=None,\n",
       "                                                    max_features='auto',\n",
       "                                                    max_leaf_nodes=None,\n",
       "                                                    min_impurity_decrease=0.0,\n",
       "                                                    min_impurity_split=None,\n",
       "                                                    min_samples_leaf=1,\n",
       "                                                    min_samples_split=2,\n",
       "                                                    min_weight_fraction_leaf=0.0,\n",
       "                                                    n_estimators='warn',\n",
       "                                                    n_jobs=None,\n",
       "                                                    oob_sc...\n",
       "                                                    random_state=None,\n",
       "                                                    verbose=0,\n",
       "                                                    warm_start=False),\n",
       "                   iid='warn', n_iter=10, n_jobs=-1,\n",
       "                   param_distributions={'criterion': ['gini', 'entropy'],\n",
       "                                        'max_depth': range(2, 10),\n",
       "                                        'max_features': ['auto', 'log2'],\n",
       "                                        'max_leaf_nodes': range(2, 10),\n",
       "                                        'n_estimators': range(10, 100, 10)},\n",
       "                   pre_dispatch='2*n_jobs', random_state=None, refit=True,\n",
       "                   return_train_score=False, scoring='recall', verbose=0)"
      ]
     },
     "execution_count": 52,
     "metadata": {},
     "output_type": "execute_result"
    }
   ],
   "source": [
    "params = {\n",
    "    \n",
    "    'n_estimators':range(10,100,10),\n",
    "    'criterion':['gini','entropy'],\n",
    "    'max_depth':range(2,10,1),\n",
    "    'max_leaf_nodes':range(2,10,1),\n",
    "    'max_features':['auto','log2']\n",
    "    \n",
    "}\n",
    "\n",
    "rf = RandomForestClassifier()\n",
    "\n",
    "rs = RandomizedSearchCV(estimator=rf,param_distributions=params,cv=3,scoring='recall',n_jobs=-1)\n",
    "rs.fit(train_out,y)"
   ]
  },
  {
   "cell_type": "code",
   "execution_count": 53,
   "metadata": {},
   "outputs": [
    {
     "name": "stdout",
     "output_type": "stream",
     "text": [
      "0.9019661993320394\n"
     ]
    }
   ],
   "source": [
    "rf = RandomForestClassifier(**rs.best_params_)\n",
    "rf.fit(x_train,y_train)\n",
    "y_pred_rf = rf.predict(x_test)\n",
    "print(roc_auc_score(y_test,y_pred_rf))\n",
    "Model.append('Random Forest')\n",
    "ROC_AUC_Accuracy.append(roc_auc_score(y_test,y_pred_rf))"
   ]
  },
  {
   "cell_type": "code",
   "execution_count": 54,
   "metadata": {},
   "outputs": [
    {
     "name": "stdout",
     "output_type": "stream",
     "text": [
      "              precision    recall  f1-score   support\n",
      "\n",
      "           0       0.94      0.86      0.90     23383\n",
      "           1       0.87      0.95      0.91     23201\n",
      "\n",
      "    accuracy                           0.90     46584\n",
      "   macro avg       0.91      0.90      0.90     46584\n",
      "weighted avg       0.91      0.90      0.90     46584\n",
      "\n"
     ]
    }
   ],
   "source": [
    "print(classification_report(y_test,y_pred_rf))"
   ]
  },
  {
   "cell_type": "code",
   "execution_count": 55,
   "metadata": {},
   "outputs": [
    {
     "data": {
      "text/plain": [
       "(['Logistic Regression', 'Naive Bayes', 'Decision Tree', 'Random Forest'],\n",
       " [0.8375685873205164,\n",
       "  0.816459776482632,\n",
       "  0.5126951178981676,\n",
       "  0.9019661993320394])"
      ]
     },
     "execution_count": 55,
     "metadata": {},
     "output_type": "execute_result"
    }
   ],
   "source": [
    "Model,ROC_AUC_Accuracy"
   ]
  },
  {
   "cell_type": "code",
   "execution_count": 56,
   "metadata": {},
   "outputs": [
    {
     "data": {
      "text/html": [
       "<div>\n",
       "<style scoped>\n",
       "    .dataframe tbody tr th:only-of-type {\n",
       "        vertical-align: middle;\n",
       "    }\n",
       "\n",
       "    .dataframe tbody tr th {\n",
       "        vertical-align: top;\n",
       "    }\n",
       "\n",
       "    .dataframe thead th {\n",
       "        text-align: right;\n",
       "    }\n",
       "</style>\n",
       "<table border=\"1\" class=\"dataframe\">\n",
       "  <thead>\n",
       "    <tr style=\"text-align: right;\">\n",
       "      <th></th>\n",
       "      <th>Model - VIF Data</th>\n",
       "      <th>Accuracy</th>\n",
       "    </tr>\n",
       "  </thead>\n",
       "  <tbody>\n",
       "    <tr>\n",
       "      <th>0</th>\n",
       "      <td>Logistic Regression</td>\n",
       "      <td>0.837569</td>\n",
       "    </tr>\n",
       "    <tr>\n",
       "      <th>1</th>\n",
       "      <td>Naive Bayes</td>\n",
       "      <td>0.816460</td>\n",
       "    </tr>\n",
       "    <tr>\n",
       "      <th>2</th>\n",
       "      <td>Decision Tree</td>\n",
       "      <td>0.512695</td>\n",
       "    </tr>\n",
       "    <tr>\n",
       "      <th>3</th>\n",
       "      <td>Random Forest</td>\n",
       "      <td>0.901966</td>\n",
       "    </tr>\n",
       "  </tbody>\n",
       "</table>\n",
       "</div>"
      ],
      "text/plain": [
       "      Model - VIF Data  Accuracy\n",
       "0  Logistic Regression  0.837569\n",
       "1          Naive Bayes  0.816460\n",
       "2        Decision Tree  0.512695\n",
       "3        Random Forest  0.901966"
      ]
     },
     "execution_count": 56,
     "metadata": {},
     "output_type": "execute_result"
    }
   ],
   "source": [
    "final_result = pd.DataFrame({'Model - VIF Data':Model,'Accuracy':ROC_AUC_Accuracy})\n",
    "final_result"
   ]
  },
  {
   "cell_type": "markdown",
   "metadata": {},
   "source": [
    "# Lasso"
   ]
  },
  {
   "cell_type": "code",
   "execution_count": 57,
   "metadata": {},
   "outputs": [
    {
     "name": "stdout",
     "output_type": "stream",
     "text": [
      "Best alpha using built-in LassoCV: 0.081968\n",
      "Best score using built-in LassoCV: 0.298537\n"
     ]
    }
   ],
   "source": [
    "from sklearn.linear_model import LassoCV, Lasso\n",
    "reg = LassoCV()\n",
    "reg.fit(x, y)\n",
    "print(\"Best alpha using built-in LassoCV: %f\" % reg.alpha_)\n",
    "print(\"Best score using built-in LassoCV: %f\" %reg.score(x,y))\n",
    "coef = pd.Series(reg.coef_, index = x.columns)"
   ]
  },
  {
   "cell_type": "code",
   "execution_count": 58,
   "metadata": {},
   "outputs": [
    {
     "name": "stdout",
     "output_type": "stream",
     "text": [
      "Lasso picked 7 variables and eliminated the other 33 variables\n"
     ]
    }
   ],
   "source": [
    "print(\"Lasso picked \" + str(sum(coef != 0)) + \" variables and eliminated the other \" +  \n",
    "      str(sum(coef == 0)) + \" variables\")"
   ]
  },
  {
   "cell_type": "code",
   "execution_count": 59,
   "metadata": {},
   "outputs": [
    {
     "data": {
      "text/plain": [
       "Text(0.5, 1.0, 'Feature importance using Lasso Model')"
      ]
     },
     "execution_count": 59,
     "metadata": {},
     "output_type": "execute_result"
    },
    {
     "data": {
      "image/png": "[encoded data removed]",
      "text/plain": [
       "<Figure size 1152x1440 with 1 Axes>"
      ]
     },
     "metadata": {
      "needs_background": "light"
     },
     "output_type": "display_data"
    }
   ],
   "source": [
    "imp_coef = coef.sort_values()\n",
    "import matplotlib.pyplot as plt\n",
    "plt.rcParams['figure.figsize'] = (16.0, 20.0)\n",
    "imp_coef.plot(kind = \"barh\")\n",
    "plt.title(\"Feature importance using Lasso Model\")"
   ]
  },
  {
   "cell_type": "markdown",
   "metadata": {},
   "source": [
    "8 columns\n",
    "\n",
    "columns:['qu_sum', 'pprice_sum', 'qa_sum', 'price_sum', 'total_discount_sum', 'cd_sum', 'odd_sum', 'cdd_sum']"
   ]
  },
  {
   "cell_type": "code",
   "execution_count": 60,
   "metadata": {},
   "outputs": [],
   "source": [
    "col_names=['qu_sum', 'pprice_sum', 'qa_sum', 'price_sum', 'total_discount_sum', 'cd_sum', 'odd_sum', 'cdd_sum']"
   ]
  },
  {
   "cell_type": "code",
   "execution_count": 61,
   "metadata": {},
   "outputs": [],
   "source": [
    "x=x[col_names]"
   ]
  },
  {
   "cell_type": "code",
   "execution_count": 62,
   "metadata": {},
   "outputs": [],
   "source": [
    "x_train,x_test,y_train,y_test = train_test_split(x,y,test_size=0.3,random_state=1990)"
   ]
  },
  {
   "cell_type": "code",
   "execution_count": 63,
   "metadata": {},
   "outputs": [
    {
     "data": {
      "text/plain": [
       "((108696, 8), (108696,), (46584, 8), (46584,))"
      ]
     },
     "execution_count": 63,
     "metadata": {},
     "output_type": "execute_result"
    }
   ],
   "source": [
    "x_train.shape,y_train.shape,x_test.shape,y_test.shape"
   ]
  },
  {
   "cell_type": "markdown",
   "metadata": {},
   "source": [
    "# Logistic Regression"
   ]
  },
  {
   "cell_type": "code",
   "execution_count": 64,
   "metadata": {},
   "outputs": [
    {
     "name": "stdout",
     "output_type": "stream",
     "text": [
      "              precision    recall  f1-score   support\n",
      "\n",
      "           0       0.75      0.84      0.79     23383\n",
      "           1       0.82      0.71      0.76     23201\n",
      "\n",
      "    accuracy                           0.78     46584\n",
      "   macro avg       0.78      0.78      0.78     46584\n",
      "weighted avg       0.78      0.78      0.78     46584\n",
      "\n"
     ]
    }
   ],
   "source": [
    "LR = LogisticRegression()\n",
    "LR.fit(x_train,y_train)\n",
    "y_pred_LR = LR.predict(x_test)\n",
    "print(classification_report(y_test,y_pred_LR))"
   ]
  },
  {
   "cell_type": "code",
   "execution_count": 65,
   "metadata": {},
   "outputs": [],
   "source": [
    "roc_auc_score(y_test,y_pred_LR)\n",
    "Model = ['Logistic Regression']\n",
    "ROC_AUC_Accuracy = [roc_auc_score(y_test,y_pred_LR)]"
   ]
  },
  {
   "cell_type": "markdown",
   "metadata": {},
   "source": [
    "# Naive Bayes"
   ]
  },
  {
   "cell_type": "code",
   "execution_count": 66,
   "metadata": {},
   "outputs": [
    {
     "name": "stdout",
     "output_type": "stream",
     "text": [
      "0.5988988093861665\n"
     ]
    }
   ],
   "source": [
    "nb = GaussianNB()\n",
    "nb.fit(x_train,y_train)\n",
    "y_pred_nb = nb.predict(x_test)\n",
    "print(roc_auc_score(y_test,y_pred_nb))\n",
    "Model.append('Naive Bayes')\n",
    "ROC_AUC_Accuracy.append(roc_auc_score(y_test,y_pred_nb))"
   ]
  },
  {
   "cell_type": "code",
   "execution_count": 67,
   "metadata": {},
   "outputs": [
    {
     "name": "stdout",
     "output_type": "stream",
     "text": [
      "              precision    recall  f1-score   support\n",
      "\n",
      "           0       0.56      0.96      0.71     23383\n",
      "           1       0.84      0.24      0.38     23201\n",
      "\n",
      "    accuracy                           0.60     46584\n",
      "   macro avg       0.70      0.60      0.54     46584\n",
      "weighted avg       0.70      0.60      0.54     46584\n",
      "\n"
     ]
    }
   ],
   "source": [
    "print(classification_report(y_test,y_pred_nb))"
   ]
  },
  {
   "cell_type": "code",
   "execution_count": 68,
   "metadata": {},
   "outputs": [
    {
     "data": {
      "text/plain": [
       "(['Logistic Regression', 'Naive Bayes'],\n",
       " [0.7772513390805917, 0.5988988093861665])"
      ]
     },
     "execution_count": 68,
     "metadata": {},
     "output_type": "execute_result"
    }
   ],
   "source": [
    "Model,ROC_AUC_Accuracy"
   ]
  },
  {
   "cell_type": "markdown",
   "metadata": {},
   "source": [
    "# Decision Tree"
   ]
  },
  {
   "cell_type": "code",
   "execution_count": 69,
   "metadata": {},
   "outputs": [
    {
     "data": {
      "text/plain": [
       "RandomizedSearchCV(cv=3, error_score='raise-deprecating',\n",
       "                   estimator=DecisionTreeClassifier(class_weight=None,\n",
       "                                                    criterion='gini',\n",
       "                                                    max_depth=None,\n",
       "                                                    max_features=None,\n",
       "                                                    max_leaf_nodes=None,\n",
       "                                                    min_impurity_decrease=0.0,\n",
       "                                                    min_impurity_split=None,\n",
       "                                                    min_samples_leaf=1,\n",
       "                                                    min_samples_split=2,\n",
       "                                                    min_weight_fraction_leaf=0.0,\n",
       "                                                    presort=False,\n",
       "                                                    random_state=None,\n",
       "                                                    splitter='best'),\n",
       "                   iid='warn', n_iter=10, n_jobs=-1,\n",
       "                   param_distributions={'criterion': ['gini', 'entropy'],\n",
       "                                        'max_depth': range(1, 10),\n",
       "                                        'max_features': ['auto', 'log2'],\n",
       "                                        'max_leaf_nodes': range(2, 10),\n",
       "                                        'splitter': ['best', 'random']},\n",
       "                   pre_dispatch='2*n_jobs', random_state=None, refit=True,\n",
       "                   return_train_score=False, scoring='recall', verbose=0)"
      ]
     },
     "execution_count": 69,
     "metadata": {},
     "output_type": "execute_result"
    }
   ],
   "source": [
    "params = {\n",
    "    \n",
    "    'criterion':['gini','entropy'],\n",
    "    'splitter':['best','random'],\n",
    "    'max_depth':range(1,10),\n",
    "    'max_leaf_nodes':range(2,10,1),\n",
    "    'max_features':['auto','log2']\n",
    "    \n",
    "}\n",
    "\n",
    "dt = DecisionTreeClassifier()\n",
    "\n",
    "rs = RandomizedSearchCV(estimator=dt,n_jobs=-1,cv=3,param_distributions=params,scoring='recall')\n",
    "rs.fit(x,y)"
   ]
  },
  {
   "cell_type": "code",
   "execution_count": 70,
   "metadata": {},
   "outputs": [
    {
     "name": "stdout",
     "output_type": "stream",
     "text": [
      "0.8544237091462134\n"
     ]
    }
   ],
   "source": [
    "dt = DecisionTreeClassifier(**rs.best_params_)\n",
    "dt.fit(x_train,y_train)\n",
    "y_pred_dt = dt.predict(x_test)\n",
    "print(roc_auc_score(y_test,y_pred_dt))\n",
    "Model.append('Decision Tree')\n",
    "ROC_AUC_Accuracy.append(roc_auc_score(y_test,y_pred_dt))"
   ]
  },
  {
   "cell_type": "code",
   "execution_count": 71,
   "metadata": {},
   "outputs": [
    {
     "name": "stdout",
     "output_type": "stream",
     "text": [
      "              precision    recall  f1-score   support\n",
      "\n",
      "           0       0.95      0.75      0.84     23383\n",
      "           1       0.79      0.96      0.87     23201\n",
      "\n",
      "    accuracy                           0.85     46584\n",
      "   macro avg       0.87      0.85      0.85     46584\n",
      "weighted avg       0.87      0.85      0.85     46584\n",
      "\n"
     ]
    }
   ],
   "source": [
    "print(classification_report(y_test,y_pred_dt))"
   ]
  },
  {
   "cell_type": "code",
   "execution_count": 72,
   "metadata": {},
   "outputs": [
    {
     "data": {
      "text/plain": [
       "(['Logistic Regression', 'Naive Bayes', 'Decision Tree'],\n",
       " [0.7772513390805917, 0.5988988093861665, 0.8544237091462134])"
      ]
     },
     "execution_count": 72,
     "metadata": {},
     "output_type": "execute_result"
    }
   ],
   "source": [
    "Model,ROC_AUC_Accuracy"
   ]
  },
  {
   "cell_type": "markdown",
   "metadata": {},
   "source": [
    "# Random Forest"
   ]
  },
  {
   "cell_type": "code",
   "execution_count": 73,
   "metadata": {},
   "outputs": [
    {
     "data": {
      "text/plain": [
       "RandomizedSearchCV(cv=5, error_score='raise-deprecating',\n",
       "                   estimator=RandomForestClassifier(bootstrap=True,\n",
       "                                                    class_weight=None,\n",
       "                                                    criterion='gini',\n",
       "                                                    max_depth=None,\n",
       "                                                    max_features='auto',\n",
       "                                                    max_leaf_nodes=None,\n",
       "                                                    min_impurity_decrease=0.0,\n",
       "                                                    min_impurity_split=None,\n",
       "                                                    min_samples_leaf=1,\n",
       "                                                    min_samples_split=2,\n",
       "                                                    min_weight_fraction_leaf=0.0,\n",
       "                                                    n_estimators='warn',\n",
       "                                                    n_jobs=None,\n",
       "                                                    oob_sc...\n",
       "                                                    random_state=None,\n",
       "                                                    verbose=0,\n",
       "                                                    warm_start=False),\n",
       "                   iid='warn', n_iter=10, n_jobs=-1,\n",
       "                   param_distributions={'criterion': ['gini', 'entropy'],\n",
       "                                        'max_depth': range(2, 10),\n",
       "                                        'max_features': ['auto', 'log2'],\n",
       "                                        'max_leaf_nodes': range(2, 10),\n",
       "                                        'n_estimators': range(10, 100, 10)},\n",
       "                   pre_dispatch='2*n_jobs', random_state=None, refit=True,\n",
       "                   return_train_score=False, scoring='recall', verbose=0)"
      ]
     },
     "execution_count": 73,
     "metadata": {},
     "output_type": "execute_result"
    }
   ],
   "source": [
    "params = {\n",
    "    \n",
    "    'n_estimators':range(10,100,10),\n",
    "    'criterion':['gini','entropy'],\n",
    "    'max_depth':range(2,10,1),\n",
    "    'max_leaf_nodes':range(2,10,1),\n",
    "    'max_features':['auto','log2']\n",
    "    \n",
    "}\n",
    "\n",
    "rf = RandomForestClassifier()\n",
    "\n",
    "rs = RandomizedSearchCV(estimator=rf,param_distributions=params,cv=5,scoring='recall',n_jobs=-1)\n",
    "rs.fit(x,y)"
   ]
  },
  {
   "cell_type": "code",
   "execution_count": 74,
   "metadata": {},
   "outputs": [
    {
     "name": "stdout",
     "output_type": "stream",
     "text": [
      "0.86778998551624\n"
     ]
    }
   ],
   "source": [
    "rf = RandomForestClassifier(**rs.best_params_)\n",
    "rf.fit(x_train,y_train)\n",
    "y_pred_rf = rf.predict(x_test)\n",
    "print(roc_auc_score(y_test,y_pred_rf))\n",
    "Model.append('Random Forest')\n",
    "ROC_AUC_Accuracy.append(roc_auc_score(y_test,y_pred_rf))"
   ]
  },
  {
   "cell_type": "code",
   "execution_count": 75,
   "metadata": {},
   "outputs": [
    {
     "name": "stdout",
     "output_type": "stream",
     "text": [
      "              precision    recall  f1-score   support\n",
      "\n",
      "           0       0.87      0.87      0.87     23383\n",
      "           1       0.87      0.87      0.87     23201\n",
      "\n",
      "    accuracy                           0.87     46584\n",
      "   macro avg       0.87      0.87      0.87     46584\n",
      "weighted avg       0.87      0.87      0.87     46584\n",
      "\n"
     ]
    }
   ],
   "source": [
    "print(classification_report(y_test,y_pred_rf))"
   ]
  },
  {
   "cell_type": "code",
   "execution_count": 76,
   "metadata": {},
   "outputs": [
    {
     "data": {
      "text/plain": [
       "(['Logistic Regression', 'Naive Bayes', 'Decision Tree', 'Random Forest'],\n",
       " [0.7772513390805917,\n",
       "  0.5988988093861665,\n",
       "  0.8544237091462134,\n",
       "  0.86778998551624])"
      ]
     },
     "execution_count": 76,
     "metadata": {},
     "output_type": "execute_result"
    }
   ],
   "source": [
    "Model,ROC_AUC_Accuracy"
   ]
  },
  {
   "cell_type": "code",
   "execution_count": 77,
   "metadata": {},
   "outputs": [
    {
     "data": {
      "text/html": [
       "<div>\n",
       "<style scoped>\n",
       "    .dataframe tbody tr th:only-of-type {\n",
       "        vertical-align: middle;\n",
       "    }\n",
       "\n",
       "    .dataframe tbody tr th {\n",
       "        vertical-align: top;\n",
       "    }\n",
       "\n",
       "    .dataframe thead th {\n",
       "        text-align: right;\n",
       "    }\n",
       "</style>\n",
       "<table border=\"1\" class=\"dataframe\">\n",
       "  <thead>\n",
       "    <tr style=\"text-align: right;\">\n",
       "      <th></th>\n",
       "      <th>Model</th>\n",
       "      <th>Accuracy</th>\n",
       "    </tr>\n",
       "  </thead>\n",
       "  <tbody>\n",
       "    <tr>\n",
       "      <th>0</th>\n",
       "      <td>Logistic Regression</td>\n",
       "      <td>0.777251</td>\n",
       "    </tr>\n",
       "    <tr>\n",
       "      <th>1</th>\n",
       "      <td>Naive Bayes</td>\n",
       "      <td>0.598899</td>\n",
       "    </tr>\n",
       "    <tr>\n",
       "      <th>2</th>\n",
       "      <td>Decision Tree</td>\n",
       "      <td>0.854424</td>\n",
       "    </tr>\n",
       "    <tr>\n",
       "      <th>3</th>\n",
       "      <td>Random Forest</td>\n",
       "      <td>0.867790</td>\n",
       "    </tr>\n",
       "  </tbody>\n",
       "</table>\n",
       "</div>"
      ],
      "text/plain": [
       "                 Model  Accuracy\n",
       "0  Logistic Regression  0.777251\n",
       "1          Naive Bayes  0.598899\n",
       "2        Decision Tree  0.854424\n",
       "3        Random Forest  0.867790"
      ]
     },
     "execution_count": 77,
     "metadata": {},
     "output_type": "execute_result"
    }
   ],
   "source": [
    "final_result = pd.DataFrame({'Model':Model,'Accuracy':ROC_AUC_Accuracy})\n",
    "final_result"
   ]
  }
 ],
 "metadata": {
  "kernelspec": {
   "display_name": "Python 3",
   "language": "python",
   "name": "python3"
  },
  "language_info": {
   "codemirror_mode": {
    "name": "ipython",
    "version": 3
   },
   "file_extension": ".py",
   "mimetype": "text/x-python",
   "name": "python",
   "nbconvert_exporter": "python",
   "pygments_lexer": "ipython3",
   "version": "3.6.6"
  }
 },
 "nbformat": 4,
 "nbformat_minor": 1
}
